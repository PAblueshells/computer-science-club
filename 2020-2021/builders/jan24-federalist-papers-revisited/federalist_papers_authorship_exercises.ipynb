{
  "nbformat": 4,
  "nbformat_minor": 0,
  "metadata": {
    "kernelspec": {
      "display_name": "Python 3",
      "language": "python",
      "name": "python3"
    },
    "language_info": {
      "codemirror_mode": {
        "name": "ipython",
        "version": 3
      },
      "file_extension": ".py",
      "mimetype": "text/x-python",
      "name": "python",
      "nbconvert_exporter": "python",
      "pygments_lexer": "ipython3",
      "version": "3.7.0"
    },
    "colab": {
      "name": "federalist_papers_authorship.ipynb",
      "provenance": [],
      "collapsed_sections": [],
      "toc_visible": true
    }
  },
  "cells": [
    {
      "cell_type": "markdown",
      "metadata": {
        "id": "-L5a3DGCldTW"
      },
      "source": [
        "# Federalist Papers Authorship Attribution\n",
        "<img src=https://constitutioncenter.org/images/uploads/blog/Federalist_Papers_authors_twitter.jpg width=400></img>\n",
        "\n",
        "\n",
        "The *Federalist Papers* is a collection of 85 essays written by Alexander Hamilton, James Madison, and John Hay under the pseudonym \"Publius\" in 1787 and 1788. They advocated for the ratification of the Constitution and are widely considered to be foundational to America's system of government.\n",
        "\n",
        "The authorship of 12 of the essays is disputed, as they are claimed by both Madison and Hamilton. We can attempt to resolve this dispute using **computational stylometry**, which uses statistical methods to characterize the stylistic elements of a text or across texts of a certain author.\n",
        "\n",
        "Authorship attribution of the *Federalist Papers* is a well-studied problem, and the methodology we'll be looking at today is a simple approach based off of [this](https://kanishka.xyz/post/my-first-few-open-source-contributions-authorship-attribution-of-the-federalist-papers/) blog post by Kanishka Misra."
      ]
    },
    {
      "cell_type": "markdown",
      "metadata": {
        "id": "pWPBctM_qDKd"
      },
      "source": [
        "### Loading the data\n",
        "Add the folder [here](https://drive.google.com/drive/folders/1eHe0iK2VOcY7MQCy3kNthNIGoMNdG3Qa?usp=sharing) to your Drive. The below code makes your drive accessible to this notebook, so follow the instructions that appear once you run the cell.\n"
      ]
    },
    {
      "cell_type": "code",
      "metadata": {
        "colab": {
          "base_uri": "https://localhost:8080/"
        },
        "id": "T0XH-Ozhlwao",
        "outputId": "dd4e5b96-965a-416d-abcb-bb54684282a4"
      },
      "source": [
        "from google.colab import drive \n",
        "drive.mount('/content/drive')"
      ],
      "execution_count": null,
      "outputs": [
        {
          "output_type": "stream",
          "text": [
            "Drive already mounted at /content/drive; to attempt to forcibly remount, call drive.mount(\"/content/drive\", force_remount=True).\n"
          ],
          "name": "stdout"
        }
      ]
    },
    {
      "cell_type": "markdown",
      "metadata": {
        "id": "o_CLlz_hqLMH"
      },
      "source": [
        "Make sure that you have correctly given yourself access to the materials! `ls` is a command to list the contents of the specified folder, so the output should be: `disputed  hamilton  jay  madison` (the 4 subfolders in `papers`)"
      ]
    },
    {
      "cell_type": "code",
      "metadata": {
        "colab": {
          "base_uri": "https://localhost:8080/"
        },
        "id": "VyJrYBlDl9Oz",
        "outputId": "b3c5e9da-9748-43cf-953b-57fc6a2bdaae"
      },
      "source": [
        "papers = \"/content/drive/MyDrive/papers\"\n",
        "!ls $papers"
      ],
      "execution_count": null,
      "outputs": [
        {
          "output_type": "stream",
          "text": [
            "disputed  hamilton  jay  madison\n"
          ],
          "name": "stdout"
        }
      ]
    },
    {
      "cell_type": "markdown",
      "metadata": {
        "id": "F-gbBCpYq0xY"
      },
      "source": [
        "Now, let's load the papers. This code generates a list of the papers written by Hamilton, which can be found in `papers/hamilton`. Write the code to identify the papers by Madison and the disputed papers as well (which can be found in `papers/madison` and in `papers/disputed`)."
      ]
    },
    {
      "cell_type": "code",
      "metadata": {
        "colab": {
          "base_uri": "https://localhost:8080/"
        },
        "id": "PWLyS1SKsIPz",
        "outputId": "ea947d90-33e0-458d-cefd-df7c1eb02720"
      },
      "source": [
        "import glob\n",
        "import os\n",
        "\n",
        "# Note: glob.glob() returns a list of paths matching a pathname pattern.\n",
        "# The pattern \"papers/hamilton/*\" uses * to signify all files in \"papers/hamilton\"\n",
        "hamilton = glob.glob(f'{papers}/hamilton/*')\n",
        "print('contents of hamilton: ', hamilton)\n",
        "\n",
        "# TODO: uncomment and complete the below code!\n",
        "# madison = IMPLEMENT!\n",
        "# disputed = IMPLEMENT!"
      ],
      "execution_count": null,
      "outputs": [
        {
          "output_type": "stream",
          "text": [
            "contents of hamilton:  ['/content/drive/MyDrive/papers/hamilton/30.txt', '/content/drive/MyDrive/papers/hamilton/33.txt', '/content/drive/MyDrive/papers/hamilton/31.txt', '/content/drive/MyDrive/papers/hamilton/24.txt', '/content/drive/MyDrive/papers/hamilton/25.txt', '/content/drive/MyDrive/papers/hamilton/26.txt', '/content/drive/MyDrive/papers/hamilton/29.txt', '/content/drive/MyDrive/papers/hamilton/84.txt', '/content/drive/MyDrive/papers/hamilton/71.txt', '/content/drive/MyDrive/papers/hamilton/36.txt', '/content/drive/MyDrive/papers/hamilton/60.txt', '/content/drive/MyDrive/papers/hamilton/67.txt', '/content/drive/MyDrive/papers/hamilton/8.txt', '/content/drive/MyDrive/papers/hamilton/73.txt', '/content/drive/MyDrive/papers/hamilton/9.txt', '/content/drive/MyDrive/papers/hamilton/7.txt', '/content/drive/MyDrive/papers/hamilton/16.txt', '/content/drive/MyDrive/papers/hamilton/79.txt', '/content/drive/MyDrive/papers/hamilton/74.txt', '/content/drive/MyDrive/papers/hamilton/83.txt', '/content/drive/MyDrive/papers/hamilton/17.txt', '/content/drive/MyDrive/papers/hamilton/69.txt', '/content/drive/MyDrive/papers/hamilton/32.txt', '/content/drive/MyDrive/papers/hamilton/77.txt', '/content/drive/MyDrive/papers/hamilton/15.txt', '/content/drive/MyDrive/papers/hamilton/70_2.txt', '/content/drive/MyDrive/papers/hamilton/21.txt', '/content/drive/MyDrive/papers/hamilton/66.txt', '/content/drive/MyDrive/papers/hamilton/76.txt', '/content/drive/MyDrive/papers/hamilton/61.txt', '/content/drive/MyDrive/papers/hamilton/22.txt', '/content/drive/MyDrive/papers/hamilton/70.txt', '/content/drive/MyDrive/papers/hamilton/68.txt', '/content/drive/MyDrive/papers/hamilton/11.txt', '/content/drive/MyDrive/papers/hamilton/35.txt', '/content/drive/MyDrive/papers/hamilton/65.txt', '/content/drive/MyDrive/papers/hamilton/1.txt', '/content/drive/MyDrive/papers/hamilton/78.txt', '/content/drive/MyDrive/papers/hamilton/13.txt', '/content/drive/MyDrive/papers/hamilton/81.txt', '/content/drive/MyDrive/papers/hamilton/85.txt', '/content/drive/MyDrive/papers/hamilton/28.txt', '/content/drive/MyDrive/papers/hamilton/23.txt', '/content/drive/MyDrive/papers/hamilton/6.txt', '/content/drive/MyDrive/papers/hamilton/27.txt', '/content/drive/MyDrive/papers/hamilton/72.txt', '/content/drive/MyDrive/papers/hamilton/12.txt', '/content/drive/MyDrive/papers/hamilton/80.txt', '/content/drive/MyDrive/papers/hamilton/82.txt', '/content/drive/MyDrive/papers/hamilton/75.txt', '/content/drive/MyDrive/papers/hamilton/34.txt', '/content/drive/MyDrive/papers/hamilton/59.txt']\n"
          ],
          "name": "stdout"
        }
      ]
    },
    {
      "cell_type": "markdown",
      "metadata": {
        "id": "10-E0Fu5uXML"
      },
      "source": [
        "Lets take a look at the files' contents."
      ]
    },
    {
      "cell_type": "code",
      "metadata": {
        "colab": {
          "base_uri": "https://localhost:8080/"
        },
        "id": "ZCIBPyXruaEH",
        "outputId": "22c082a1-e9db-437b-cddc-74f5b8565f03"
      },
      "source": [
        "filename = madison[0]\n",
        "print(f'The path to the first paper written by Madison is: {filename}')\n",
        "print(\"The first 500 characters of the file:\\n\\n\")\n",
        "with open(filename) as f:\n",
        "    print(f.read()[:500])"
      ],
      "execution_count": null,
      "outputs": [
        {
          "output_type": "stream",
          "text": [
            "The path to the first paper written by Madison is: /content/drive/MyDrive/papers/madison/18.txt\n",
            "The first 500 characters of the file:\n",
            "\n",
            "\n",
            " 18\n",
            "\n",
            "\n",
            "\n",
            "The Same Subject Continued\n",
            "\n",
            "(The Insufficiency of the Present Confederation to Preserve the\n",
            "Union)\n",
            "\n",
            "For the Independent Journal.\n",
            "\n",
            "\n",
            "\n",
            "HAMILTON AND MADISON\n",
            "\n",
            "\n",
            "\n",
            "To the People of the State of New York:\n",
            "\n",
            "AMONG the confederacies of antiquity, the most considerable was\n",
            "that of the Grecian republics, associated under the Amphictyonic\n",
            "council. From the best accounts transmitted of this celebrated\n",
            "institution, it bore a very instructive analogy to the present\n",
            "Confederation of the American States.\n",
            "\n",
            "Th\n"
          ],
          "name": "stdout"
        }
      ]
    },
    {
      "cell_type": "markdown",
      "metadata": {
        "id": "A7YLIZY5uUBN"
      },
      "source": [
        "Looks good, but let's do some light formatting to remove extraneous information, like new lines (`\\n`) and carriage returns (`\\r`). Feel free to ignore this portion of the code."
      ]
    },
    {
      "cell_type": "code",
      "metadata": {
        "id": "Q2sln8dtwQId"
      },
      "source": [
        "madison_papers = []\n",
        "for filename in madison:\n",
        "    with open(filename) as f:\n",
        "        madison_papers.append(f.read().replace('\\n', ' ').replace('\\r',''))\n",
        "\n",
        "hamilton_papers = []\n",
        "for filename in hamilton:\n",
        "    with open(filename) as f:\n",
        "        hamilton_papers.append(f.read().replace('\\n', ' ').replace('\\r',''))\n",
        "\n",
        "disputed_papers = []\n",
        "for filename in disputed:\n",
        "    with open(filename) as f:\n",
        "        disputed_papers.append(f.read().replace('\\n', ' ').replace('\\r',''))"
      ],
      "execution_count": null,
      "outputs": []
    },
    {
      "cell_type": "markdown",
      "metadata": {
        "id": "ZfYHz-1Pww1c"
      },
      "source": [
        "Now, the paper we looked at should be one long, (relatively) clean string.\n",
        "\n"
      ]
    },
    {
      "cell_type": "code",
      "metadata": {
        "colab": {
          "base_uri": "https://localhost:8080/"
        },
        "id": "21g-_VgxwwNV",
        "outputId": "a2182650-207f-47f4-8068-c556e1c4b3f0"
      },
      "source": [
        "print(madison_papers[0])"
      ],
      "execution_count": null,
      "outputs": [
        {
          "output_type": "stream",
          "text": [
            " 18    The Same Subject Continued  (The Insufficiency of the Present Confederation to Preserve the Union)  For the Independent Journal.    HAMILTON AND MADISON    To the People of the State of New York:  AMONG the confederacies of antiquity, the most considerable was that of the Grecian republics, associated under the Amphictyonic council. From the best accounts transmitted of this celebrated institution, it bore a very instructive analogy to the present Confederation of the American States.  The members retained the character of independent and sovereign states, and had equal votes in the federal council. This council had a general authority to propose and resolve whatever it judged necessary for the common welfare of Greece; to declare and carry on war; to decide, in the last resort, all controversies between the members; to fine the aggressing party; to employ the whole force of the confederacy against the disobedient; to admit new members. The Amphictyons were the guardians of religion, and of the immense riches belonging to the temple of Delphos, where they had the right of jurisdiction in controversies between the inhabitants and those who came to consult the oracle. As a further provision for the efficacy of the federal powers, they took an oath mutually to defend and protect the united cities, to punish the violators of this oath, and to inflict vengeance on sacrilegious despoilers of the temple.  In theory, and upon paper, this apparatus of powers seems amply sufficient for all general purposes. In several material instances, they exceed the powers enumerated in the articles of confederation. The Amphictyons had in their hands the superstition of the times, one of the principal engines by which government was then maintained; they had a declared authority to use coercion against refractory cities, and were bound by oath to exert this authority on the necessary occasions.  Very different, nevertheless, was the experiment from the theory. The powers, like those of the present Congress, were administered by deputies appointed wholly by the cities in their political capacities; and exercised over them in the same capacities. Hence the weakness, the disorders, and finally the destruction of the confederacy. The more powerful members, instead of being kept in awe and subordination, tyrannized successively over all the rest. Athens, as we learn from Demosthenes, was the arbiter of Greece seventy-three years. The Lacedaemonians next governed it twenty-nine years; at a subsequent period, after the battle of Leuctra, the Thebans had their turn of domination.  It happened but too often, according to Plutarch, that the deputies of the strongest cities awed and corrupted those of the weaker; and that judgment went in favor of the most powerful party.  Even in the midst of defensive and dangerous wars with Persia and Macedon, the members never acted in concert, and were, more or fewer of them, eternally the dupes or the hirelings of the common enemy. The intervals of foreign war were filled up by domestic vicissitudes convulsions, and carnage.  After the conclusion of the war with Xerxes, it appears that the Lacedaemonians required that a number of the cities should be turned out of the confederacy for the unfaithful part they had acted. The Athenians, finding that the Lacedaemonians would lose fewer partisans by such a measure than themselves, and would become masters of the public deliberations, vigorously opposed and defeated the attempt. This piece of history proves at once the inefficiency of the union, the ambition and jealousy of its most powerful members, and the dependent and degraded condition of the rest. The smaller members, though entitled by the theory of their system to revolve in equal pride and majesty around the common center, had become, in fact, satellites of the orbs of primary magnitude.  Had the Greeks, says the Abbe Milot, been as wise as they were courageous, they would have been admonished by experience of the necessity of a closer union, and would have availed themselves of the peace which followed their success against the Persian arms, to establish such a reformation. Instead of this obvious policy, Athens and Sparta, inflated with the victories and the glory they had acquired, became first rivals and then enemies; and did each other infinitely more mischief than they had suffered from Xerxes. Their mutual jealousies, fears, hatreds, and injuries ended in the celebrated Peloponnesian war; which itself ended in the ruin and slavery of the Athenians who had begun it.  As a weak government, when not at war, is ever agitated by internal dissentions, so these never fail to bring on fresh calamities from abroad. The Phocians having ploughed up some consecrated ground belonging to the temple of Apollo, the Amphictyonic council, according to the superstition of the age, imposed a fine on the sacrilegious offenders. The Phocians, being abetted by Athens and Sparta, refused to submit to the decree. The Thebans, with others of the cities, undertook to maintain the authority of the Amphictyons, and to avenge the violated god. The latter, being the weaker party, invited the assistance of Philip of Macedon, who had secretly fostered the contest. Philip gladly seized the opportunity of executing the designs he had long planned against the liberties of Greece. By his intrigues and bribes he won over to his interests the popular leaders of several cities; by their influence and votes, gained admission into the Amphictyonic council; and by his arts and his arms, made himself master of the confederacy.  Such were the consequences of the fallacious principle on which this interesting establishment was founded. Had Greece, says a judicious observer on her fate, been united by a stricter confederation, and persevered in her union, she would never have worn the chains of Macedon; and might have proved a barrier to the vast projects of Rome.  The Achaean league, as it is called, was another society of Grecian republics, which supplies us with valuable instruction.  The Union here was far more intimate, and its organization much wiser, than in the preceding instance. It will accordingly appear, that though not exempt from a similar catastrophe, it by no means equally deserved it.  The cities composing this league retained their municipal jurisdiction, appointed their own officers, and enjoyed a perfect equality. The senate, in which they were represented, had the sole and exclusive right of peace and war; of sending and receiving ambassadors; of entering into treaties and alliances; of appointing a chief magistrate or praetor, as he was called, who commanded their armies, and who, with the advice and consent of ten of the senators, not only administered the government in the recess of the senate, but had a great share in its deliberations, when assembled. According to the primitive constitution, there were two praetors associated in the administration; but on trial a single one was preferred.  It appears that the cities had all the same laws and customs, the same weights and measures, and the same money. But how far this effect proceeded from the authority of the federal council is left in uncertainty. It is said only that the cities were in a manner compelled to receive the same laws and usages. When Lacedaemon was brought into the league by Philopoemen, it was attended with an abolition of the institutions and laws of Lycurgus, and an adoption of those of the Achaeans. The Amphictyonic confederacy, of which she had been a member, left her in the full exercise of her government and her legislation. This circumstance alone proves a very material difference in the genius of the two systems.  It is much to be regretted that such imperfect monuments remain of this curious political fabric. Could its interior structure and regular operation be ascertained, it is probable that more light would be thrown by it on the science of federal government, than by any of the like experiments with which we are acquainted.  One important fact seems to be witnessed by all the historians who take notice of Achaean affairs. It is, that as well after the renovation of the league by Aratus, as before its dissolution by the arts of Macedon, there was infinitely more of moderation and justice in the administration of its government, and less of violence and sedition in the people, than were to be found in any of the cities exercising SINGLY all the prerogatives of sovereignty. The Abbe Mably, in his observations on Greece, says that the popular government, which was so tempestuous elsewhere, caused no disorders in the members of the Achaean republic, BECAUSE IT WAS THERE TEMPERED BY THE GENERAL AUTHORITY AND LAWS OF THE CONFEDERACY.  We are not to conclude too hastily, however, that faction did not, in a certain degree, agitate the particular cities; much less that a due subordination and harmony reigned in the general system. The contrary is sufficiently displayed in the vicissitudes and fate of the republic.  Whilst the Amphictyonic confederacy remained, that of the Achaeans, which comprehended the less important cities only, made little figure on the theatre of Greece. When the former became a victim to Macedon, the latter was spared by the policy of Philip and Alexander. Under the successors of these princes, however, a different policy prevailed. The arts of division were practiced among the Achaeans. Each city was seduced into a separate interest; the union was dissolved. Some of the cities fell under the tyranny of Macedonian garrisons; others under that of usurpers springing out of their own confusions. Shame and oppression erelong awaken their love of liberty. A few cities reunited. Their example was followed by others, as opportunities were found of cutting off their tyrants. The league soon embraced almost the whole Peloponnesus. Macedon saw its progress; but was hindered by internal dissensions from stopping it. All Greece caught the enthusiasm and seemed ready to unite in one confederacy, when the jealousy and envy in Sparta and Athens, of the rising glory of the Achaeans, threw a fatal damp on the enterprise. The dread of the Macedonian power induced the league to court the alliance of the Kings of Egypt and Syria, who, as successors of Alexander, were rivals of the king of Macedon. This policy was defeated by Cleomenes, king of Sparta, who was led by his ambition to make an unprovoked attack on his neighbors, the Achaeans, and who, as an enemy to Macedon, had interest enough with the Egyptian and Syrian princes to effect a breach of their engagements with the league.  The Achaeans were now reduced to the dilemma of submitting to Cleomenes, or of supplicating the aid of Macedon, its former oppressor. The latter expedient was adopted. The contests of the Greeks always afforded a pleasing opportunity to that powerful neighbor of intermeddling in their affairs. A Macedonian army quickly appeared. Cleomenes was vanquished. The Achaeans soon experienced, as often happens, that a victorious and powerful ally is but another name for a master. All that their most abject compliances could obtain from him was a toleration of the exercise of their laws. Philip, who was now on the throne of Macedon, soon provoked by his tyrannies, fresh combinations among the Greeks. The Achaeans, though weakened by internal dissensions and by the revolt of Messene, one of its members, being joined by the AEtolians and Athenians, erected the standard of opposition. Finding themselves, though thus supported, unequal to the undertaking, they once more had recourse to the dangerous expedient of introducing the succor of foreign arms. The Romans, to whom the invitation was made, eagerly embraced it. Philip was conquered; Macedon subdued. A new crisis ensued to the league. Dissensions broke out among it members. These the Romans fostered. Callicrates and other popular leaders became mercenary instruments for inveigling their countrymen. The more effectually to nourish discord and disorder the Romans had, to the astonishment of those who confided in their sincerity, already proclaimed universal liberty1 throughout Greece. With the same insidious views, they now seduced the members from the league, by representing to their pride the violation it committed on their sovereignty. By these arts this union, the last hope of Greece, the last hope of ancient liberty, was torn into pieces; and such imbecility and distraction introduced, that the arms of Rome found little difficulty in completing the ruin which their arts had commenced. The Achaeans were cut to pieces, and Achaia loaded with chains, under which it is groaning at this hour.  I have thought it not superfluous to give the outlines of this important portion of history; both because it teaches more than one lesson, and because, as a supplement to the outlines of the Achaean constitution, it emphatically illustrates the tendency of federal bodies rather to anarchy among the members, than to tyranny in the head.  PUBLIUS.  1 This was but another name more specious for the independence of the members on the federal head.      \n"
          ],
          "name": "stdout"
        }
      ]
    },
    {
      "cell_type": "markdown",
      "metadata": {
        "id": "ir3ljIZnxpmH"
      },
      "source": [
        "For convenience, let's also make all of the papers by each author available as one long string. Complete the following code using Python's String.join() function."
      ]
    },
    {
      "cell_type": "code",
      "metadata": {
        "id": "sT7RhXvmxbSL"
      },
      "source": [
        "# madison_papers_all = IMPLEMENT!\n",
        "# hamilton_papers_all = IMPLEMENT!\n",
        "# disputed_papers_all = IMPLEMENT!"
      ],
      "execution_count": null,
      "outputs": []
    },
    {
      "cell_type": "markdown",
      "metadata": {
        "id": "OrboMxxgyLHE"
      },
      "source": [
        "### A closer look at the texts\n",
        "We'll use Python's Natural Language Toolkit (`nltk`) to analyze the texts. Here is an example of how to use NLTK to tokenize a text (aka split it into words)."
      ]
    },
    {
      "cell_type": "code",
      "metadata": {
        "colab": {
          "base_uri": "https://localhost:8080/"
        },
        "id": "8gB27cF_yK3q",
        "outputId": "292aedc7-e490-4281-88fe-8690453c053d"
      },
      "source": [
        "import nltk\n",
        "from nltk import word_tokenize\n",
        "nltk.download('punkt')\n",
        "text = \"This is a sample piece of text! Exciting stuff.\"\n",
        "tokens = nltk.word_tokenize(text)\n",
        "print(tokens)"
      ],
      "execution_count": null,
      "outputs": [
        {
          "output_type": "stream",
          "text": [
            "['This', 'is', 'a', 'sample', 'piece', 'of', 'text', '!', 'Exciting', 'stuff', '.']\n"
          ],
          "name": "stdout"
        }
      ]
    },
    {
      "cell_type": "markdown",
      "metadata": {
        "id": "4N2LCMa0z20k"
      },
      "source": [
        "Write some code to tokenize the strings `hamilton_papers_all`, `madison_papers_all`, and `disputed_papers_all` and fill in the `tokens` dictionary."
      ]
    },
    {
      "cell_type": "code",
      "metadata": {
        "id": "MGoiHOaBP_RB"
      },
      "source": [
        "tokens = {\n",
        "    'hamilton': None,\n",
        "    'madison': None,\n",
        "    'disputed': None\n",
        "}\n",
        "# TODO\n",
        "# tokens['hamilton'] = IMPLEMENT!\n",
        "# tokens['madison'] = IMPLEMENT!\n",
        "# tokens['disputed'] = IMPLEMENT!"
      ],
      "execution_count": null,
      "outputs": []
    },
    {
      "cell_type": "markdown",
      "metadata": {
        "id": "XiAeX4OVScAX"
      },
      "source": [
        "Let's take a look at what words are most frequent. "
      ]
    },
    {
      "cell_type": "code",
      "metadata": {
        "colab": {
          "base_uri": "https://localhost:8080/"
        },
        "id": "3z-6jn5kSeE9",
        "outputId": "80c731e5-b8ed-4a0b-fc33-d462ee6e9ff8"
      },
      "source": [
        "from collections import Counter\n",
        "def most_frequent(words, n=10):\n",
        "    \"\"\"The most frequent tokens in the given list\"\"\"\n",
        "    tups = Counter.most_common(Counter(words), n)\n",
        "    return [tup[0] for tup in tups]\n",
        "\n",
        "# Write some code to print out the most frequent words in each set of tokens\n",
        "# TODO: IMPLEMENT!"
      ],
      "execution_count": null,
      "outputs": [
        {
          "output_type": "stream",
          "text": [
            "['the', ',', 'of', 'to', '.', 'in', 'and', 'a', 'be', 'that']\n"
          ],
          "name": "stdout"
        }
      ]
    },
    {
      "cell_type": "markdown",
      "metadata": {
        "id": "rjkWyDF3REbj"
      },
      "source": [
        "These don't seem too relevant. Let's take out some of the most common (and least informative) words."
      ]
    },
    {
      "cell_type": "code",
      "metadata": {
        "colab": {
          "base_uri": "https://localhost:8080/"
        },
        "id": "qK3xD_0-QMum",
        "outputId": "8b2ccb88-10a8-441a-bc76-c993f155b2ec"
      },
      "source": [
        "nltk.download('stopwords')\n",
        "from nltk.corpus import stopwords\n",
        "blocklist = stopwords.words(\"english\")\n",
        "blocklist += ['would','may']\n",
        "blocklist += [',','.','?',';']\n",
        "\n",
        "for author in tokens.keys():\n",
        "    tokens[author] = [word for word in tokens[author] if word.lower() not in blocklist]"
      ],
      "execution_count": null,
      "outputs": [
        {
          "output_type": "stream",
          "text": [
            "[nltk_data] Downloading package stopwords to /root/nltk_data...\n",
            "[nltk_data]   Package stopwords is already up-to-date!\n"
          ],
          "name": "stdout"
        }
      ]
    },
    {
      "cell_type": "markdown",
      "metadata": {
        "id": "izGd-nXYTGVv"
      },
      "source": [
        "Let's try again."
      ]
    },
    {
      "cell_type": "code",
      "metadata": {
        "colab": {
          "base_uri": "https://localhost:8080/"
        },
        "id": "-LdBRyleTEz4",
        "outputId": "15682d10-d3ae-44a4-e2ba-2e1d796b4c82"
      },
      "source": [
        "# Write some code to take another look at the most frequent words used by\n",
        "# hamilton, madison, and the disputed papers\n",
        "\n",
        "# TODO: implement"
      ],
      "execution_count": null,
      "outputs": [
        {
          "output_type": "stream",
          "text": [
            "['States', 'State', 'government', 'power', 'upon', 'one', 'must', 'national', 'might', 'people']\n",
            "['States', 'government', 'State', 'power', 'powers', 'one', 'people', 'Constitution', 'federal', 'must']\n",
            "['people', 'government', 'States', 'State', 'representatives', 'every', 'one', 'number', 'must', 'federal']\n"
          ],
          "name": "stdout"
        }
      ]
    },
    {
      "cell_type": "markdown",
      "metadata": {
        "id": "RtM8JIyvXnxZ"
      },
      "source": [
        "### Generating Stylometric Features\n",
        "\n",
        "There are many ways to approach this authorship attribution problem. We are going to use the approach of counting **n-gram frequencies**.\n",
        "\n",
        "An **n-gram** is just a sequence of words or characters that has n elements. Below is some code that generates 2-grams from the words used by Hamilton. "
      ]
    },
    {
      "cell_type": "code",
      "metadata": {
        "colab": {
          "base_uri": "https://localhost:8080/"
        },
        "id": "IZOTuPmfXnHc",
        "outputId": "379aee04-4428-46fe-dd3c-8ab3f261b184"
      },
      "source": [
        "from nltk.util import ngrams\n",
        "list(ngrams(tokens['hamilton'], 2))[:10]"
      ],
      "execution_count": null,
      "outputs": [
        {
          "output_type": "execute_result",
          "data": {
            "text/plain": [
              "[('30', 'Concerning'),\n",
              " ('Concerning', 'General'),\n",
              " ('General', 'Power'),\n",
              " ('Power', 'Taxation'),\n",
              " ('Taxation', 'New'),\n",
              " ('New', 'York'),\n",
              " ('York', 'Packet'),\n",
              " ('Packet', 'Friday'),\n",
              " ('Friday', 'December'),\n",
              " ('December', '28')]"
            ]
          },
          "metadata": {
            "tags": []
          },
          "execution_count": 13
        }
      ]
    },
    {
      "cell_type": "markdown",
      "metadata": {
        "id": "PT_wSZBlYJjC"
      },
      "source": [
        "We can also make n-grams on the **character** level."
      ]
    },
    {
      "cell_type": "code",
      "metadata": {
        "colab": {
          "base_uri": "https://localhost:8080/"
        },
        "id": "lcYv62ngYLyE",
        "outputId": "f2a671ce-097d-4107-f0e2-e4fbe33b700c"
      },
      "source": [
        "list(ngrams(hamilton_papers_all, 2))[6:20]"
      ],
      "execution_count": null,
      "outputs": [
        {
          "output_type": "execute_result",
          "data": {
            "text/plain": [
              "[(' ', 'C'),\n",
              " ('C', 'o'),\n",
              " ('o', 'n'),\n",
              " ('n', 'c'),\n",
              " ('c', 'e'),\n",
              " ('e', 'r'),\n",
              " ('r', 'n'),\n",
              " ('n', 'i'),\n",
              " ('i', 'n'),\n",
              " ('n', 'g'),\n",
              " ('g', ' '),\n",
              " (' ', 't'),\n",
              " ('t', 'h'),\n",
              " ('h', 'e')]"
            ]
          },
          "metadata": {
            "tags": []
          },
          "execution_count": 14
        }
      ]
    },
    {
      "cell_type": "markdown",
      "metadata": {
        "id": "X1auuD6JYZfr"
      },
      "source": [
        "Counting the frequencies of these n-grams can actually reveal a lot about a paper's stylistic characteristics--and by extension, how well it fits into the characteristics of a certain writer. For example, one person might use the word 'the' more than someone else, or they might be fond of certain turns of phrase, like 'on the contrary.' On another level, characteristics of text that are harder to interpret can be informative too. Anything from the percentage of nouns in a sentence to the frequency of different character combinations in a text can be informative.\n",
        "\n",
        "We will move on and use **character 3-gram frequencies** to characterize all of these texts. Then, we will see whether the disputed papers are stylistically closer to Hamilton's papers or Madison's papers.\n",
        "\n",
        "But first, let's stop working on the level of authors and start working on the level of individual essays."
      ]
    },
    {
      "cell_type": "code",
      "metadata": {
        "id": "QsLcp9_uZkUH"
      },
      "source": [
        "# list of the names (aka numbers) of all the papers\n",
        "def path_to_paper_name(path):\n",
        "    return path.split('/')[-1].split('.')[0]\n",
        "hamilton_paper_names = [path_to_paper_name(path) for path in hamilton]\n",
        "madison_paper_names = [path_to_paper_name(path) for path in madison]\n",
        "disputed_paper_names = [path_to_paper_name(path) for path in disputed]\n",
        "all_paper_names = hamilton_paper_names + madison_paper_names + disputed_paper_names\n",
        "\n",
        "# list of the texts of all the papers\n",
        "all_paper_texts = hamilton_papers + madison_papers + disputed_papers\n",
        "\n",
        "# dictionary mapping the name of a paper to its text\n",
        "all_papers = dict(zip(all_paper_names, all_paper_texts))"
      ],
      "execution_count": null,
      "outputs": []
    },
    {
      "cell_type": "markdown",
      "metadata": {
        "id": "T8ICZDcUlRc0"
      },
      "source": [
        "Now, let's generate the trigrams that are used across all of the papers."
      ]
    },
    {
      "cell_type": "code",
      "metadata": {
        "id": "JcADU-xH5cTe"
      },
      "source": [
        "trigrams = {} # dictionary of 3-grams for each federalist paper\n",
        "for paper in all_papers.keys():\n",
        "    trigrams[paper] = [] # list of trigrams in the paper\n",
        "\n",
        "all_trigrams = [] # list of all trigrams (including duplicates)\n",
        "\n",
        "\n",
        "# Write some code to populate the trigrams dictionary and the all_trigrams list.\n",
        "# Remember, all_papers is a dictionary mapping paper names to their texts, \n",
        "# and ngrams(text, 3) generates all the trigrams in a paper's text\n",
        "\n",
        "# TODO: IMPLEMENT!"
      ],
      "execution_count": null,
      "outputs": []
    },
    {
      "cell_type": "markdown",
      "metadata": {
        "id": "USYi63XxY_gd"
      },
      "source": [
        "We could compute the frequency of all trigrams, but that would take a lot of computational power. Plus, it's not necessary to use all that information. Let's consider only the trigrams that appear at least 200 times in the total corpus (aka all the papers put together)."
      ]
    },
    {
      "cell_type": "code",
      "metadata": {
        "colab": {
          "base_uri": "https://localhost:8080/"
        },
        "id": "rGPKzSDG5cvr",
        "outputId": "cc0a40d7-57da-4413-b20b-e190b27ef709"
      },
      "source": [
        "# using Counter, we can compute trigram frequencies in the whole corpus\n",
        "trigram_counts = Counter(all_trigrams)\n",
        "# remember, Counter returns a dictionary mapping words to the times they occur\n",
        "print(trigram_counts['the'])"
      ],
      "execution_count": null,
      "outputs": [
        {
          "output_type": "stream",
          "text": [
            "21231\n"
          ],
          "name": "stdout"
        }
      ]
    },
    {
      "cell_type": "markdown",
      "metadata": {
        "id": "9aMG-p-1ZVib"
      },
      "source": [
        "Write some code to populate `relevant_trigrams` with trigrams that appear >200 times in the corpus. (The list should have 1096 unique elements once you've populated it.)"
      ]
    },
    {
      "cell_type": "code",
      "metadata": {
        "colab": {
          "base_uri": "https://localhost:8080/"
        },
        "id": "5pPbH3HB6Z36",
        "outputId": "64a6b7ce-be19-4784-fd16-2544c1e35c4a"
      },
      "source": [
        "relevant_trigrams = []\n",
        "\n",
        "# TODO: IMPLEMENT!\n",
        "\n",
        "len(relevant_trigrams) "
      ],
      "execution_count": null,
      "outputs": [
        {
          "output_type": "execute_result",
          "data": {
            "text/plain": [
              "1096"
            ]
          },
          "metadata": {
            "tags": []
          },
          "execution_count": 18
        }
      ]
    },
    {
      "cell_type": "markdown",
      "metadata": {
        "id": "0aukKfytaH94"
      },
      "source": [
        "Now that we have a set of the most relevant trigrams, we need to calculate their frequencies in each of the essays. Because we're only interested in a limited number of trigrams, we won't use Counter.\n",
        "\n",
        "Note: this cell should take a few seconds to run!"
      ]
    },
    {
      "cell_type": "code",
      "metadata": {
        "id": "J7d6ZOUO6e1t"
      },
      "source": [
        "trigram_frequencies = {}\n",
        "for paper in all_papers.keys():\n",
        "    trigram_frequencies[paper] = {}\n",
        "\n",
        "# count the number of times each relevant trigram appears in each paper\n",
        "for paper in all_papers.keys():\n",
        "    for trigram in trigrams[paper]:\n",
        "        if trigram in relevant_trigrams:\n",
        "            try:\n",
        "                trigram_frequencies[paper][trigram] += 1 \n",
        "            except:\n",
        "                trigram_frequencies[paper][trigram] = 0\n",
        "\n",
        "# divide by the number of trigrams total in each paper to obtain frequency\n",
        "for paper in all_papers.keys():\n",
        "    for trigram in trigram_frequencies[paper]:\n",
        "        trigram_frequencies[paper][trigram] /= len(trigrams[paper])"
      ],
      "execution_count": null,
      "outputs": []
    },
    {
      "cell_type": "code",
      "metadata": {
        "colab": {
          "base_uri": "https://localhost:8080/"
        },
        "id": "XqM12RXXbpHF",
        "outputId": "0ebb84e2-2fb8-42ae-e37b-b92c75262418"
      },
      "source": [
        "# the frequency of 'the' paper 30\n",
        "trigram_frequencies['30']['the']"
      ],
      "execution_count": null,
      "outputs": [
        {
          "output_type": "execute_result",
          "data": {
            "text/plain": [
              "0.016747018523217458"
            ]
          },
          "metadata": {
            "tags": []
          },
          "execution_count": 20
        }
      ]
    },
    {
      "cell_type": "markdown",
      "metadata": {
        "id": "xxHSXNTfbn36"
      },
      "source": [
        "If you print `trigram_frequencies`, you can see that it's not very easy to work with. To make things more manageable, we will load the dictionary into a Pandas DataFrame. (Pandas is a data science library that is useful in all sorts of contexts, and if you're interested in data science and machine learning, it's super useful to learn how to use it!)"
      ]
    },
    {
      "cell_type": "code",
      "metadata": {
        "colab": {
          "base_uri": "https://localhost:8080/",
          "height": 253
        },
        "id": "Gcs2-LR36evQ",
        "outputId": "b81e8dad-b665-46df-9326-17e0314c3b89"
      },
      "source": [
        "import pandas as pd\n",
        "# load the dictionary into a dataframe\n",
        "freqs = pd.DataFrame(data=trigram_frequencies, index=None).T\n",
        "# peek at the first 5 entries of the dataframe\n",
        "freqs.head()"
      ],
      "execution_count": null,
      "outputs": [
        {
          "output_type": "execute_result",
          "data": {
            "text/html": [
              "<div>\n",
              "<style scoped>\n",
              "    .dataframe tbody tr th:only-of-type {\n",
              "        vertical-align: middle;\n",
              "    }\n",
              "\n",
              "    .dataframe tbody tr th {\n",
              "        vertical-align: top;\n",
              "    }\n",
              "\n",
              "    .dataframe thead th {\n",
              "        text-align: right;\n",
              "    }\n",
              "</style>\n",
              "<table border=\"1\" class=\"dataframe\">\n",
              "  <thead>\n",
              "    <tr style=\"text-align: right;\">\n",
              "      <th></th>\n",
              "      <th></th>\n",
              "      <th>Co</th>\n",
              "      <th>Con</th>\n",
              "      <th>onc</th>\n",
              "      <th>nce</th>\n",
              "      <th>cer</th>\n",
              "      <th>ern</th>\n",
              "      <th>nin</th>\n",
              "      <th>ing</th>\n",
              "      <th>ng</th>\n",
              "      <th>g t</th>\n",
              "      <th>th</th>\n",
              "      <th>the</th>\n",
              "      <th>he</th>\n",
              "      <th>ene</th>\n",
              "      <th>ner</th>\n",
              "      <th>era</th>\n",
              "      <th>ral</th>\n",
              "      <th>al</th>\n",
              "      <th>owe</th>\n",
              "      <th>wer</th>\n",
              "      <th>er</th>\n",
              "      <th>r o</th>\n",
              "      <th>of</th>\n",
              "      <th>of</th>\n",
              "      <th>ati</th>\n",
              "      <th>tio</th>\n",
              "      <th>ion</th>\n",
              "      <th>on</th>\n",
              "      <th>n</th>\n",
              "      <th>rom</th>\n",
              "      <th>om</th>\n",
              "      <th>m t</th>\n",
              "      <th>Ne</th>\n",
              "      <th>New</th>\n",
              "      <th>ew</th>\n",
              "      <th>w Y</th>\n",
              "      <th>Yo</th>\n",
              "      <th>Yor</th>\n",
              "      <th>ork</th>\n",
              "      <th>...</th>\n",
              "      <th>An</th>\n",
              "      <th>exc</th>\n",
              "      <th>t l</th>\n",
              "      <th>urt</th>\n",
              "      <th>te,</th>\n",
              "      <th>fou</th>\n",
              "      <th>ges</th>\n",
              "      <th>va</th>\n",
              "      <th>als</th>\n",
              "      <th>nu</th>\n",
              "      <th>num</th>\n",
              "      <th>umb</th>\n",
              "      <th>l n</th>\n",
              "      <th>nt.</th>\n",
              "      <th>udi</th>\n",
              "      <th>ole</th>\n",
              "      <th>, e</th>\n",
              "      <th>ts.</th>\n",
              "      <th>l r</th>\n",
              "      <th>ele</th>\n",
              "      <th>o f</th>\n",
              "      <th>vie</th>\n",
              "      <th>ars</th>\n",
              "      <th>rty</th>\n",
              "      <th>e</th>\n",
              "      <th>t</th>\n",
              "      <th>s</th>\n",
              "      <th>r</th>\n",
              "      <th>y</th>\n",
              "      <th>a</th>\n",
              "      <th>f</th>\n",
              "      <th>p</th>\n",
              "      <th>e</th>\n",
              "      <th>,</th>\n",
              "      <th>c</th>\n",
              "      <th>i</th>\n",
              "      <th>t</th>\n",
              "      <th>w</th>\n",
              "      <th>o</th>\n",
              "      <th>s</th>\n",
              "    </tr>\n",
              "  </thead>\n",
              "  <tbody>\n",
              "    <tr>\n",
              "      <th>30</th>\n",
              "      <td>0.000761</td>\n",
              "      <td>0.000338</td>\n",
              "      <td>0.000338</td>\n",
              "      <td>0.000507</td>\n",
              "      <td>0.001692</td>\n",
              "      <td>0.000169</td>\n",
              "      <td>0.001607</td>\n",
              "      <td>0.000085</td>\n",
              "      <td>0.003045</td>\n",
              "      <td>0.002537</td>\n",
              "      <td>0.000846</td>\n",
              "      <td>0.021061</td>\n",
              "      <td>0.016747</td>\n",
              "      <td>0.013956</td>\n",
              "      <td>0.000677</td>\n",
              "      <td>0.000507</td>\n",
              "      <td>0.001184</td>\n",
              "      <td>0.000677</td>\n",
              "      <td>0.002368</td>\n",
              "      <td>0.000846</td>\n",
              "      <td>0.000930</td>\n",
              "      <td>0.002622</td>\n",
              "      <td>0.000846</td>\n",
              "      <td>0.009388</td>\n",
              "      <td>0.009304</td>\n",
              "      <td>0.003045</td>\n",
              "      <td>0.005752</td>\n",
              "      <td>0.007189</td>\n",
              "      <td>0.004652</td>\n",
              "      <td>0.0</td>\n",
              "      <td>0.000846</td>\n",
              "      <td>0.000761</td>\n",
              "      <td>0.000507</td>\n",
              "      <td>0.000085</td>\n",
              "      <td>0.000085</td>\n",
              "      <td>0.000423</td>\n",
              "      <td>0.000085</td>\n",
              "      <td>0.000085</td>\n",
              "      <td>0.000085</td>\n",
              "      <td>0.000085</td>\n",
              "      <td>...</td>\n",
              "      <td>NaN</td>\n",
              "      <td>NaN</td>\n",
              "      <td>NaN</td>\n",
              "      <td>NaN</td>\n",
              "      <td>NaN</td>\n",
              "      <td>NaN</td>\n",
              "      <td>NaN</td>\n",
              "      <td>NaN</td>\n",
              "      <td>NaN</td>\n",
              "      <td>NaN</td>\n",
              "      <td>NaN</td>\n",
              "      <td>NaN</td>\n",
              "      <td>NaN</td>\n",
              "      <td>NaN</td>\n",
              "      <td>NaN</td>\n",
              "      <td>NaN</td>\n",
              "      <td>NaN</td>\n",
              "      <td>NaN</td>\n",
              "      <td>NaN</td>\n",
              "      <td>NaN</td>\n",
              "      <td>NaN</td>\n",
              "      <td>NaN</td>\n",
              "      <td>NaN</td>\n",
              "      <td>NaN</td>\n",
              "      <td>NaN</td>\n",
              "      <td>NaN</td>\n",
              "      <td>NaN</td>\n",
              "      <td>NaN</td>\n",
              "      <td>NaN</td>\n",
              "      <td>NaN</td>\n",
              "      <td>NaN</td>\n",
              "      <td>NaN</td>\n",
              "      <td>NaN</td>\n",
              "      <td>NaN</td>\n",
              "      <td>NaN</td>\n",
              "      <td>NaN</td>\n",
              "      <td>NaN</td>\n",
              "      <td>NaN</td>\n",
              "      <td>NaN</td>\n",
              "      <td>NaN</td>\n",
              "    </tr>\n",
              "    <tr>\n",
              "      <th>33</th>\n",
              "      <td>0.000901</td>\n",
              "      <td>0.001001</td>\n",
              "      <td>0.001101</td>\n",
              "      <td>0.000300</td>\n",
              "      <td>0.001301</td>\n",
              "      <td>0.000300</td>\n",
              "      <td>0.001101</td>\n",
              "      <td>0.000100</td>\n",
              "      <td>0.003202</td>\n",
              "      <td>0.002502</td>\n",
              "      <td>0.000600</td>\n",
              "      <td>0.023514</td>\n",
              "      <td>0.018011</td>\n",
              "      <td>0.015709</td>\n",
              "      <td>0.000200</td>\n",
              "      <td>0.000300</td>\n",
              "      <td>0.001101</td>\n",
              "      <td>0.000500</td>\n",
              "      <td>0.002702</td>\n",
              "      <td>0.003002</td>\n",
              "      <td>0.003602</td>\n",
              "      <td>0.004102</td>\n",
              "      <td>0.001001</td>\n",
              "      <td>0.009105</td>\n",
              "      <td>0.008905</td>\n",
              "      <td>0.002902</td>\n",
              "      <td>0.006804</td>\n",
              "      <td>0.008005</td>\n",
              "      <td>0.005403</td>\n",
              "      <td>NaN</td>\n",
              "      <td>0.000901</td>\n",
              "      <td>0.001301</td>\n",
              "      <td>0.000800</td>\n",
              "      <td>0.000000</td>\n",
              "      <td>0.000000</td>\n",
              "      <td>0.000000</td>\n",
              "      <td>0.000000</td>\n",
              "      <td>0.000000</td>\n",
              "      <td>0.000000</td>\n",
              "      <td>0.000000</td>\n",
              "      <td>...</td>\n",
              "      <td>0.000000</td>\n",
              "      <td>0.000200</td>\n",
              "      <td>0.000200</td>\n",
              "      <td>0.000000</td>\n",
              "      <td>0.0002</td>\n",
              "      <td>0.000100</td>\n",
              "      <td>0.000000</td>\n",
              "      <td>0.000000</td>\n",
              "      <td>0.000100</td>\n",
              "      <td>0.000000</td>\n",
              "      <td>0.000000</td>\n",
              "      <td>0.0</td>\n",
              "      <td>0.0001</td>\n",
              "      <td>0.000000</td>\n",
              "      <td>0.000000</td>\n",
              "      <td>0.000000</td>\n",
              "      <td>0.000000</td>\n",
              "      <td>0.000000</td>\n",
              "      <td>NaN</td>\n",
              "      <td>NaN</td>\n",
              "      <td>NaN</td>\n",
              "      <td>NaN</td>\n",
              "      <td>NaN</td>\n",
              "      <td>NaN</td>\n",
              "      <td>NaN</td>\n",
              "      <td>NaN</td>\n",
              "      <td>NaN</td>\n",
              "      <td>NaN</td>\n",
              "      <td>NaN</td>\n",
              "      <td>NaN</td>\n",
              "      <td>NaN</td>\n",
              "      <td>NaN</td>\n",
              "      <td>NaN</td>\n",
              "      <td>NaN</td>\n",
              "      <td>NaN</td>\n",
              "      <td>NaN</td>\n",
              "      <td>NaN</td>\n",
              "      <td>NaN</td>\n",
              "      <td>NaN</td>\n",
              "      <td>NaN</td>\n",
              "    </tr>\n",
              "    <tr>\n",
              "      <th>31</th>\n",
              "      <td>0.000864</td>\n",
              "      <td>0.000192</td>\n",
              "      <td>0.000288</td>\n",
              "      <td>0.000288</td>\n",
              "      <td>0.002017</td>\n",
              "      <td>0.000480</td>\n",
              "      <td>0.001825</td>\n",
              "      <td>0.000288</td>\n",
              "      <td>0.002689</td>\n",
              "      <td>0.002401</td>\n",
              "      <td>0.000864</td>\n",
              "      <td>0.025067</td>\n",
              "      <td>0.020457</td>\n",
              "      <td>0.015751</td>\n",
              "      <td>0.000768</td>\n",
              "      <td>0.000768</td>\n",
              "      <td>0.001153</td>\n",
              "      <td>0.001537</td>\n",
              "      <td>0.003554</td>\n",
              "      <td>0.001729</td>\n",
              "      <td>0.001729</td>\n",
              "      <td>0.004034</td>\n",
              "      <td>0.001633</td>\n",
              "      <td>0.010085</td>\n",
              "      <td>0.009892</td>\n",
              "      <td>0.003650</td>\n",
              "      <td>0.006435</td>\n",
              "      <td>0.008356</td>\n",
              "      <td>0.005474</td>\n",
              "      <td>NaN</td>\n",
              "      <td>0.000960</td>\n",
              "      <td>0.000960</td>\n",
              "      <td>0.000768</td>\n",
              "      <td>0.000096</td>\n",
              "      <td>0.000096</td>\n",
              "      <td>0.000096</td>\n",
              "      <td>0.000096</td>\n",
              "      <td>0.000096</td>\n",
              "      <td>0.000096</td>\n",
              "      <td>0.000096</td>\n",
              "      <td>...</td>\n",
              "      <td>0.000096</td>\n",
              "      <td>0.000096</td>\n",
              "      <td>0.000288</td>\n",
              "      <td>NaN</td>\n",
              "      <td>NaN</td>\n",
              "      <td>0.000288</td>\n",
              "      <td>NaN</td>\n",
              "      <td>0.000096</td>\n",
              "      <td>0.000000</td>\n",
              "      <td>NaN</td>\n",
              "      <td>NaN</td>\n",
              "      <td>NaN</td>\n",
              "      <td>0.0000</td>\n",
              "      <td>NaN</td>\n",
              "      <td>0.000096</td>\n",
              "      <td>0.000096</td>\n",
              "      <td>0.000000</td>\n",
              "      <td>0.000192</td>\n",
              "      <td>0.000288</td>\n",
              "      <td>0.000000</td>\n",
              "      <td>0.000192</td>\n",
              "      <td>0.000000</td>\n",
              "      <td>0.000000</td>\n",
              "      <td>NaN</td>\n",
              "      <td>NaN</td>\n",
              "      <td>NaN</td>\n",
              "      <td>NaN</td>\n",
              "      <td>NaN</td>\n",
              "      <td>NaN</td>\n",
              "      <td>NaN</td>\n",
              "      <td>NaN</td>\n",
              "      <td>NaN</td>\n",
              "      <td>NaN</td>\n",
              "      <td>NaN</td>\n",
              "      <td>NaN</td>\n",
              "      <td>NaN</td>\n",
              "      <td>NaN</td>\n",
              "      <td>NaN</td>\n",
              "      <td>NaN</td>\n",
              "      <td>NaN</td>\n",
              "    </tr>\n",
              "    <tr>\n",
              "      <th>24</th>\n",
              "      <td>0.000746</td>\n",
              "      <td>0.000249</td>\n",
              "      <td>0.000166</td>\n",
              "      <td>0.000332</td>\n",
              "      <td>0.001410</td>\n",
              "      <td>0.000249</td>\n",
              "      <td>0.000581</td>\n",
              "      <td>0.000083</td>\n",
              "      <td>0.003317</td>\n",
              "      <td>0.002903</td>\n",
              "      <td>0.000912</td>\n",
              "      <td>0.019738</td>\n",
              "      <td>0.016006</td>\n",
              "      <td>0.013601</td>\n",
              "      <td>0.000498</td>\n",
              "      <td>0.000166</td>\n",
              "      <td>0.000995</td>\n",
              "      <td>0.000663</td>\n",
              "      <td>0.001907</td>\n",
              "      <td>0.000912</td>\n",
              "      <td>0.000663</td>\n",
              "      <td>0.003151</td>\n",
              "      <td>0.000498</td>\n",
              "      <td>0.009786</td>\n",
              "      <td>0.009703</td>\n",
              "      <td>0.002903</td>\n",
              "      <td>0.006303</td>\n",
              "      <td>0.007879</td>\n",
              "      <td>0.005639</td>\n",
              "      <td>NaN</td>\n",
              "      <td>0.000829</td>\n",
              "      <td>0.000829</td>\n",
              "      <td>0.000581</td>\n",
              "      <td>0.000249</td>\n",
              "      <td>0.000166</td>\n",
              "      <td>0.000663</td>\n",
              "      <td>0.000083</td>\n",
              "      <td>0.000083</td>\n",
              "      <td>0.000083</td>\n",
              "      <td>0.000083</td>\n",
              "      <td>...</td>\n",
              "      <td>0.000083</td>\n",
              "      <td>0.000166</td>\n",
              "      <td>0.000166</td>\n",
              "      <td>0.000083</td>\n",
              "      <td>NaN</td>\n",
              "      <td>0.000415</td>\n",
              "      <td>0.000000</td>\n",
              "      <td>0.000083</td>\n",
              "      <td>0.000249</td>\n",
              "      <td>NaN</td>\n",
              "      <td>NaN</td>\n",
              "      <td>NaN</td>\n",
              "      <td>0.0000</td>\n",
              "      <td>0.000083</td>\n",
              "      <td>NaN</td>\n",
              "      <td>0.000083</td>\n",
              "      <td>0.000166</td>\n",
              "      <td>0.000000</td>\n",
              "      <td>NaN</td>\n",
              "      <td>0.000166</td>\n",
              "      <td>0.000166</td>\n",
              "      <td>0.000332</td>\n",
              "      <td>0.000249</td>\n",
              "      <td>0.000083</td>\n",
              "      <td>NaN</td>\n",
              "      <td>NaN</td>\n",
              "      <td>NaN</td>\n",
              "      <td>NaN</td>\n",
              "      <td>NaN</td>\n",
              "      <td>NaN</td>\n",
              "      <td>NaN</td>\n",
              "      <td>NaN</td>\n",
              "      <td>NaN</td>\n",
              "      <td>NaN</td>\n",
              "      <td>NaN</td>\n",
              "      <td>NaN</td>\n",
              "      <td>NaN</td>\n",
              "      <td>NaN</td>\n",
              "      <td>NaN</td>\n",
              "      <td>NaN</td>\n",
              "    </tr>\n",
              "    <tr>\n",
              "      <th>25</th>\n",
              "      <td>0.000760</td>\n",
              "      <td>0.000844</td>\n",
              "      <td>0.000760</td>\n",
              "      <td>0.000253</td>\n",
              "      <td>0.002449</td>\n",
              "      <td>0.000084</td>\n",
              "      <td>0.001013</td>\n",
              "      <td>0.000084</td>\n",
              "      <td>0.002111</td>\n",
              "      <td>0.002280</td>\n",
              "      <td>0.000338</td>\n",
              "      <td>0.021532</td>\n",
              "      <td>0.017394</td>\n",
              "      <td>0.015030</td>\n",
              "      <td>0.000000</td>\n",
              "      <td>0.000000</td>\n",
              "      <td>0.001098</td>\n",
              "      <td>0.000929</td>\n",
              "      <td>0.002955</td>\n",
              "      <td>0.000507</td>\n",
              "      <td>0.000507</td>\n",
              "      <td>0.003462</td>\n",
              "      <td>0.000591</td>\n",
              "      <td>0.010470</td>\n",
              "      <td>0.010386</td>\n",
              "      <td>0.002871</td>\n",
              "      <td>0.005151</td>\n",
              "      <td>0.006839</td>\n",
              "      <td>0.004222</td>\n",
              "      <td>NaN</td>\n",
              "      <td>0.001013</td>\n",
              "      <td>0.001098</td>\n",
              "      <td>0.000760</td>\n",
              "      <td>0.000422</td>\n",
              "      <td>0.000338</td>\n",
              "      <td>0.000338</td>\n",
              "      <td>0.000338</td>\n",
              "      <td>0.000338</td>\n",
              "      <td>0.000338</td>\n",
              "      <td>0.000338</td>\n",
              "      <td>...</td>\n",
              "      <td>0.000084</td>\n",
              "      <td>NaN</td>\n",
              "      <td>0.000422</td>\n",
              "      <td>0.000000</td>\n",
              "      <td>NaN</td>\n",
              "      <td>0.000169</td>\n",
              "      <td>0.000084</td>\n",
              "      <td>0.000169</td>\n",
              "      <td>0.000084</td>\n",
              "      <td>0.000084</td>\n",
              "      <td>0.000253</td>\n",
              "      <td>0.0</td>\n",
              "      <td>NaN</td>\n",
              "      <td>0.000169</td>\n",
              "      <td>0.000084</td>\n",
              "      <td>0.000169</td>\n",
              "      <td>0.000084</td>\n",
              "      <td>0.000084</td>\n",
              "      <td>NaN</td>\n",
              "      <td>0.000169</td>\n",
              "      <td>0.000000</td>\n",
              "      <td>0.000000</td>\n",
              "      <td>0.000000</td>\n",
              "      <td>0.000422</td>\n",
              "      <td>NaN</td>\n",
              "      <td>NaN</td>\n",
              "      <td>NaN</td>\n",
              "      <td>NaN</td>\n",
              "      <td>NaN</td>\n",
              "      <td>NaN</td>\n",
              "      <td>NaN</td>\n",
              "      <td>NaN</td>\n",
              "      <td>NaN</td>\n",
              "      <td>NaN</td>\n",
              "      <td>NaN</td>\n",
              "      <td>NaN</td>\n",
              "      <td>NaN</td>\n",
              "      <td>NaN</td>\n",
              "      <td>NaN</td>\n",
              "      <td>NaN</td>\n",
              "    </tr>\n",
              "  </tbody>\n",
              "</table>\n",
              "<p>5 rows × 1096 columns</p>\n",
              "</div>"
            ],
            "text/plain": [
              "                    Co       Con       onc       nce  ...    i    t    w    o    s\n",
              "30  0.000761  0.000338  0.000338  0.000507  0.001692  ...  NaN  NaN  NaN  NaN  NaN\n",
              "33  0.000901  0.001001  0.001101  0.000300  0.001301  ...  NaN  NaN  NaN  NaN  NaN\n",
              "31  0.000864  0.000192  0.000288  0.000288  0.002017  ...  NaN  NaN  NaN  NaN  NaN\n",
              "24  0.000746  0.000249  0.000166  0.000332  0.001410  ...  NaN  NaN  NaN  NaN  NaN\n",
              "25  0.000760  0.000844  0.000760  0.000253  0.002449  ...  NaN  NaN  NaN  NaN  NaN\n",
              "\n",
              "[5 rows x 1096 columns]"
            ]
          },
          "metadata": {
            "tags": []
          },
          "execution_count": 21
        }
      ]
    },
    {
      "cell_type": "markdown",
      "metadata": {
        "id": "SkKPHiYccxFZ"
      },
      "source": [
        "That looks much better. \n",
        "- Each row of the dataframe represents one paper. \n",
        "- Each column represents a trigram. \n",
        "\n",
        "We can also see this by printing out the **freqs.index** (aka row names) and **freqs.columns** of the dataframe. Try it out!"
      ]
    },
    {
      "cell_type": "code",
      "metadata": {
        "colab": {
          "base_uri": "https://localhost:8080/"
        },
        "id": "kgcqpGOodF5F",
        "outputId": "1dcd14c3-b6f5-40b2-b004-c15c1bbe7e79"
      },
      "source": [
        "# TODO: IMPLEMENT!"
      ],
      "execution_count": null,
      "outputs": [
        {
          "output_type": "stream",
          "text": [
            "Index(['   ', ' Co', 'Con', 'onc', 'nce', 'cer', 'ern', 'nin', 'ing', 'ng ',\n",
            "       ...\n",
            "       'f  ', '  p', '  e', ',  ', '  c', '  i', '  t', '  w', '  o', '  s'],\n",
            "      dtype='object', length=1096)\n"
          ],
          "name": "stdout"
        }
      ]
    },
    {
      "cell_type": "markdown",
      "metadata": {
        "id": "Tjk1YwmIcdgA"
      },
      "source": [
        "Feel free to play around a little more. Try functions like `freqs.tail()` or `freqs.describe()` if you're curious.\n",
        "\n",
        "\n",
        "\n",
        "Still, we have to do a little more preprocessing. Not all trigrams appear in all papers, so they wouldn't appear in the dictionary we created. (Scroll all the way to the right of the DataFrame if you're curious.) We need to populate those fields with 0."
      ]
    },
    {
      "cell_type": "code",
      "metadata": {
        "id": "GCriV7MEcf5y"
      },
      "source": [
        "freqs = freqs.fillna(0) "
      ],
      "execution_count": null,
      "outputs": []
    },
    {
      "cell_type": "markdown",
      "metadata": {
        "id": "7sTp6DzLdLQJ"
      },
      "source": [
        "### Authorship Attribution!\n",
        "We've generated a lot of numbers, and now we can do some data analysis to make sense of it all.\n",
        "\n",
        "Imagine each paper as a point in high dimensional space. We can't visualize 1096 dimensions, but each paper really can be imagined as a point with the 1096 coordinates given by its row in the DataFrame.\n",
        "\n",
        "We can use some data science to parse these 1096 dimensions into terms we can understand."
      ]
    },
    {
      "cell_type": "code",
      "metadata": {
        "colab": {
          "base_uri": "https://localhost:8080/",
          "height": 253
        },
        "id": "vhgr3Zmxd3Xk",
        "outputId": "a29ce43e-26ee-4f10-8de3-78e59181ca44"
      },
      "source": [
        "freqs.head()"
      ],
      "execution_count": null,
      "outputs": [
        {
          "output_type": "execute_result",
          "data": {
            "text/html": [
              "<div>\n",
              "<style scoped>\n",
              "    .dataframe tbody tr th:only-of-type {\n",
              "        vertical-align: middle;\n",
              "    }\n",
              "\n",
              "    .dataframe tbody tr th {\n",
              "        vertical-align: top;\n",
              "    }\n",
              "\n",
              "    .dataframe thead th {\n",
              "        text-align: right;\n",
              "    }\n",
              "</style>\n",
              "<table border=\"1\" class=\"dataframe\">\n",
              "  <thead>\n",
              "    <tr style=\"text-align: right;\">\n",
              "      <th></th>\n",
              "      <th></th>\n",
              "      <th>Co</th>\n",
              "      <th>Con</th>\n",
              "      <th>onc</th>\n",
              "      <th>nce</th>\n",
              "      <th>cer</th>\n",
              "      <th>ern</th>\n",
              "      <th>nin</th>\n",
              "      <th>ing</th>\n",
              "      <th>ng</th>\n",
              "      <th>g t</th>\n",
              "      <th>th</th>\n",
              "      <th>the</th>\n",
              "      <th>he</th>\n",
              "      <th>ene</th>\n",
              "      <th>ner</th>\n",
              "      <th>era</th>\n",
              "      <th>ral</th>\n",
              "      <th>al</th>\n",
              "      <th>owe</th>\n",
              "      <th>wer</th>\n",
              "      <th>er</th>\n",
              "      <th>r o</th>\n",
              "      <th>of</th>\n",
              "      <th>of</th>\n",
              "      <th>ati</th>\n",
              "      <th>tio</th>\n",
              "      <th>ion</th>\n",
              "      <th>on</th>\n",
              "      <th>n</th>\n",
              "      <th>rom</th>\n",
              "      <th>om</th>\n",
              "      <th>m t</th>\n",
              "      <th>Ne</th>\n",
              "      <th>New</th>\n",
              "      <th>ew</th>\n",
              "      <th>w Y</th>\n",
              "      <th>Yo</th>\n",
              "      <th>Yor</th>\n",
              "      <th>ork</th>\n",
              "      <th>...</th>\n",
              "      <th>An</th>\n",
              "      <th>exc</th>\n",
              "      <th>t l</th>\n",
              "      <th>urt</th>\n",
              "      <th>te,</th>\n",
              "      <th>fou</th>\n",
              "      <th>ges</th>\n",
              "      <th>va</th>\n",
              "      <th>als</th>\n",
              "      <th>nu</th>\n",
              "      <th>num</th>\n",
              "      <th>umb</th>\n",
              "      <th>l n</th>\n",
              "      <th>nt.</th>\n",
              "      <th>udi</th>\n",
              "      <th>ole</th>\n",
              "      <th>, e</th>\n",
              "      <th>ts.</th>\n",
              "      <th>l r</th>\n",
              "      <th>ele</th>\n",
              "      <th>o f</th>\n",
              "      <th>vie</th>\n",
              "      <th>ars</th>\n",
              "      <th>rty</th>\n",
              "      <th>e</th>\n",
              "      <th>t</th>\n",
              "      <th>s</th>\n",
              "      <th>r</th>\n",
              "      <th>y</th>\n",
              "      <th>a</th>\n",
              "      <th>f</th>\n",
              "      <th>p</th>\n",
              "      <th>e</th>\n",
              "      <th>,</th>\n",
              "      <th>c</th>\n",
              "      <th>i</th>\n",
              "      <th>t</th>\n",
              "      <th>w</th>\n",
              "      <th>o</th>\n",
              "      <th>s</th>\n",
              "    </tr>\n",
              "  </thead>\n",
              "  <tbody>\n",
              "    <tr>\n",
              "      <th>30</th>\n",
              "      <td>0.000761</td>\n",
              "      <td>0.000338</td>\n",
              "      <td>0.000338</td>\n",
              "      <td>0.000507</td>\n",
              "      <td>0.001692</td>\n",
              "      <td>0.000169</td>\n",
              "      <td>0.001607</td>\n",
              "      <td>0.000085</td>\n",
              "      <td>0.003045</td>\n",
              "      <td>0.002537</td>\n",
              "      <td>0.000846</td>\n",
              "      <td>0.021061</td>\n",
              "      <td>0.016747</td>\n",
              "      <td>0.013956</td>\n",
              "      <td>0.000677</td>\n",
              "      <td>0.000507</td>\n",
              "      <td>0.001184</td>\n",
              "      <td>0.000677</td>\n",
              "      <td>0.002368</td>\n",
              "      <td>0.000846</td>\n",
              "      <td>0.000930</td>\n",
              "      <td>0.002622</td>\n",
              "      <td>0.000846</td>\n",
              "      <td>0.009388</td>\n",
              "      <td>0.009304</td>\n",
              "      <td>0.003045</td>\n",
              "      <td>0.005752</td>\n",
              "      <td>0.007189</td>\n",
              "      <td>0.004652</td>\n",
              "      <td>0.0</td>\n",
              "      <td>0.000846</td>\n",
              "      <td>0.000761</td>\n",
              "      <td>0.000507</td>\n",
              "      <td>0.000085</td>\n",
              "      <td>0.000085</td>\n",
              "      <td>0.000423</td>\n",
              "      <td>0.000085</td>\n",
              "      <td>0.000085</td>\n",
              "      <td>0.000085</td>\n",
              "      <td>0.000085</td>\n",
              "      <td>...</td>\n",
              "      <td>0.000000</td>\n",
              "      <td>0.000000</td>\n",
              "      <td>0.000000</td>\n",
              "      <td>0.000000</td>\n",
              "      <td>0.0000</td>\n",
              "      <td>0.000000</td>\n",
              "      <td>0.000000</td>\n",
              "      <td>0.000000</td>\n",
              "      <td>0.000000</td>\n",
              "      <td>0.000000</td>\n",
              "      <td>0.000000</td>\n",
              "      <td>0.0</td>\n",
              "      <td>0.0000</td>\n",
              "      <td>0.000000</td>\n",
              "      <td>0.000000</td>\n",
              "      <td>0.000000</td>\n",
              "      <td>0.000000</td>\n",
              "      <td>0.000000</td>\n",
              "      <td>0.000000</td>\n",
              "      <td>0.000000</td>\n",
              "      <td>0.000000</td>\n",
              "      <td>0.000000</td>\n",
              "      <td>0.000000</td>\n",
              "      <td>0.000000</td>\n",
              "      <td>0.0</td>\n",
              "      <td>0.0</td>\n",
              "      <td>0.0</td>\n",
              "      <td>0.0</td>\n",
              "      <td>0.0</td>\n",
              "      <td>0.0</td>\n",
              "      <td>0.0</td>\n",
              "      <td>0.0</td>\n",
              "      <td>0.0</td>\n",
              "      <td>0.0</td>\n",
              "      <td>0.0</td>\n",
              "      <td>0.0</td>\n",
              "      <td>0.0</td>\n",
              "      <td>0.0</td>\n",
              "      <td>0.0</td>\n",
              "      <td>0.0</td>\n",
              "    </tr>\n",
              "    <tr>\n",
              "      <th>33</th>\n",
              "      <td>0.000901</td>\n",
              "      <td>0.001001</td>\n",
              "      <td>0.001101</td>\n",
              "      <td>0.000300</td>\n",
              "      <td>0.001301</td>\n",
              "      <td>0.000300</td>\n",
              "      <td>0.001101</td>\n",
              "      <td>0.000100</td>\n",
              "      <td>0.003202</td>\n",
              "      <td>0.002502</td>\n",
              "      <td>0.000600</td>\n",
              "      <td>0.023514</td>\n",
              "      <td>0.018011</td>\n",
              "      <td>0.015709</td>\n",
              "      <td>0.000200</td>\n",
              "      <td>0.000300</td>\n",
              "      <td>0.001101</td>\n",
              "      <td>0.000500</td>\n",
              "      <td>0.002702</td>\n",
              "      <td>0.003002</td>\n",
              "      <td>0.003602</td>\n",
              "      <td>0.004102</td>\n",
              "      <td>0.001001</td>\n",
              "      <td>0.009105</td>\n",
              "      <td>0.008905</td>\n",
              "      <td>0.002902</td>\n",
              "      <td>0.006804</td>\n",
              "      <td>0.008005</td>\n",
              "      <td>0.005403</td>\n",
              "      <td>0.0</td>\n",
              "      <td>0.000901</td>\n",
              "      <td>0.001301</td>\n",
              "      <td>0.000800</td>\n",
              "      <td>0.000000</td>\n",
              "      <td>0.000000</td>\n",
              "      <td>0.000000</td>\n",
              "      <td>0.000000</td>\n",
              "      <td>0.000000</td>\n",
              "      <td>0.000000</td>\n",
              "      <td>0.000000</td>\n",
              "      <td>...</td>\n",
              "      <td>0.000000</td>\n",
              "      <td>0.000200</td>\n",
              "      <td>0.000200</td>\n",
              "      <td>0.000000</td>\n",
              "      <td>0.0002</td>\n",
              "      <td>0.000100</td>\n",
              "      <td>0.000000</td>\n",
              "      <td>0.000000</td>\n",
              "      <td>0.000100</td>\n",
              "      <td>0.000000</td>\n",
              "      <td>0.000000</td>\n",
              "      <td>0.0</td>\n",
              "      <td>0.0001</td>\n",
              "      <td>0.000000</td>\n",
              "      <td>0.000000</td>\n",
              "      <td>0.000000</td>\n",
              "      <td>0.000000</td>\n",
              "      <td>0.000000</td>\n",
              "      <td>0.000000</td>\n",
              "      <td>0.000000</td>\n",
              "      <td>0.000000</td>\n",
              "      <td>0.000000</td>\n",
              "      <td>0.000000</td>\n",
              "      <td>0.000000</td>\n",
              "      <td>0.0</td>\n",
              "      <td>0.0</td>\n",
              "      <td>0.0</td>\n",
              "      <td>0.0</td>\n",
              "      <td>0.0</td>\n",
              "      <td>0.0</td>\n",
              "      <td>0.0</td>\n",
              "      <td>0.0</td>\n",
              "      <td>0.0</td>\n",
              "      <td>0.0</td>\n",
              "      <td>0.0</td>\n",
              "      <td>0.0</td>\n",
              "      <td>0.0</td>\n",
              "      <td>0.0</td>\n",
              "      <td>0.0</td>\n",
              "      <td>0.0</td>\n",
              "    </tr>\n",
              "    <tr>\n",
              "      <th>31</th>\n",
              "      <td>0.000864</td>\n",
              "      <td>0.000192</td>\n",
              "      <td>0.000288</td>\n",
              "      <td>0.000288</td>\n",
              "      <td>0.002017</td>\n",
              "      <td>0.000480</td>\n",
              "      <td>0.001825</td>\n",
              "      <td>0.000288</td>\n",
              "      <td>0.002689</td>\n",
              "      <td>0.002401</td>\n",
              "      <td>0.000864</td>\n",
              "      <td>0.025067</td>\n",
              "      <td>0.020457</td>\n",
              "      <td>0.015751</td>\n",
              "      <td>0.000768</td>\n",
              "      <td>0.000768</td>\n",
              "      <td>0.001153</td>\n",
              "      <td>0.001537</td>\n",
              "      <td>0.003554</td>\n",
              "      <td>0.001729</td>\n",
              "      <td>0.001729</td>\n",
              "      <td>0.004034</td>\n",
              "      <td>0.001633</td>\n",
              "      <td>0.010085</td>\n",
              "      <td>0.009892</td>\n",
              "      <td>0.003650</td>\n",
              "      <td>0.006435</td>\n",
              "      <td>0.008356</td>\n",
              "      <td>0.005474</td>\n",
              "      <td>0.0</td>\n",
              "      <td>0.000960</td>\n",
              "      <td>0.000960</td>\n",
              "      <td>0.000768</td>\n",
              "      <td>0.000096</td>\n",
              "      <td>0.000096</td>\n",
              "      <td>0.000096</td>\n",
              "      <td>0.000096</td>\n",
              "      <td>0.000096</td>\n",
              "      <td>0.000096</td>\n",
              "      <td>0.000096</td>\n",
              "      <td>...</td>\n",
              "      <td>0.000096</td>\n",
              "      <td>0.000096</td>\n",
              "      <td>0.000288</td>\n",
              "      <td>0.000000</td>\n",
              "      <td>0.0000</td>\n",
              "      <td>0.000288</td>\n",
              "      <td>0.000000</td>\n",
              "      <td>0.000096</td>\n",
              "      <td>0.000000</td>\n",
              "      <td>0.000000</td>\n",
              "      <td>0.000000</td>\n",
              "      <td>0.0</td>\n",
              "      <td>0.0000</td>\n",
              "      <td>0.000000</td>\n",
              "      <td>0.000096</td>\n",
              "      <td>0.000096</td>\n",
              "      <td>0.000000</td>\n",
              "      <td>0.000192</td>\n",
              "      <td>0.000288</td>\n",
              "      <td>0.000000</td>\n",
              "      <td>0.000192</td>\n",
              "      <td>0.000000</td>\n",
              "      <td>0.000000</td>\n",
              "      <td>0.000000</td>\n",
              "      <td>0.0</td>\n",
              "      <td>0.0</td>\n",
              "      <td>0.0</td>\n",
              "      <td>0.0</td>\n",
              "      <td>0.0</td>\n",
              "      <td>0.0</td>\n",
              "      <td>0.0</td>\n",
              "      <td>0.0</td>\n",
              "      <td>0.0</td>\n",
              "      <td>0.0</td>\n",
              "      <td>0.0</td>\n",
              "      <td>0.0</td>\n",
              "      <td>0.0</td>\n",
              "      <td>0.0</td>\n",
              "      <td>0.0</td>\n",
              "      <td>0.0</td>\n",
              "    </tr>\n",
              "    <tr>\n",
              "      <th>24</th>\n",
              "      <td>0.000746</td>\n",
              "      <td>0.000249</td>\n",
              "      <td>0.000166</td>\n",
              "      <td>0.000332</td>\n",
              "      <td>0.001410</td>\n",
              "      <td>0.000249</td>\n",
              "      <td>0.000581</td>\n",
              "      <td>0.000083</td>\n",
              "      <td>0.003317</td>\n",
              "      <td>0.002903</td>\n",
              "      <td>0.000912</td>\n",
              "      <td>0.019738</td>\n",
              "      <td>0.016006</td>\n",
              "      <td>0.013601</td>\n",
              "      <td>0.000498</td>\n",
              "      <td>0.000166</td>\n",
              "      <td>0.000995</td>\n",
              "      <td>0.000663</td>\n",
              "      <td>0.001907</td>\n",
              "      <td>0.000912</td>\n",
              "      <td>0.000663</td>\n",
              "      <td>0.003151</td>\n",
              "      <td>0.000498</td>\n",
              "      <td>0.009786</td>\n",
              "      <td>0.009703</td>\n",
              "      <td>0.002903</td>\n",
              "      <td>0.006303</td>\n",
              "      <td>0.007879</td>\n",
              "      <td>0.005639</td>\n",
              "      <td>0.0</td>\n",
              "      <td>0.000829</td>\n",
              "      <td>0.000829</td>\n",
              "      <td>0.000581</td>\n",
              "      <td>0.000249</td>\n",
              "      <td>0.000166</td>\n",
              "      <td>0.000663</td>\n",
              "      <td>0.000083</td>\n",
              "      <td>0.000083</td>\n",
              "      <td>0.000083</td>\n",
              "      <td>0.000083</td>\n",
              "      <td>...</td>\n",
              "      <td>0.000083</td>\n",
              "      <td>0.000166</td>\n",
              "      <td>0.000166</td>\n",
              "      <td>0.000083</td>\n",
              "      <td>0.0000</td>\n",
              "      <td>0.000415</td>\n",
              "      <td>0.000000</td>\n",
              "      <td>0.000083</td>\n",
              "      <td>0.000249</td>\n",
              "      <td>0.000000</td>\n",
              "      <td>0.000000</td>\n",
              "      <td>0.0</td>\n",
              "      <td>0.0000</td>\n",
              "      <td>0.000083</td>\n",
              "      <td>0.000000</td>\n",
              "      <td>0.000083</td>\n",
              "      <td>0.000166</td>\n",
              "      <td>0.000000</td>\n",
              "      <td>0.000000</td>\n",
              "      <td>0.000166</td>\n",
              "      <td>0.000166</td>\n",
              "      <td>0.000332</td>\n",
              "      <td>0.000249</td>\n",
              "      <td>0.000083</td>\n",
              "      <td>0.0</td>\n",
              "      <td>0.0</td>\n",
              "      <td>0.0</td>\n",
              "      <td>0.0</td>\n",
              "      <td>0.0</td>\n",
              "      <td>0.0</td>\n",
              "      <td>0.0</td>\n",
              "      <td>0.0</td>\n",
              "      <td>0.0</td>\n",
              "      <td>0.0</td>\n",
              "      <td>0.0</td>\n",
              "      <td>0.0</td>\n",
              "      <td>0.0</td>\n",
              "      <td>0.0</td>\n",
              "      <td>0.0</td>\n",
              "      <td>0.0</td>\n",
              "    </tr>\n",
              "    <tr>\n",
              "      <th>25</th>\n",
              "      <td>0.000760</td>\n",
              "      <td>0.000844</td>\n",
              "      <td>0.000760</td>\n",
              "      <td>0.000253</td>\n",
              "      <td>0.002449</td>\n",
              "      <td>0.000084</td>\n",
              "      <td>0.001013</td>\n",
              "      <td>0.000084</td>\n",
              "      <td>0.002111</td>\n",
              "      <td>0.002280</td>\n",
              "      <td>0.000338</td>\n",
              "      <td>0.021532</td>\n",
              "      <td>0.017394</td>\n",
              "      <td>0.015030</td>\n",
              "      <td>0.000000</td>\n",
              "      <td>0.000000</td>\n",
              "      <td>0.001098</td>\n",
              "      <td>0.000929</td>\n",
              "      <td>0.002955</td>\n",
              "      <td>0.000507</td>\n",
              "      <td>0.000507</td>\n",
              "      <td>0.003462</td>\n",
              "      <td>0.000591</td>\n",
              "      <td>0.010470</td>\n",
              "      <td>0.010386</td>\n",
              "      <td>0.002871</td>\n",
              "      <td>0.005151</td>\n",
              "      <td>0.006839</td>\n",
              "      <td>0.004222</td>\n",
              "      <td>0.0</td>\n",
              "      <td>0.001013</td>\n",
              "      <td>0.001098</td>\n",
              "      <td>0.000760</td>\n",
              "      <td>0.000422</td>\n",
              "      <td>0.000338</td>\n",
              "      <td>0.000338</td>\n",
              "      <td>0.000338</td>\n",
              "      <td>0.000338</td>\n",
              "      <td>0.000338</td>\n",
              "      <td>0.000338</td>\n",
              "      <td>...</td>\n",
              "      <td>0.000084</td>\n",
              "      <td>0.000000</td>\n",
              "      <td>0.000422</td>\n",
              "      <td>0.000000</td>\n",
              "      <td>0.0000</td>\n",
              "      <td>0.000169</td>\n",
              "      <td>0.000084</td>\n",
              "      <td>0.000169</td>\n",
              "      <td>0.000084</td>\n",
              "      <td>0.000084</td>\n",
              "      <td>0.000253</td>\n",
              "      <td>0.0</td>\n",
              "      <td>0.0000</td>\n",
              "      <td>0.000169</td>\n",
              "      <td>0.000084</td>\n",
              "      <td>0.000169</td>\n",
              "      <td>0.000084</td>\n",
              "      <td>0.000084</td>\n",
              "      <td>0.000000</td>\n",
              "      <td>0.000169</td>\n",
              "      <td>0.000000</td>\n",
              "      <td>0.000000</td>\n",
              "      <td>0.000000</td>\n",
              "      <td>0.000422</td>\n",
              "      <td>0.0</td>\n",
              "      <td>0.0</td>\n",
              "      <td>0.0</td>\n",
              "      <td>0.0</td>\n",
              "      <td>0.0</td>\n",
              "      <td>0.0</td>\n",
              "      <td>0.0</td>\n",
              "      <td>0.0</td>\n",
              "      <td>0.0</td>\n",
              "      <td>0.0</td>\n",
              "      <td>0.0</td>\n",
              "      <td>0.0</td>\n",
              "      <td>0.0</td>\n",
              "      <td>0.0</td>\n",
              "      <td>0.0</td>\n",
              "      <td>0.0</td>\n",
              "    </tr>\n",
              "  </tbody>\n",
              "</table>\n",
              "<p>5 rows × 1096 columns</p>\n",
              "</div>"
            ],
            "text/plain": [
              "                    Co       Con       onc       nce  ...    i    t    w    o    s\n",
              "30  0.000761  0.000338  0.000338  0.000507  0.001692  ...  0.0  0.0  0.0  0.0  0.0\n",
              "33  0.000901  0.001001  0.001101  0.000300  0.001301  ...  0.0  0.0  0.0  0.0  0.0\n",
              "31  0.000864  0.000192  0.000288  0.000288  0.002017  ...  0.0  0.0  0.0  0.0  0.0\n",
              "24  0.000746  0.000249  0.000166  0.000332  0.001410  ...  0.0  0.0  0.0  0.0  0.0\n",
              "25  0.000760  0.000844  0.000760  0.000253  0.002449  ...  0.0  0.0  0.0  0.0  0.0\n",
              "\n",
              "[5 rows x 1096 columns]"
            ]
          },
          "metadata": {
            "tags": []
          },
          "execution_count": 25
        }
      ]
    },
    {
      "cell_type": "markdown",
      "metadata": {
        "id": "d7X-MBqqenfT"
      },
      "source": [
        "One way we can understand the relationship between these different points is their **distance** from each other.\n",
        "\n",
        "Papers (aka points) that are closer together have more similar tri-gram frequencies and, in general, have more similar **style**. We would expect all of the papers that Hamilton wrote to be relatively close together, in a **cluster**, and all of the papers that Madison wrote to be in another cluster.\n",
        "\n",
        "To get started, let's calculate these distances. The SciPy function `scipy.spatial.distance.cdist()` calculates the 'distance' between each pair of points in 1096-dimensional space. It does this by calculating **cosine similarity**. Here's a formula and diagram if you're interested in the math. (Technically, we are calculating cosine dissimilarity because we're interested in distance, so it's 1 minus the cosine similarity.)\n",
        "\n",
        "<img src=\"https://miro.medium.com/max/2636/1*xxYHHrhT9HZJIBEsfW7W0Q.png\" width=700></img>\n",
        "<img src=\"https://miro.medium.com/max/686/1*dGWOzgAYv9NUkWvkETQUTQ.png\" width=400></img>\n",
        "\n",
        "\n",
        "If not, feel free to think of it intuitively as **how close or not close two documents are, stylistically**."
      ]
    },
    {
      "cell_type": "code",
      "metadata": {
        "id": "C_ElsRWpgV3-"
      },
      "source": [
        "import scipy\n",
        "pairwise_dist = scipy.spatial.distance.cdist(freqs.values, freqs.values, 'cosine')\n",
        "# read more about the cdist function here: \n",
        "# https://docs.scipy.org/doc/scipy/reference/generated/scipy.spatial.distance.cdist.html"
      ],
      "execution_count": null,
      "outputs": []
    },
    {
      "cell_type": "markdown",
      "metadata": {
        "id": "trH2XqXSgZ7d"
      },
      "source": [
        "The resulting array is 81 by 81, with `pairwise_dist[i][j]` representing the distance between paper `i` and paper `j`.\n",
        "\n",
        "It has a diagonal of all 0s, because the distance between a text and itself should be 0."
      ]
    },
    {
      "cell_type": "code",
      "metadata": {
        "colab": {
          "base_uri": "https://localhost:8080/"
        },
        "id": "CgxE4f-rgW21",
        "outputId": "ec1c221e-c8d0-4942-c058-497c5fa6cb34"
      },
      "source": [
        "pairwise_dist.shape"
      ],
      "execution_count": null,
      "outputs": [
        {
          "output_type": "execute_result",
          "data": {
            "text/plain": [
              "(81, 81)"
            ]
          },
          "metadata": {
            "tags": []
          },
          "execution_count": 27
        }
      ]
    },
    {
      "cell_type": "code",
      "metadata": {
        "colab": {
          "base_uri": "https://localhost:8080/"
        },
        "id": "V8GJjqnvgf8t",
        "outputId": "402f9cd9-9042-44bc-a40e-7347986fed30"
      },
      "source": [
        "pairwise_dist[10][10]"
      ],
      "execution_count": null,
      "outputs": [
        {
          "output_type": "execute_result",
          "data": {
            "text/plain": [
              "0.0"
            ]
          },
          "metadata": {
            "tags": []
          },
          "execution_count": 28
        }
      ]
    },
    {
      "cell_type": "markdown",
      "metadata": {
        "id": "JyFMH775hEyT"
      },
      "source": [
        "Now that we have the distances between each pair of texts, we can **approximate the relationships between all of the texts in 2 dimensions**, which is something we can visually understand.\n",
        "\n",
        "We do this using something called [multi-dimensional scaling](https://scikit-learn.org/stable/modules/generated/sklearn.manifold.MDS.html), which you can read more about if you're interested. Otherwise, feel free to skip over the details."
      ]
    },
    {
      "cell_type": "code",
      "metadata": {
        "colab": {
          "base_uri": "https://localhost:8080/"
        },
        "id": "RunNndYLeQXo",
        "outputId": "91770ba2-8231-4176-d2ec-f52a5f5810b1"
      },
      "source": [
        "# we use the implementation from scikit-learn, another very important data science/ML library.\n",
        "from sklearn.manifold import MDS\n",
        "\n",
        "# defining the kind of transformation we're looking for. We want\n",
        "# to reduce our points to 2 dimensions, and we want to use the\n",
        "# distances that we precomputed.\n",
        "embedding = MDS(n_components=2, dissimilarity='precomputed')\n",
        "\n",
        "# We can apply the transformation to our array of pairwise distances between papers\n",
        "papers_in_2d = embedding.fit_transform(pairwise_dist)\n",
        "papers_in_2d.shape"
      ],
      "execution_count": null,
      "outputs": [
        {
          "output_type": "execute_result",
          "data": {
            "text/plain": [
              "(81, 2)"
            ]
          },
          "metadata": {
            "tags": []
          },
          "execution_count": 29
        }
      ]
    },
    {
      "cell_type": "markdown",
      "metadata": {
        "id": "xfXLa0GOhjlC"
      },
      "source": [
        "We end up with an array with 81 rows and just 2 columns, which we can then plot using **matplotlib**, a Python data visualization library.\n"
      ]
    },
    {
      "cell_type": "code",
      "metadata": {
        "colab": {
          "base_uri": "https://localhost:8080/",
          "height": 265
        },
        "id": "NMQdZs96hd1n",
        "outputId": "1f744232-c0cc-49a6-c62b-f8153237305c"
      },
      "source": [
        "import matplotlib.pyplot as plt\n",
        "\n",
        "# here's an example of how to plot some points on a graph:\n",
        "plt.scatter([0,1,2,3], [1,2,3,4])\n",
        "plt.show()\n",
        "\n",
        "# Write some code to plot the points in papers_in_2d\n",
        "# Hint: you can access the x coordinates using papers_in_2d[:,0]\n",
        "# TODO: IMPLEMENT!"
      ],
      "execution_count": null,
      "outputs": [
        {
          "output_type": "display_data",
          "data": {
            "image/png": "[encoded data removed]",
            "text/plain": [
              "<Figure size 432x288 with 1 Axes>"
            ]
          },
          "metadata": {
            "tags": [],
            "needs_background": "light"
          }
        }
      ]
    },
    {
      "cell_type": "markdown",
      "metadata": {
        "id": "IMW9mff-hwWF"
      },
      "source": [
        "This shows us the relative distances between texts, preserved as well as possible when moving from 1096 dimensions down to 2. The axes don't mean much--it's the relative distances better points that matter.\n",
        "\n",
        "Still, this plot doesn't tell us much. Let's color each of these points by whether they were written by Hamilton, Madison, or an uncertain author to see if there are any patterns.\n",
        "\n",
        "To do this, we need to make a dictionary mapping a paper's name/number to its authors colors"
      ]
    },
    {
      "cell_type": "code",
      "metadata": {
        "id": "iSiLmLSJdoqc"
      },
      "source": [
        "# Populate the dictionary here! Map the names of Hamilton's papers to 'red', \n",
        "# Madison's to 'blue', and disputed to 'green'\n",
        "paper_name_to_author = {}\n",
        "\n",
        "# TODO: IMPLEMENT!\n",
        "# remember that the names for all of hamilton's papers can be found in \n",
        "# hamilton_paper_names. Same for madison_paper_names and disputed_paper_names.\n",
        "\n",
        "\n",
        "# Now, we create a list of colors that aligns to the order of papers\n",
        "# from our original dataframe (and therefore the order of points)\n",
        "# in our plot.\n",
        "colors = [paper_name_to_author[pname] for pname in freqs.index]"
      ],
      "execution_count": null,
      "outputs": []
    },
    {
      "cell_type": "markdown",
      "metadata": {
        "id": "PV1DkRR0ijcN"
      },
      "source": [
        "Let's plot! Try adding the `c` keyword argument in the `plt.scatter()` function."
      ]
    },
    {
      "cell_type": "code",
      "metadata": {
        "colab": {
          "base_uri": "https://localhost:8080/",
          "height": 281
        },
        "id": "a-l8x-sA_NvS",
        "outputId": "142e238a-ce2e-48db-b627-c3a79c936585"
      },
      "source": [
        "# TODO: IMPLEMENT! using plt.scatter()\n",
        "\n",
        "plt.title('Federalist Papers Authorship Attribution') # give your plot a title\n",
        "\n",
        "\n",
        "# This code gives us a custom legend. Feel free to ignore it!\n",
        "import matplotlib.patches as mpatches\n",
        "import matplotlib.pyplot as plt\n",
        "r_patch = mpatches.Patch(color='red', label='Hamilton')\n",
        "b_patch = mpatches.Patch(color='blue', label='Madison')\n",
        "g_patch = mpatches.Patch(color='green', label='Disputed')\n",
        "plt.legend(handles=[r_patch, b_patch, g_patch])\n",
        "\n",
        "plt.show()"
      ],
      "execution_count": null,
      "outputs": [
        {
          "output_type": "display_data",
          "data": {
            "image/png": "[encoded data removed]",
            "text/plain": [
              "<Figure size 432x288 with 1 Axes>"
            ]
          },
          "metadata": {
            "tags": [],
            "needs_background": "light"
          }
        }
      ]
    },
    {
      "cell_type": "markdown",
      "metadata": {
        "id": "dDvqbxCnjHij"
      },
      "source": [
        "We can see that Hamilton's and Madison's papers do in fact cluster at the top and bottom of the plot, and we can see that the green disputed papers fall closer to Madison's other papers.\n",
        "\n",
        "This agrees with the general consensus of researchers who have worked on this problem. In the 1940s, Frederick Mosteller and David Wallace used statistical analysis in their paper, “Inference in an Authorship Problem,” to conclude that Madison was the author of all 12 disputed papers.\n",
        "\n",
        "This is just one application of stylometry to a problem in the social sciences, and I hope you're interested in learning more."
      ]
    }
  ]
}