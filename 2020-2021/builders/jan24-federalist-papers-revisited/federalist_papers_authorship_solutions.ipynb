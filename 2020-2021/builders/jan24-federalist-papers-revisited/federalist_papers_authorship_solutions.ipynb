{
  "nbformat": 4,
  "nbformat_minor": 0,
  "metadata": {
    "kernelspec": {
      "display_name": "Python 3",
      "language": "python",
      "name": "python3"
    },
    "language_info": {
      "codemirror_mode": {
        "name": "ipython",
        "version": 3
      },
      "file_extension": ".py",
      "mimetype": "text/x-python",
      "name": "python",
      "nbconvert_exporter": "python",
      "pygments_lexer": "ipython3",
      "version": "3.7.0"
    },
    "colab": {
      "name": "federalist_papers_authorship_solutions.ipynb",
      "provenance": [],
      "collapsed_sections": []
    }
  },
  "cells": [
    {
      "cell_type": "markdown",
      "metadata": {
        "id": "-L5a3DGCldTW"
      },
      "source": [
        "# Federalist Papers Authorship Attribution\n",
        "<img src=https://constitutioncenter.org/images/uploads/blog/Federalist_Papers_authors_twitter.jpg width=400></img>\n",
        "\n",
        "\n",
        "The *Federalist Papers* is a collection of 85 essays written by Alexander Hamilton, James Madison, and John Hay under the pseudonym \"Publius\" in 1787 and 1788. They advocated for the ratification of the Constitution and are widely considered to be foundational to America's system of government.\n",
        "\n",
        "The authorship of 12 of the essays is disputed, as they are claimed by both Madison and Hamilton. We can attempt to resolve this dispute using **computational stylometry**, which uses statistical methods to characterize the stylistic elements of a text or across texts of a certain author.\n",
        "\n",
        "Authorship attribution of the *Federalist Papers* is a well-studied problem, and the methodology we'll be looking at today is a simple approach based off of [this](https://kanishka.xyz/post/my-first-few-open-source-contributions-authorship-attribution-of-the-federalist-papers/) blog post by Kanishka Misra."
      ]
    },
    {
      "cell_type": "markdown",
      "metadata": {
        "id": "pWPBctM_qDKd"
      },
      "source": [
        "### Loading the data\n",
        "Add the folder [here](https://drive.google.com/drive/folders/1eHe0iK2VOcY7MQCy3kNthNIGoMNdG3Qa?usp=sharing) to your Drive. The below code makes your drive accessible to this notebook, so follow the instructions that appear once you run the cell.\n"
      ]
    },
    {
      "cell_type": "code",
      "metadata": {
        "colab": {
          "base_uri": "https://localhost:8080/"
        },
        "id": "T0XH-Ozhlwao",
        "outputId": "835e6a3c-bb63-490e-fd91-c10b99bd2293"
      },
      "source": [
        "from google.colab import drive\n",
        "drive.mount('/content/drive')"
      ],
      "execution_count": null,
      "outputs": [
        {
          "output_type": "stream",
          "text": [
            "Drive already mounted at /content/drive; to attempt to forcibly remount, call drive.mount(\"/content/drive\", force_remount=True).\n"
          ],
          "name": "stdout"
        }
      ]
    },
    {
      "cell_type": "markdown",
      "metadata": {
        "id": "o_CLlz_hqLMH"
      },
      "source": [
        "Make sure that you have correctly given yourself access to the materials! `ls` is a command to list the contents of the specified folder, so the output should be: `disputed  hamilton  jay  madison` (the 4 subfolders in `papers`)"
      ]
    },
    {
      "cell_type": "code",
      "metadata": {
        "colab": {
          "base_uri": "https://localhost:8080/"
        },
        "id": "VyJrYBlDl9Oz",
        "outputId": "0b98c9ac-8668-446f-849d-5424d6632e57"
      },
      "source": [
        "papers = \"/content/drive/MyDrive/papers\"\n",
        "!ls $papers"
      ],
      "execution_count": null,
      "outputs": [
        {
          "output_type": "stream",
          "text": [
            "disputed  hamilton  jay  madison\n"
          ],
          "name": "stdout"
        }
      ]
    },
    {
      "cell_type": "markdown",
      "metadata": {
        "id": "F-gbBCpYq0xY"
      },
      "source": [
        "Now, let's load the papers. This code generates a list of the papers written by Hamilton, which can be found in `papers/hamilton`. Write the code to identify the papers by Madison and the disputed papers as well (which can be found in `papers/madison` and in `papers/disputed`)."
      ]
    },
    {
      "cell_type": "code",
      "metadata": {
        "colab": {
          "base_uri": "https://localhost:8080/"
        },
        "id": "PWLyS1SKsIPz",
        "outputId": "49276d3b-3f86-42ee-c9a2-7d5708953fac"
      },
      "source": [
        "import glob\n",
        "import os\n",
        "\n",
        "# Note: glob.glob() returns a list of paths matching a pathname pattern.\n",
        "# The pattern \"papers/hamilton/*\" uses * to signify all files in \"papers/hamilton\"\n",
        "hamilton = glob.glob(f'{papers}/hamilton/*')\n",
        "print('contents of hamilton: ', hamilton)\n",
        "\n",
        "# TODO: uncomment and complete the below code!\n",
        "madison = glob.glob(f'{papers}/madison/*')\n",
        "disputed = glob.glob(f'{papers}/disputed/*')"
      ],
      "execution_count": null,
      "outputs": [
        {
          "output_type": "stream",
          "text": [
            "contents of hamilton:  ['/content/drive/MyDrive/papers/hamilton/26.txt', '/content/drive/MyDrive/papers/hamilton/29.txt', '/content/drive/MyDrive/papers/hamilton/84.txt', '/content/drive/MyDrive/papers/hamilton/71.txt', '/content/drive/MyDrive/papers/hamilton/36.txt', '/content/drive/MyDrive/papers/hamilton/60.txt', '/content/drive/MyDrive/papers/hamilton/24.txt', '/content/drive/MyDrive/papers/hamilton/67.txt', '/content/drive/MyDrive/papers/hamilton/25.txt', '/content/drive/MyDrive/papers/hamilton/8.txt', '/content/drive/MyDrive/papers/hamilton/73.txt', '/content/drive/MyDrive/papers/hamilton/9.txt', '/content/drive/MyDrive/papers/hamilton/7.txt', '/content/drive/MyDrive/papers/hamilton/16.txt', '/content/drive/MyDrive/papers/hamilton/79.txt', '/content/drive/MyDrive/papers/hamilton/74.txt', '/content/drive/MyDrive/papers/hamilton/30.txt', '/content/drive/MyDrive/papers/hamilton/83.txt', '/content/drive/MyDrive/papers/hamilton/17.txt', '/content/drive/MyDrive/papers/hamilton/69.txt', '/content/drive/MyDrive/papers/hamilton/32.txt', '/content/drive/MyDrive/papers/hamilton/77.txt', '/content/drive/MyDrive/papers/hamilton/15.txt', '/content/drive/MyDrive/papers/hamilton/70_2.txt', '/content/drive/MyDrive/papers/hamilton/21.txt', '/content/drive/MyDrive/papers/hamilton/66.txt', '/content/drive/MyDrive/papers/hamilton/76.txt', '/content/drive/MyDrive/papers/hamilton/61.txt', '/content/drive/MyDrive/papers/hamilton/22.txt', '/content/drive/MyDrive/papers/hamilton/70.txt', '/content/drive/MyDrive/papers/hamilton/68.txt', '/content/drive/MyDrive/papers/hamilton/11.txt', '/content/drive/MyDrive/papers/hamilton/35.txt', '/content/drive/MyDrive/papers/hamilton/65.txt', '/content/drive/MyDrive/papers/hamilton/1.txt', '/content/drive/MyDrive/papers/hamilton/78.txt', '/content/drive/MyDrive/papers/hamilton/13.txt', '/content/drive/MyDrive/papers/hamilton/81.txt', '/content/drive/MyDrive/papers/hamilton/85.txt', '/content/drive/MyDrive/papers/hamilton/28.txt', '/content/drive/MyDrive/papers/hamilton/23.txt', '/content/drive/MyDrive/papers/hamilton/6.txt', '/content/drive/MyDrive/papers/hamilton/27.txt', '/content/drive/MyDrive/papers/hamilton/72.txt', '/content/drive/MyDrive/papers/hamilton/12.txt', '/content/drive/MyDrive/papers/hamilton/80.txt', '/content/drive/MyDrive/papers/hamilton/31.txt', '/content/drive/MyDrive/papers/hamilton/82.txt', '/content/drive/MyDrive/papers/hamilton/75.txt', '/content/drive/MyDrive/papers/hamilton/34.txt', '/content/drive/MyDrive/papers/hamilton/33.txt', '/content/drive/MyDrive/papers/hamilton/59.txt']\n"
          ],
          "name": "stdout"
        }
      ]
    },
    {
      "cell_type": "markdown",
      "metadata": {
        "id": "10-E0Fu5uXML"
      },
      "source": [
        "Lets take a look at the files' contents."
      ]
    },
    {
      "cell_type": "code",
      "metadata": {
        "colab": {
          "base_uri": "https://localhost:8080/"
        },
        "id": "ZCIBPyXruaEH",
        "outputId": "5f57a6a6-4946-4066-fc87-7112ba877b18"
      },
      "source": [
        "filename = madison[0]\n",
        "print(f'The path to the first paper written by Madison is: {filename}')\n",
        "print(\"The first 500 characters of the file:\\n\\n\")\n",
        "with open(filename) as f:\n",
        "    print(f.read()[:500])"
      ],
      "execution_count": null,
      "outputs": [
        {
          "output_type": "stream",
          "text": [
            "The path to the first paper written by Madison is: /content/drive/MyDrive/papers/madison/18.txt\n",
            "The first 500 characters of the file:\n",
            "\n",
            "\n",
            " 18\n",
            "\n",
            "\n",
            "\n",
            "The Same Subject Continued\n",
            "\n",
            "(The Insufficiency of the Present Confederation to Preserve the\n",
            "Union)\n",
            "\n",
            "For the Independent Journal.\n",
            "\n",
            "\n",
            "\n",
            "HAMILTON AND MADISON\n",
            "\n",
            "\n",
            "\n",
            "To the People of the State of New York:\n",
            "\n",
            "AMONG the confederacies of antiquity, the most considerable was\n",
            "that of the Grecian republics, associated under the Amphictyonic\n",
            "council. From the best accounts transmitted of this celebrated\n",
            "institution, it bore a very instructive analogy to the present\n",
            "Confederation of the American States.\n",
            "\n",
            "Th\n"
          ],
          "name": "stdout"
        }
      ]
    },
    {
      "cell_type": "markdown",
      "metadata": {
        "id": "A7YLIZY5uUBN"
      },
      "source": [
        "Looks good, but let's do some light formatting to remove extraneous information, like new lines (`\\n`) and carriage returns (`\\r`). Feel free to ignore this portion of the code."
      ]
    },
    {
      "cell_type": "code",
      "metadata": {
        "id": "Q2sln8dtwQId"
      },
      "source": [
        "madison_papers = []\n",
        "for filename in madison:\n",
        "    with open(filename) as f:\n",
        "        madison_papers.append(f.read().replace('\\n', ' ').replace('\\r',''))\n",
        "\n",
        "hamilton_papers = []\n",
        "for filename in hamilton:\n",
        "    with open(filename) as f:\n",
        "        hamilton_papers.append(f.read().replace('\\n', ' ').replace('\\r',''))\n",
        "\n",
        "disputed_papers = []\n",
        "for filename in disputed:\n",
        "    with open(filename) as f:\n",
        "        disputed_papers.append(f.read().replace('\\n', ' ').replace('\\r',''))"
      ],
      "execution_count": null,
      "outputs": []
    },
    {
      "cell_type": "markdown",
      "metadata": {
        "id": "ZfYHz-1Pww1c"
      },
      "source": [
        "Now, the paper we looked at should be one long, (relatively) clean string.\n",
        "\n"
      ]
    },
    {
      "cell_type": "code",
      "metadata": {
        "colab": {
          "base_uri": "https://localhost:8080/"
        },
        "id": "21g-_VgxwwNV",
        "outputId": "44ffd475-c8c6-4ea4-8906-2f0e2bcf4f3d"
      },
      "source": [
        "print(madison_papers[0])"
      ],
      "execution_count": null,
      "outputs": [
        {
          "output_type": "stream",
          "text": [
            " 18    The Same Subject Continued  (The Insufficiency of the Present Confederation to Preserve the Union)  For the Independent Journal.    HAMILTON AND MADISON    To the People of the State of New York:  AMONG the confederacies of antiquity, the most considerable was that of the Grecian republics, associated under the Amphictyonic council. From the best accounts transmitted of this celebrated institution, it bore a very instructive analogy to the present Confederation of the American States.  The members retained the character of independent and sovereign states, and had equal votes in the federal council. This council had a general authority to propose and resolve whatever it judged necessary for the common welfare of Greece; to declare and carry on war; to decide, in the last resort, all controversies between the members; to fine the aggressing party; to employ the whole force of the confederacy against the disobedient; to admit new members. The Amphictyons were the guardians of religion, and of the immense riches belonging to the temple of Delphos, where they had the right of jurisdiction in controversies between the inhabitants and those who came to consult the oracle. As a further provision for the efficacy of the federal powers, they took an oath mutually to defend and protect the united cities, to punish the violators of this oath, and to inflict vengeance on sacrilegious despoilers of the temple.  In theory, and upon paper, this apparatus of powers seems amply sufficient for all general purposes. In several material instances, they exceed the powers enumerated in the articles of confederation. The Amphictyons had in their hands the superstition of the times, one of the principal engines by which government was then maintained; they had a declared authority to use coercion against refractory cities, and were bound by oath to exert this authority on the necessary occasions.  Very different, nevertheless, was the experiment from the theory. The powers, like those of the present Congress, were administered by deputies appointed wholly by the cities in their political capacities; and exercised over them in the same capacities. Hence the weakness, the disorders, and finally the destruction of the confederacy. The more powerful members, instead of being kept in awe and subordination, tyrannized successively over all the rest. Athens, as we learn from Demosthenes, was the arbiter of Greece seventy-three years. The Lacedaemonians next governed it twenty-nine years; at a subsequent period, after the battle of Leuctra, the Thebans had their turn of domination.  It happened but too often, according to Plutarch, that the deputies of the strongest cities awed and corrupted those of the weaker; and that judgment went in favor of the most powerful party.  Even in the midst of defensive and dangerous wars with Persia and Macedon, the members never acted in concert, and were, more or fewer of them, eternally the dupes or the hirelings of the common enemy. The intervals of foreign war were filled up by domestic vicissitudes convulsions, and carnage.  After the conclusion of the war with Xerxes, it appears that the Lacedaemonians required that a number of the cities should be turned out of the confederacy for the unfaithful part they had acted. The Athenians, finding that the Lacedaemonians would lose fewer partisans by such a measure than themselves, and would become masters of the public deliberations, vigorously opposed and defeated the attempt. This piece of history proves at once the inefficiency of the union, the ambition and jealousy of its most powerful members, and the dependent and degraded condition of the rest. The smaller members, though entitled by the theory of their system to revolve in equal pride and majesty around the common center, had become, in fact, satellites of the orbs of primary magnitude.  Had the Greeks, says the Abbe Milot, been as wise as they were courageous, they would have been admonished by experience of the necessity of a closer union, and would have availed themselves of the peace which followed their success against the Persian arms, to establish such a reformation. Instead of this obvious policy, Athens and Sparta, inflated with the victories and the glory they had acquired, became first rivals and then enemies; and did each other infinitely more mischief than they had suffered from Xerxes. Their mutual jealousies, fears, hatreds, and injuries ended in the celebrated Peloponnesian war; which itself ended in the ruin and slavery of the Athenians who had begun it.  As a weak government, when not at war, is ever agitated by internal dissentions, so these never fail to bring on fresh calamities from abroad. The Phocians having ploughed up some consecrated ground belonging to the temple of Apollo, the Amphictyonic council, according to the superstition of the age, imposed a fine on the sacrilegious offenders. The Phocians, being abetted by Athens and Sparta, refused to submit to the decree. The Thebans, with others of the cities, undertook to maintain the authority of the Amphictyons, and to avenge the violated god. The latter, being the weaker party, invited the assistance of Philip of Macedon, who had secretly fostered the contest. Philip gladly seized the opportunity of executing the designs he had long planned against the liberties of Greece. By his intrigues and bribes he won over to his interests the popular leaders of several cities; by their influence and votes, gained admission into the Amphictyonic council; and by his arts and his arms, made himself master of the confederacy.  Such were the consequences of the fallacious principle on which this interesting establishment was founded. Had Greece, says a judicious observer on her fate, been united by a stricter confederation, and persevered in her union, she would never have worn the chains of Macedon; and might have proved a barrier to the vast projects of Rome.  The Achaean league, as it is called, was another society of Grecian republics, which supplies us with valuable instruction.  The Union here was far more intimate, and its organization much wiser, than in the preceding instance. It will accordingly appear, that though not exempt from a similar catastrophe, it by no means equally deserved it.  The cities composing this league retained their municipal jurisdiction, appointed their own officers, and enjoyed a perfect equality. The senate, in which they were represented, had the sole and exclusive right of peace and war; of sending and receiving ambassadors; of entering into treaties and alliances; of appointing a chief magistrate or praetor, as he was called, who commanded their armies, and who, with the advice and consent of ten of the senators, not only administered the government in the recess of the senate, but had a great share in its deliberations, when assembled. According to the primitive constitution, there were two praetors associated in the administration; but on trial a single one was preferred.  It appears that the cities had all the same laws and customs, the same weights and measures, and the same money. But how far this effect proceeded from the authority of the federal council is left in uncertainty. It is said only that the cities were in a manner compelled to receive the same laws and usages. When Lacedaemon was brought into the league by Philopoemen, it was attended with an abolition of the institutions and laws of Lycurgus, and an adoption of those of the Achaeans. The Amphictyonic confederacy, of which she had been a member, left her in the full exercise of her government and her legislation. This circumstance alone proves a very material difference in the genius of the two systems.  It is much to be regretted that such imperfect monuments remain of this curious political fabric. Could its interior structure and regular operation be ascertained, it is probable that more light would be thrown by it on the science of federal government, than by any of the like experiments with which we are acquainted.  One important fact seems to be witnessed by all the historians who take notice of Achaean affairs. It is, that as well after the renovation of the league by Aratus, as before its dissolution by the arts of Macedon, there was infinitely more of moderation and justice in the administration of its government, and less of violence and sedition in the people, than were to be found in any of the cities exercising SINGLY all the prerogatives of sovereignty. The Abbe Mably, in his observations on Greece, says that the popular government, which was so tempestuous elsewhere, caused no disorders in the members of the Achaean republic, BECAUSE IT WAS THERE TEMPERED BY THE GENERAL AUTHORITY AND LAWS OF THE CONFEDERACY.  We are not to conclude too hastily, however, that faction did not, in a certain degree, agitate the particular cities; much less that a due subordination and harmony reigned in the general system. The contrary is sufficiently displayed in the vicissitudes and fate of the republic.  Whilst the Amphictyonic confederacy remained, that of the Achaeans, which comprehended the less important cities only, made little figure on the theatre of Greece. When the former became a victim to Macedon, the latter was spared by the policy of Philip and Alexander. Under the successors of these princes, however, a different policy prevailed. The arts of division were practiced among the Achaeans. Each city was seduced into a separate interest; the union was dissolved. Some of the cities fell under the tyranny of Macedonian garrisons; others under that of usurpers springing out of their own confusions. Shame and oppression erelong awaken their love of liberty. A few cities reunited. Their example was followed by others, as opportunities were found of cutting off their tyrants. The league soon embraced almost the whole Peloponnesus. Macedon saw its progress; but was hindered by internal dissensions from stopping it. All Greece caught the enthusiasm and seemed ready to unite in one confederacy, when the jealousy and envy in Sparta and Athens, of the rising glory of the Achaeans, threw a fatal damp on the enterprise. The dread of the Macedonian power induced the league to court the alliance of the Kings of Egypt and Syria, who, as successors of Alexander, were rivals of the king of Macedon. This policy was defeated by Cleomenes, king of Sparta, who was led by his ambition to make an unprovoked attack on his neighbors, the Achaeans, and who, as an enemy to Macedon, had interest enough with the Egyptian and Syrian princes to effect a breach of their engagements with the league.  The Achaeans were now reduced to the dilemma of submitting to Cleomenes, or of supplicating the aid of Macedon, its former oppressor. The latter expedient was adopted. The contests of the Greeks always afforded a pleasing opportunity to that powerful neighbor of intermeddling in their affairs. A Macedonian army quickly appeared. Cleomenes was vanquished. The Achaeans soon experienced, as often happens, that a victorious and powerful ally is but another name for a master. All that their most abject compliances could obtain from him was a toleration of the exercise of their laws. Philip, who was now on the throne of Macedon, soon provoked by his tyrannies, fresh combinations among the Greeks. The Achaeans, though weakened by internal dissensions and by the revolt of Messene, one of its members, being joined by the AEtolians and Athenians, erected the standard of opposition. Finding themselves, though thus supported, unequal to the undertaking, they once more had recourse to the dangerous expedient of introducing the succor of foreign arms. The Romans, to whom the invitation was made, eagerly embraced it. Philip was conquered; Macedon subdued. A new crisis ensued to the league. Dissensions broke out among it members. These the Romans fostered. Callicrates and other popular leaders became mercenary instruments for inveigling their countrymen. The more effectually to nourish discord and disorder the Romans had, to the astonishment of those who confided in their sincerity, already proclaimed universal liberty1 throughout Greece. With the same insidious views, they now seduced the members from the league, by representing to their pride the violation it committed on their sovereignty. By these arts this union, the last hope of Greece, the last hope of ancient liberty, was torn into pieces; and such imbecility and distraction introduced, that the arms of Rome found little difficulty in completing the ruin which their arts had commenced. The Achaeans were cut to pieces, and Achaia loaded with chains, under which it is groaning at this hour.  I have thought it not superfluous to give the outlines of this important portion of history; both because it teaches more than one lesson, and because, as a supplement to the outlines of the Achaean constitution, it emphatically illustrates the tendency of federal bodies rather to anarchy among the members, than to tyranny in the head.  PUBLIUS.  1 This was but another name more specious for the independence of the members on the federal head.      \n"
          ],
          "name": "stdout"
        }
      ]
    },
    {
      "cell_type": "markdown",
      "metadata": {
        "id": "ir3ljIZnxpmH"
      },
      "source": [
        "For convenience, let's also make all of the papers by each author available as one long string. Complete the following code using Python's String.join() function."
      ]
    },
    {
      "cell_type": "code",
      "metadata": {
        "id": "sT7RhXvmxbSL"
      },
      "source": [
        "madison_papers_all = ' '.join(madison_papers)\n",
        "hamilton_papers_all = ' '.join(hamilton_papers)\n",
        "disputed_papers_all = ' '.join(disputed_papers)"
      ],
      "execution_count": null,
      "outputs": []
    },
    {
      "cell_type": "markdown",
      "metadata": {
        "id": "OrboMxxgyLHE"
      },
      "source": [
        "### A closer look at the texts\n",
        "We'll use Python's Natural Language Toolkit (`nltk`) to analyze the texts. Here is an example of how to use NLTK to tokenize a text (aka split it into words)."
      ]
    },
    {
      "cell_type": "code",
      "metadata": {
        "colab": {
          "base_uri": "https://localhost:8080/"
        },
        "id": "8gB27cF_yK3q",
        "outputId": "239a79de-1c47-429e-d34c-5d51bda5ef1f"
      },
      "source": [
        "import nltk\n",
        "from nltk import word_tokenize\n",
        "nltk.download('punkt')\n",
        "text = \"This is a sample piece of text! Exciting stuff.\"\n",
        "tokens = nltk.word_tokenize(text)\n",
        "print(tokens)"
      ],
      "execution_count": null,
      "outputs": [
        {
          "output_type": "stream",
          "text": [
            "[nltk_data] Downloading package punkt to /root/nltk_data...\n",
            "[nltk_data]   Unzipping tokenizers/punkt.zip.\n",
            "['This', 'is', 'a', 'sample', 'piece', 'of', 'text', '!', 'Exciting', 'stuff', '.']\n"
          ],
          "name": "stdout"
        }
      ]
    },
    {
      "cell_type": "markdown",
      "metadata": {
        "id": "4N2LCMa0z20k"
      },
      "source": [
        "Write some code to tokenize the strings `hamilton_papers_all`, `madison_papers_all`, and `disputed_papers_all` and fill in the `tokens` dictionary."
      ]
    },
    {
      "cell_type": "code",
      "metadata": {
        "id": "MGoiHOaBP_RB"
      },
      "source": [
        "tokens = {\n",
        "    'hamilton': None,\n",
        "    'madison': None,\n",
        "    'disputed': None\n",
        "}\n",
        "tokens['hamilton'] = nltk.word_tokenize(hamilton_papers_all)\n",
        "tokens['madison'] = nltk.word_tokenize(madison_papers_all)\n",
        "tokens['disputed'] = nltk.word_tokenize(disputed_papers_all)"
      ],
      "execution_count": null,
      "outputs": []
    },
    {
      "cell_type": "markdown",
      "metadata": {
        "id": "XiAeX4OVScAX"
      },
      "source": [
        "Let's take a look at what words are most frequent. "
      ]
    },
    {
      "cell_type": "code",
      "metadata": {
        "colab": {
          "base_uri": "https://localhost:8080/"
        },
        "id": "3z-6jn5kSeE9",
        "outputId": "45f85716-f5ea-452f-801e-04601585bd86"
      },
      "source": [
        "from collections import Counter\n",
        "def most_frequent(words, n=10):\n",
        "    \"\"\"The most frequent tokens in the given list\"\"\"\n",
        "    tups = Counter.most_common(Counter(words), n)\n",
        "    return [tup[0] for tup in tups]\n",
        "\n",
        "# Write some code to print out the most frequent words in each set of tokens\n",
        "# IMPLEMENT!\n",
        "print(most_frequent(tokens['hamilton']))"
      ],
      "execution_count": null,
      "outputs": [
        {
          "output_type": "stream",
          "text": [
            "['the', ',', 'of', 'to', '.', 'in', 'and', 'a', 'be', 'that']\n"
          ],
          "name": "stdout"
        }
      ]
    },
    {
      "cell_type": "markdown",
      "metadata": {
        "id": "rjkWyDF3REbj"
      },
      "source": [
        "These don't seem too relevant. Let's take out some of the most common (and least informative) words."
      ]
    },
    {
      "cell_type": "code",
      "metadata": {
        "colab": {
          "base_uri": "https://localhost:8080/"
        },
        "id": "qK3xD_0-QMum",
        "outputId": "679bf9bf-cb29-4c56-912d-ff64ee933f1a"
      },
      "source": [
        "nltk.download('stopwords')\n",
        "from nltk.corpus import stopwords\n",
        "blocklist = stopwords.words(\"english\")\n",
        "blocklist += ['would','may']\n",
        "blocklist += [',','.','?',';']\n",
        "\n",
        "for author in tokens.keys():\n",
        "    tokens[author] = [word for word in tokens[author] if word.lower() not in blocklist]"
      ],
      "execution_count": null,
      "outputs": [
        {
          "output_type": "stream",
          "text": [
            "[nltk_data] Downloading package stopwords to /root/nltk_data...\n",
            "[nltk_data]   Unzipping corpora/stopwords.zip.\n"
          ],
          "name": "stdout"
        }
      ]
    },
    {
      "cell_type": "markdown",
      "metadata": {
        "id": "izGd-nXYTGVv"
      },
      "source": [
        "Let's try again."
      ]
    },
    {
      "cell_type": "code",
      "metadata": {
        "colab": {
          "base_uri": "https://localhost:8080/"
        },
        "id": "-LdBRyleTEz4",
        "outputId": "23b06461-1992-4f9e-e929-82e4d88e4d89"
      },
      "source": [
        "print(most_frequent(tokens['hamilton']))\n",
        "print(most_frequent(tokens['madison']))\n",
        "print(most_frequent(tokens['disputed']))"
      ],
      "execution_count": null,
      "outputs": [
        {
          "output_type": "stream",
          "text": [
            "['States', 'State', 'government', 'power', 'upon', 'one', 'must', 'national', 'might', 'people']\n",
            "['States', 'government', 'State', 'power', 'powers', 'one', 'people', 'Constitution', 'federal', 'must']\n",
            "['people', 'government', 'States', 'State', 'representatives', 'every', 'one', 'number', 'must', 'federal']\n"
          ],
          "name": "stdout"
        }
      ]
    },
    {
      "cell_type": "markdown",
      "metadata": {
        "id": "RtM8JIyvXnxZ"
      },
      "source": [
        "### Generating Stylometric Features\n",
        "\n",
        "There are many ways to approach this authorship attribution problem. We are going to use the approach of counting **n-gram frequencies**.\n",
        "\n",
        "An **n-gram** is just a sequence of words or characters that has n elements. Below is some code that generates 2-grams from the words used by Hamilton. "
      ]
    },
    {
      "cell_type": "code",
      "metadata": {
        "colab": {
          "base_uri": "https://localhost:8080/"
        },
        "id": "IZOTuPmfXnHc",
        "outputId": "cba9b308-8a5a-41a3-81a2-cedf0ff4cf85"
      },
      "source": [
        "from nltk.util import ngrams\n",
        "list(ngrams(tokens['hamilton'], 2))[:10]"
      ],
      "execution_count": null,
      "outputs": [
        {
          "output_type": "execute_result",
          "data": {
            "text/plain": [
              "[('26', 'Idea'),\n",
              " ('Idea', 'Restraining'),\n",
              " ('Restraining', 'Legislative'),\n",
              " ('Legislative', 'Authority'),\n",
              " ('Authority', 'Regard'),\n",
              " ('Regard', 'Common'),\n",
              " ('Common', 'Defense'),\n",
              " ('Defense', 'Considered'),\n",
              " ('Considered', 'Independent'),\n",
              " ('Independent', 'Journal')]"
            ]
          },
          "metadata": {
            "tags": []
          },
          "execution_count": 13
        }
      ]
    },
    {
      "cell_type": "markdown",
      "metadata": {
        "id": "PT_wSZBlYJjC"
      },
      "source": [
        "We can also make n-grams on the **character** level."
      ]
    },
    {
      "cell_type": "code",
      "metadata": {
        "colab": {
          "base_uri": "https://localhost:8080/"
        },
        "id": "lcYv62ngYLyE",
        "outputId": "d567bb4d-6def-42ad-b91c-b28934ba78e5"
      },
      "source": [
        "list(ngrams(hamilton_papers_all, 2))[6:20]"
      ],
      "execution_count": null,
      "outputs": [
        {
          "output_type": "execute_result",
          "data": {
            "text/plain": [
              "[(' ', 'T'),\n",
              " ('T', 'h'),\n",
              " ('h', 'e'),\n",
              " ('e', ' '),\n",
              " (' ', 'I'),\n",
              " ('I', 'd'),\n",
              " ('d', 'e'),\n",
              " ('e', 'a'),\n",
              " ('a', ' '),\n",
              " (' ', 'o'),\n",
              " ('o', 'f'),\n",
              " ('f', ' '),\n",
              " (' ', 'R'),\n",
              " ('R', 'e')]"
            ]
          },
          "metadata": {
            "tags": []
          },
          "execution_count": 14
        }
      ]
    },
    {
      "cell_type": "markdown",
      "metadata": {
        "id": "X1auuD6JYZfr"
      },
      "source": [
        "Counting the frequencies of these n-grams can actually reveal a lot about a paper's stylistic characteristics--and by extension, how well it fits into the characteristics of a certain writer. For example, one person might use the word 'the' more than someone else, or they might be fond of certain turns of phrase, like 'on the contrary.' On another level, characteristics of text that are harder to interpret can be informative too. Anything from the percentage of nouns in a sentence to the frequency of different character combinations in a text can be informative.\n",
        "\n",
        "We will move on and use **character 3-gram frequencies** to characterize all of these texts. Then, we will see whether the disputed papers are stylistically closer to Hamilton's papers or Madison's papers.\n",
        "\n",
        "But first, let's stop working on the level of authors and start working on the level of individual essays."
      ]
    },
    {
      "cell_type": "code",
      "metadata": {
        "id": "QsLcp9_uZkUH"
      },
      "source": [
        "# list of the names (aka numbers) of all the papers\n",
        "def path_to_paper_name(path):\n",
        "    return path.split('/')[-1].split('.')[0]\n",
        "hamilton_paper_names = [path_to_paper_name(path) for path in hamilton]\n",
        "madison_paper_names = [path_to_paper_name(path) for path in madison]\n",
        "disputed_paper_names = [path_to_paper_name(path) for path in disputed]\n",
        "all_paper_names = hamilton_paper_names + madison_paper_names + disputed_paper_names\n",
        "\n",
        "# list of the texts of all the papers\n",
        "all_paper_texts = hamilton_papers + madison_papers + disputed_papers\n",
        "\n",
        "# dictionary mapping the name of a paper to its text\n",
        "all_papers = dict(zip(all_paper_names, all_paper_texts))"
      ],
      "execution_count": null,
      "outputs": []
    },
    {
      "cell_type": "markdown",
      "metadata": {
        "id": "T8ICZDcUlRc0"
      },
      "source": [
        "Now, let's generate the trigrams that are used across all of the papers."
      ]
    },
    {
      "cell_type": "code",
      "metadata": {
        "id": "JcADU-xH5cTe"
      },
      "source": [
        "trigrams = {} # dictionary of 3-grams for each federalist paper\n",
        "for paper in all_papers.keys():\n",
        "    trigrams[paper] = [] # list of trigrams in the paper\n",
        "\n",
        "all_trigrams = [] # list of all trigrams (including duplicates)\n",
        "\n",
        "\n",
        "# Write some code to populate the trigrams dictionary and the all_trigrams list.\n",
        "# Remember, all_papers is a dictionary mapping paper names to their texts, \n",
        "# and ngrams(text, 3) generates all the trigrams in a paper's text\n",
        "\n",
        "# TODO: IMPLEMENT!\n",
        "\n",
        "for paper, paper_text in all_papers.items():\n",
        "    for trigram in ngrams(paper_text, 3):\n",
        "        trigrams[paper].append(''.join(trigram))\n",
        "        all_trigrams.append(''.join(trigram))"
      ],
      "execution_count": null,
      "outputs": []
    },
    {
      "cell_type": "markdown",
      "metadata": {
        "id": "USYi63XxY_gd"
      },
      "source": [
        "We could compute the frequency of all trigrams, but that would take a lot of computational power. Plus, it's not necessary to use all that information. Let's consider only the trigrams that appear at least 200 times in the total corpus (aka all the papers put together)."
      ]
    },
    {
      "cell_type": "code",
      "metadata": {
        "colab": {
          "base_uri": "https://localhost:8080/"
        },
        "id": "rGPKzSDG5cvr",
        "outputId": "44611bca-9bda-4fe7-fdeb-82d3bcf35aa8"
      },
      "source": [
        "# using Counter, we can compute trigram frequencies in the whole corpus\n",
        "trigram_counts = Counter(all_trigrams)\n",
        "# remember, Counter returns a dictionary mapping words to the times they occur\n",
        "print(trigram_counts['the'])"
      ],
      "execution_count": null,
      "outputs": [
        {
          "output_type": "stream",
          "text": [
            "21231\n"
          ],
          "name": "stdout"
        }
      ]
    },
    {
      "cell_type": "markdown",
      "metadata": {
        "id": "9aMG-p-1ZVib"
      },
      "source": [
        "Write some code to populate `relevant_trigrams` with trigrams that appear >200 times in the corpus. (The list should have 1096 unique elements once you've populated it.)"
      ]
    },
    {
      "cell_type": "code",
      "metadata": {
        "colab": {
          "base_uri": "https://localhost:8080/"
        },
        "id": "5pPbH3HB6Z36",
        "outputId": "d95e483b-82e7-46c4-f92a-c02da78bd2ad"
      },
      "source": [
        "# TODO: IMPLEMENT!\n",
        "relevant_trigrams = []\n",
        "for trigram in trigram_counts.keys():\n",
        "    if trigram_counts[trigram] > 200:\n",
        "        relevant_trigrams.append(trigram)\n",
        "len(relevant_trigrams) "
      ],
      "execution_count": null,
      "outputs": [
        {
          "output_type": "execute_result",
          "data": {
            "text/plain": [
              "1096"
            ]
          },
          "metadata": {
            "tags": []
          },
          "execution_count": 18
        }
      ]
    },
    {
      "cell_type": "markdown",
      "metadata": {
        "id": "0aukKfytaH94"
      },
      "source": [
        "Now that we have a set of the most relevant trigrams, we need to calculate their frequencies in each of the essays. Because we're only interested in a limited number of trigrams, we won't use Counter.\n",
        "\n",
        "Note: this cell should take a few seconds to run!"
      ]
    },
    {
      "cell_type": "code",
      "metadata": {
        "id": "J7d6ZOUO6e1t"
      },
      "source": [
        "trigram_frequencies = {}\n",
        "for paper in all_papers.keys():\n",
        "    trigram_frequencies[paper] = {}\n",
        "\n",
        "# count the number of times each relevant trigram appears in each paper\n",
        "for paper in all_papers.keys():\n",
        "    for trigram in trigrams[paper]:\n",
        "        if trigram in relevant_trigrams:\n",
        "            try:\n",
        "                trigram_frequencies[paper][trigram] += 1 \n",
        "            except:\n",
        "                trigram_frequencies[paper][trigram] = 0\n",
        "\n",
        "# divide by the number of trigrams total in each paper to obtain frequency\n",
        "for paper in all_papers.keys():\n",
        "    for trigram in trigram_frequencies[paper]:\n",
        "        trigram_frequencies[paper][trigram] /= len(trigrams[paper])"
      ],
      "execution_count": null,
      "outputs": []
    },
    {
      "cell_type": "code",
      "metadata": {
        "colab": {
          "base_uri": "https://localhost:8080/"
        },
        "id": "XqM12RXXbpHF",
        "outputId": "a60d1b2c-ca00-4296-98c9-d02873f0b124"
      },
      "source": [
        "# the frequency of 'the' paper 30\n",
        "trigram_frequencies['30']['the']"
      ],
      "execution_count": null,
      "outputs": [
        {
          "output_type": "execute_result",
          "data": {
            "text/plain": [
              "0.016747018523217458"
            ]
          },
          "metadata": {
            "tags": []
          },
          "execution_count": 20
        }
      ]
    },
    {
      "cell_type": "markdown",
      "metadata": {
        "id": "xxHSXNTfbn36"
      },
      "source": [
        "If you print `trigram_frequencies`, you can see that it's not very easy to work with. To make things more manageable, we will load the dictionary into a Pandas DataFrame. (Pandas is a data science library that is useful in all sorts of contexts, and if you're interested in data science and machine learning, it's super useful to learn how to use it!)"
      ]
    },
    {
      "cell_type": "code",
      "metadata": {
        "colab": {
          "base_uri": "https://localhost:8080/"
        },
        "id": "Gcs2-LR36evQ",
        "outputId": "9a91cf04-f7f6-457b-80e8-d1a771c654c7"
      },
      "source": [
        "import pandas as pd\n",
        "# load the dictionary into a dataframe\n",
        "freqs = pd.DataFrame(data=trigram_frequencies, index=None).T\n",
        "# peek at the first 5 entries of the dataframe\n",
        "freqs.head()"
      ],
      "execution_count": null,
      "outputs": [
        {
          "output_type": "execute_result",
          "data": {
            "text/html": [
              "<div>\n",
              "<style scoped>\n",
              "    .dataframe tbody tr th:only-of-type {\n",
              "        vertical-align: middle;\n",
              "    }\n",
              "\n",
              "    .dataframe tbody tr th {\n",
              "        vertical-align: top;\n",
              "    }\n",
              "\n",
              "    .dataframe thead th {\n",
              "        text-align: right;\n",
              "    }\n",
              "</style>\n",
              "<table border=\"1\" class=\"dataframe\">\n",
              "  <thead>\n",
              "    <tr style=\"text-align: right;\">\n",
              "      <th></th>\n",
              "      <th></th>\n",
              "      <th>T</th>\n",
              "      <th>Th</th>\n",
              "      <th>The</th>\n",
              "      <th>he</th>\n",
              "      <th>of</th>\n",
              "      <th>of</th>\n",
              "      <th>est</th>\n",
              "      <th>str</th>\n",
              "      <th>tra</th>\n",
              "      <th>ain</th>\n",
              "      <th>ini</th>\n",
              "      <th>nin</th>\n",
              "      <th>ing</th>\n",
              "      <th>ng</th>\n",
              "      <th>g t</th>\n",
              "      <th>th</th>\n",
              "      <th>the</th>\n",
              "      <th>egi</th>\n",
              "      <th>gis</th>\n",
              "      <th>isl</th>\n",
              "      <th>sla</th>\n",
              "      <th>lat</th>\n",
              "      <th>ati</th>\n",
              "      <th>tiv</th>\n",
              "      <th>ive</th>\n",
              "      <th>ve</th>\n",
              "      <th>uth</th>\n",
              "      <th>tho</th>\n",
              "      <th>hor</th>\n",
              "      <th>ori</th>\n",
              "      <th>rit</th>\n",
              "      <th>ity</th>\n",
              "      <th>ty</th>\n",
              "      <th>y i</th>\n",
              "      <th>in</th>\n",
              "      <th>in</th>\n",
              "      <th>ega</th>\n",
              "      <th>ard</th>\n",
              "      <th>rd</th>\n",
              "      <th>...</th>\n",
              "      <th>, e</th>\n",
              "      <th>cia</th>\n",
              "      <th>erv</th>\n",
              "      <th>ice</th>\n",
              "      <th>adv</th>\n",
              "      <th>acc</th>\n",
              "      <th>is,</th>\n",
              "      <th>efo</th>\n",
              "      <th>tle</th>\n",
              "      <th>r i</th>\n",
              "      <th>icu</th>\n",
              "      <th>f f</th>\n",
              "      <th>ali</th>\n",
              "      <th>br</th>\n",
              "      <th>jur</th>\n",
              "      <th>epu</th>\n",
              "      <th>sts</th>\n",
              "      <th>dmi</th>\n",
              "      <th>urt</th>\n",
              "      <th>nis</th>\n",
              "      <th>ls</th>\n",
              "      <th>als</th>\n",
              "      <th>e</th>\n",
              "      <th>rts</th>\n",
              "      <th>t</th>\n",
              "      <th>s</th>\n",
              "      <th>r</th>\n",
              "      <th>n</th>\n",
              "      <th>y</th>\n",
              "      <th>a</th>\n",
              "      <th>f</th>\n",
              "      <th>p</th>\n",
              "      <th>e</th>\n",
              "      <th>,</th>\n",
              "      <th>c</th>\n",
              "      <th>i</th>\n",
              "      <th>t</th>\n",
              "      <th>w</th>\n",
              "      <th>o</th>\n",
              "      <th>s</th>\n",
              "    </tr>\n",
              "  </thead>\n",
              "  <tbody>\n",
              "    <tr>\n",
              "      <th>26</th>\n",
              "      <td>0.000640</td>\n",
              "      <td>0.000213</td>\n",
              "      <td>0.001138</td>\n",
              "      <td>0.000996</td>\n",
              "      <td>0.014441</td>\n",
              "      <td>0.010600</td>\n",
              "      <td>0.010386</td>\n",
              "      <td>0.001423</td>\n",
              "      <td>0.000569</td>\n",
              "      <td>0.000783</td>\n",
              "      <td>0.000996</td>\n",
              "      <td>0.000213</td>\n",
              "      <td>0.000213</td>\n",
              "      <td>0.002774</td>\n",
              "      <td>0.002632</td>\n",
              "      <td>0.000569</td>\n",
              "      <td>0.021271</td>\n",
              "      <td>0.016860</td>\n",
              "      <td>0.000925</td>\n",
              "      <td>0.000996</td>\n",
              "      <td>0.000925</td>\n",
              "      <td>0.000925</td>\n",
              "      <td>0.001352</td>\n",
              "      <td>0.002703</td>\n",
              "      <td>0.001067</td>\n",
              "      <td>0.001992</td>\n",
              "      <td>0.002348</td>\n",
              "      <td>0.000569</td>\n",
              "      <td>0.001138</td>\n",
              "      <td>0.000569</td>\n",
              "      <td>0.000854</td>\n",
              "      <td>0.001138</td>\n",
              "      <td>0.001707</td>\n",
              "      <td>0.001707</td>\n",
              "      <td>0.000356</td>\n",
              "      <td>0.006616</td>\n",
              "      <td>0.004837</td>\n",
              "      <td>0.000213</td>\n",
              "      <td>0.000783</td>\n",
              "      <td>0.000285</td>\n",
              "      <td>...</td>\n",
              "      <td>0.000000</td>\n",
              "      <td>0.000000</td>\n",
              "      <td>NaN</td>\n",
              "      <td>NaN</td>\n",
              "      <td>NaN</td>\n",
              "      <td>NaN</td>\n",
              "      <td>NaN</td>\n",
              "      <td>NaN</td>\n",
              "      <td>NaN</td>\n",
              "      <td>NaN</td>\n",
              "      <td>NaN</td>\n",
              "      <td>NaN</td>\n",
              "      <td>NaN</td>\n",
              "      <td>NaN</td>\n",
              "      <td>NaN</td>\n",
              "      <td>NaN</td>\n",
              "      <td>NaN</td>\n",
              "      <td>NaN</td>\n",
              "      <td>NaN</td>\n",
              "      <td>NaN</td>\n",
              "      <td>NaN</td>\n",
              "      <td>NaN</td>\n",
              "      <td>NaN</td>\n",
              "      <td>NaN</td>\n",
              "      <td>NaN</td>\n",
              "      <td>NaN</td>\n",
              "      <td>NaN</td>\n",
              "      <td>NaN</td>\n",
              "      <td>NaN</td>\n",
              "      <td>NaN</td>\n",
              "      <td>NaN</td>\n",
              "      <td>NaN</td>\n",
              "      <td>NaN</td>\n",
              "      <td>NaN</td>\n",
              "      <td>NaN</td>\n",
              "      <td>NaN</td>\n",
              "      <td>NaN</td>\n",
              "      <td>NaN</td>\n",
              "      <td>NaN</td>\n",
              "      <td>NaN</td>\n",
              "    </tr>\n",
              "    <tr>\n",
              "      <th>29</th>\n",
              "      <td>0.000687</td>\n",
              "      <td>0.000305</td>\n",
              "      <td>0.000916</td>\n",
              "      <td>0.000458</td>\n",
              "      <td>0.016491</td>\n",
              "      <td>0.011681</td>\n",
              "      <td>0.011376</td>\n",
              "      <td>0.000840</td>\n",
              "      <td>0.000534</td>\n",
              "      <td>0.000534</td>\n",
              "      <td>0.000611</td>\n",
              "      <td>0.000458</td>\n",
              "      <td>0.000458</td>\n",
              "      <td>0.004428</td>\n",
              "      <td>0.004046</td>\n",
              "      <td>0.001222</td>\n",
              "      <td>0.023591</td>\n",
              "      <td>0.020232</td>\n",
              "      <td>0.000153</td>\n",
              "      <td>0.000229</td>\n",
              "      <td>0.000076</td>\n",
              "      <td>0.000153</td>\n",
              "      <td>0.001145</td>\n",
              "      <td>0.002138</td>\n",
              "      <td>0.000076</td>\n",
              "      <td>0.000382</td>\n",
              "      <td>0.000840</td>\n",
              "      <td>0.000458</td>\n",
              "      <td>0.000840</td>\n",
              "      <td>0.000458</td>\n",
              "      <td>0.000458</td>\n",
              "      <td>0.000763</td>\n",
              "      <td>0.000763</td>\n",
              "      <td>0.000763</td>\n",
              "      <td>0.000382</td>\n",
              "      <td>0.006337</td>\n",
              "      <td>0.002978</td>\n",
              "      <td>NaN</td>\n",
              "      <td>0.000153</td>\n",
              "      <td>0.000076</td>\n",
              "      <td>...</td>\n",
              "      <td>0.000000</td>\n",
              "      <td>0.000153</td>\n",
              "      <td>0.000687</td>\n",
              "      <td>0.000993</td>\n",
              "      <td>0.000076</td>\n",
              "      <td>0.000076</td>\n",
              "      <td>0.000076</td>\n",
              "      <td>0.000076</td>\n",
              "      <td>0.000305</td>\n",
              "      <td>0.000763</td>\n",
              "      <td>0.000153</td>\n",
              "      <td>0.000076</td>\n",
              "      <td>0.000076</td>\n",
              "      <td>0.000076</td>\n",
              "      <td>0.000076</td>\n",
              "      <td>0.000153</td>\n",
              "      <td>0.000076</td>\n",
              "      <td>NaN</td>\n",
              "      <td>NaN</td>\n",
              "      <td>NaN</td>\n",
              "      <td>NaN</td>\n",
              "      <td>NaN</td>\n",
              "      <td>NaN</td>\n",
              "      <td>NaN</td>\n",
              "      <td>NaN</td>\n",
              "      <td>NaN</td>\n",
              "      <td>NaN</td>\n",
              "      <td>NaN</td>\n",
              "      <td>NaN</td>\n",
              "      <td>NaN</td>\n",
              "      <td>NaN</td>\n",
              "      <td>NaN</td>\n",
              "      <td>NaN</td>\n",
              "      <td>NaN</td>\n",
              "      <td>NaN</td>\n",
              "      <td>NaN</td>\n",
              "      <td>NaN</td>\n",
              "      <td>NaN</td>\n",
              "      <td>NaN</td>\n",
              "      <td>NaN</td>\n",
              "    </tr>\n",
              "    <tr>\n",
              "      <th>84</th>\n",
              "      <td>0.000405</td>\n",
              "      <td>0.000243</td>\n",
              "      <td>0.001783</td>\n",
              "      <td>0.001499</td>\n",
              "      <td>0.015760</td>\n",
              "      <td>0.011952</td>\n",
              "      <td>0.011506</td>\n",
              "      <td>0.001053</td>\n",
              "      <td>0.000608</td>\n",
              "      <td>0.000608</td>\n",
              "      <td>0.001580</td>\n",
              "      <td>0.000284</td>\n",
              "      <td>0.000243</td>\n",
              "      <td>0.002633</td>\n",
              "      <td>0.001945</td>\n",
              "      <td>0.000648</td>\n",
              "      <td>0.023863</td>\n",
              "      <td>0.018717</td>\n",
              "      <td>0.000486</td>\n",
              "      <td>0.000446</td>\n",
              "      <td>0.000446</td>\n",
              "      <td>0.000446</td>\n",
              "      <td>0.001296</td>\n",
              "      <td>0.003525</td>\n",
              "      <td>0.000648</td>\n",
              "      <td>0.001215</td>\n",
              "      <td>0.001945</td>\n",
              "      <td>0.000122</td>\n",
              "      <td>0.000770</td>\n",
              "      <td>0.000122</td>\n",
              "      <td>0.000243</td>\n",
              "      <td>0.000608</td>\n",
              "      <td>0.000486</td>\n",
              "      <td>0.001053</td>\n",
              "      <td>0.000284</td>\n",
              "      <td>0.005429</td>\n",
              "      <td>0.003889</td>\n",
              "      <td>0.000041</td>\n",
              "      <td>0.000203</td>\n",
              "      <td>0.000162</td>\n",
              "      <td>...</td>\n",
              "      <td>0.000243</td>\n",
              "      <td>NaN</td>\n",
              "      <td>0.000567</td>\n",
              "      <td>0.000567</td>\n",
              "      <td>0.000000</td>\n",
              "      <td>0.000284</td>\n",
              "      <td>0.000203</td>\n",
              "      <td>0.000243</td>\n",
              "      <td>0.000122</td>\n",
              "      <td>0.000608</td>\n",
              "      <td>0.000203</td>\n",
              "      <td>0.000081</td>\n",
              "      <td>0.000041</td>\n",
              "      <td>0.000081</td>\n",
              "      <td>0.000000</td>\n",
              "      <td>0.000041</td>\n",
              "      <td>0.000081</td>\n",
              "      <td>0.000162</td>\n",
              "      <td>0.000162</td>\n",
              "      <td>0.000324</td>\n",
              "      <td>0.000243</td>\n",
              "      <td>0.000162</td>\n",
              "      <td>NaN</td>\n",
              "      <td>NaN</td>\n",
              "      <td>NaN</td>\n",
              "      <td>NaN</td>\n",
              "      <td>NaN</td>\n",
              "      <td>NaN</td>\n",
              "      <td>NaN</td>\n",
              "      <td>NaN</td>\n",
              "      <td>NaN</td>\n",
              "      <td>NaN</td>\n",
              "      <td>NaN</td>\n",
              "      <td>NaN</td>\n",
              "      <td>NaN</td>\n",
              "      <td>NaN</td>\n",
              "      <td>NaN</td>\n",
              "      <td>NaN</td>\n",
              "      <td>NaN</td>\n",
              "      <td>NaN</td>\n",
              "    </tr>\n",
              "    <tr>\n",
              "      <th>71</th>\n",
              "      <td>0.000873</td>\n",
              "      <td>0.000388</td>\n",
              "      <td>0.001455</td>\n",
              "      <td>0.000970</td>\n",
              "      <td>0.018720</td>\n",
              "      <td>0.010087</td>\n",
              "      <td>0.009505</td>\n",
              "      <td>0.000970</td>\n",
              "      <td>0.000679</td>\n",
              "      <td>0.001067</td>\n",
              "      <td>0.000679</td>\n",
              "      <td>0.000291</td>\n",
              "      <td>0.000097</td>\n",
              "      <td>0.001649</td>\n",
              "      <td>0.001552</td>\n",
              "      <td>0.000485</td>\n",
              "      <td>0.023860</td>\n",
              "      <td>0.022405</td>\n",
              "      <td>0.000970</td>\n",
              "      <td>0.001261</td>\n",
              "      <td>0.000873</td>\n",
              "      <td>0.000873</td>\n",
              "      <td>0.001455</td>\n",
              "      <td>0.003298</td>\n",
              "      <td>0.001843</td>\n",
              "      <td>0.002716</td>\n",
              "      <td>0.002910</td>\n",
              "      <td>0.000194</td>\n",
              "      <td>0.000582</td>\n",
              "      <td>0.000582</td>\n",
              "      <td>0.000194</td>\n",
              "      <td>0.000679</td>\n",
              "      <td>0.001455</td>\n",
              "      <td>0.001552</td>\n",
              "      <td>0.000291</td>\n",
              "      <td>0.006790</td>\n",
              "      <td>0.003977</td>\n",
              "      <td>0.000097</td>\n",
              "      <td>0.000582</td>\n",
              "      <td>0.000291</td>\n",
              "      <td>...</td>\n",
              "      <td>0.000097</td>\n",
              "      <td>0.000194</td>\n",
              "      <td>0.000485</td>\n",
              "      <td>0.000776</td>\n",
              "      <td>0.000097</td>\n",
              "      <td>0.000000</td>\n",
              "      <td>0.000097</td>\n",
              "      <td>0.000000</td>\n",
              "      <td>0.000388</td>\n",
              "      <td>0.000873</td>\n",
              "      <td>0.000000</td>\n",
              "      <td>0.000388</td>\n",
              "      <td>0.000000</td>\n",
              "      <td>0.000291</td>\n",
              "      <td>NaN</td>\n",
              "      <td>0.000097</td>\n",
              "      <td>0.000194</td>\n",
              "      <td>0.000000</td>\n",
              "      <td>NaN</td>\n",
              "      <td>0.000097</td>\n",
              "      <td>NaN</td>\n",
              "      <td>0.000000</td>\n",
              "      <td>0.0</td>\n",
              "      <td>0.000097</td>\n",
              "      <td>NaN</td>\n",
              "      <td>NaN</td>\n",
              "      <td>NaN</td>\n",
              "      <td>NaN</td>\n",
              "      <td>NaN</td>\n",
              "      <td>NaN</td>\n",
              "      <td>NaN</td>\n",
              "      <td>NaN</td>\n",
              "      <td>NaN</td>\n",
              "      <td>NaN</td>\n",
              "      <td>NaN</td>\n",
              "      <td>NaN</td>\n",
              "      <td>NaN</td>\n",
              "      <td>NaN</td>\n",
              "      <td>NaN</td>\n",
              "      <td>NaN</td>\n",
              "    </tr>\n",
              "    <tr>\n",
              "      <th>36</th>\n",
              "      <td>0.000557</td>\n",
              "      <td>0.000371</td>\n",
              "      <td>0.001917</td>\n",
              "      <td>0.001608</td>\n",
              "      <td>0.015648</td>\n",
              "      <td>0.011381</td>\n",
              "      <td>0.010948</td>\n",
              "      <td>0.001423</td>\n",
              "      <td>0.000433</td>\n",
              "      <td>0.000124</td>\n",
              "      <td>0.000866</td>\n",
              "      <td>0.000247</td>\n",
              "      <td>0.000186</td>\n",
              "      <td>0.002165</td>\n",
              "      <td>0.001856</td>\n",
              "      <td>0.000619</td>\n",
              "      <td>0.022390</td>\n",
              "      <td>0.018864</td>\n",
              "      <td>0.000557</td>\n",
              "      <td>0.000557</td>\n",
              "      <td>0.000557</td>\n",
              "      <td>0.000557</td>\n",
              "      <td>0.001175</td>\n",
              "      <td>0.004020</td>\n",
              "      <td>0.000309</td>\n",
              "      <td>0.000804</td>\n",
              "      <td>0.001856</td>\n",
              "      <td>0.000247</td>\n",
              "      <td>0.001175</td>\n",
              "      <td>0.000247</td>\n",
              "      <td>0.000247</td>\n",
              "      <td>0.000680</td>\n",
              "      <td>0.000990</td>\n",
              "      <td>0.001299</td>\n",
              "      <td>0.000619</td>\n",
              "      <td>0.006989</td>\n",
              "      <td>0.004206</td>\n",
              "      <td>0.000000</td>\n",
              "      <td>0.000186</td>\n",
              "      <td>0.000000</td>\n",
              "      <td>...</td>\n",
              "      <td>0.000247</td>\n",
              "      <td>0.000124</td>\n",
              "      <td>0.000247</td>\n",
              "      <td>0.000495</td>\n",
              "      <td>0.000371</td>\n",
              "      <td>0.000186</td>\n",
              "      <td>0.000186</td>\n",
              "      <td>0.000062</td>\n",
              "      <td>0.000000</td>\n",
              "      <td>0.000557</td>\n",
              "      <td>0.000495</td>\n",
              "      <td>0.000062</td>\n",
              "      <td>0.000186</td>\n",
              "      <td>0.000186</td>\n",
              "      <td>NaN</td>\n",
              "      <td>0.000000</td>\n",
              "      <td>0.000186</td>\n",
              "      <td>0.000247</td>\n",
              "      <td>0.000000</td>\n",
              "      <td>0.000309</td>\n",
              "      <td>0.000186</td>\n",
              "      <td>0.000062</td>\n",
              "      <td>NaN</td>\n",
              "      <td>0.000186</td>\n",
              "      <td>NaN</td>\n",
              "      <td>NaN</td>\n",
              "      <td>NaN</td>\n",
              "      <td>NaN</td>\n",
              "      <td>NaN</td>\n",
              "      <td>NaN</td>\n",
              "      <td>NaN</td>\n",
              "      <td>NaN</td>\n",
              "      <td>NaN</td>\n",
              "      <td>NaN</td>\n",
              "      <td>NaN</td>\n",
              "      <td>NaN</td>\n",
              "      <td>NaN</td>\n",
              "      <td>NaN</td>\n",
              "      <td>NaN</td>\n",
              "      <td>NaN</td>\n",
              "    </tr>\n",
              "  </tbody>\n",
              "</table>\n",
              "<p>5 rows × 1096 columns</p>\n",
              "</div>"
            ],
            "text/plain": [
              "                     T        Th       The       he   ...    i    t    w    o    s\n",
              "26  0.000640  0.000213  0.001138  0.000996  0.014441  ...  NaN  NaN  NaN  NaN  NaN\n",
              "29  0.000687  0.000305  0.000916  0.000458  0.016491  ...  NaN  NaN  NaN  NaN  NaN\n",
              "84  0.000405  0.000243  0.001783  0.001499  0.015760  ...  NaN  NaN  NaN  NaN  NaN\n",
              "71  0.000873  0.000388  0.001455  0.000970  0.018720  ...  NaN  NaN  NaN  NaN  NaN\n",
              "36  0.000557  0.000371  0.001917  0.001608  0.015648  ...  NaN  NaN  NaN  NaN  NaN\n",
              "\n",
              "[5 rows x 1096 columns]"
            ]
          },
          "metadata": {
            "tags": []
          },
          "execution_count": 21
        }
      ]
    },
    {
      "cell_type": "markdown",
      "metadata": {
        "id": "SkKPHiYccxFZ"
      },
      "source": [
        "That looks much better. \n",
        "- Each row of the dataframe represents one paper. \n",
        "- Each column represents a trigram. \n",
        "\n",
        "We can also see this by printing out the **index** (aka row names) and **columns** of the dataframe."
      ]
    },
    {
      "cell_type": "code",
      "metadata": {
        "colab": {
          "base_uri": "https://localhost:8080/"
        },
        "id": "eeefFymYdEyH",
        "outputId": "8db9b16d-b25f-403a-c722-a7063dc3cdb3"
      },
      "source": [
        "print(freqs.index)"
      ],
      "execution_count": null,
      "outputs": [
        {
          "output_type": "stream",
          "text": [
            "Index(['26', '29', '84', '71', '36', '60', '24', '67', '25', '8', '73', '9',\n",
            "       '7', '16', '79', '74', '30', '83', '17', '69', '32', '77', '15', '70_2',\n",
            "       '21', '66', '76', '61', '22', '70', '68', '11', '35', '65', '1', '78',\n",
            "       '13', '81', '85', '28', '23', '6', '27', '72', '12', '80', '31', '82',\n",
            "       '75', '34', '33', '59', '18', '42', '43', '39', '40', '10', '45', '37',\n",
            "       '47', '38', '41', '19', '20', '46', '14', '48', '44', '54', '49', '57',\n",
            "       '56', '52', '53', '62', '50', '58', '63', '51', '55'],\n",
            "      dtype='object')\n"
          ],
          "name": "stdout"
        }
      ]
    },
    {
      "cell_type": "code",
      "metadata": {
        "colab": {
          "base_uri": "https://localhost:8080/"
        },
        "id": "kgcqpGOodF5F",
        "outputId": "5886b662-0372-4d39-e0e4-90409d0b1c47"
      },
      "source": [
        "print(freqs.columns)"
      ],
      "execution_count": null,
      "outputs": [
        {
          "output_type": "stream",
          "text": [
            "Index(['   ', '  T', ' Th', 'The', 'he ', ' of', 'of ', 'est', 'str', 'tra',\n",
            "       ...\n",
            "       'f  ', '  p', '  e', ',  ', '  c', '  i', '  t', '  w', '  o', '  s'],\n",
            "      dtype='object', length=1096)\n"
          ],
          "name": "stdout"
        }
      ]
    },
    {
      "cell_type": "markdown",
      "metadata": {
        "id": "Tjk1YwmIcdgA"
      },
      "source": [
        "Feel free to play around a little more. Try functions like `freqs.tail()` or `freqs.describe()` if you're curious.\n",
        "\n",
        "\n",
        "\n",
        "Still, we have to do a little more preprocessing. Not all trigrams appear in all papers, so they wouldn't appear in the dictionary we created. (Scroll all the way to the right of the DataFrame if you're curious.) We need to populate those fields with 0."
      ]
    },
    {
      "cell_type": "code",
      "metadata": {
        "id": "GCriV7MEcf5y"
      },
      "source": [
        "freqs = freqs.fillna(0) "
      ],
      "execution_count": null,
      "outputs": []
    },
    {
      "cell_type": "markdown",
      "metadata": {
        "id": "7sTp6DzLdLQJ"
      },
      "source": [
        "### Authorship Attribution!\n",
        "We've generated a lot of numbers, and now we can do some data analysis to make sense of it all.\n",
        "\n",
        "Imagine each paper as a point in high dimensional space. We can't visualize 1096 dimensions, but each paper really can be imagined as a point with the 1096 coordinates given by its row in the DataFrame.\n",
        "\n",
        "We can use some data science to parse these 1096 dimensions into terms we can understand."
      ]
    },
    {
      "cell_type": "code",
      "metadata": {
        "colab": {
          "base_uri": "https://localhost:8080/",
          "height": 253
        },
        "id": "vhgr3Zmxd3Xk",
        "outputId": "7eca263c-f806-4162-98f6-1c669b5b2f57"
      },
      "source": [
        "freqs.head()"
      ],
      "execution_count": null,
      "outputs": [
        {
          "output_type": "execute_result",
          "data": {
            "text/html": [
              "<div>\n",
              "<style scoped>\n",
              "    .dataframe tbody tr th:only-of-type {\n",
              "        vertical-align: middle;\n",
              "    }\n",
              "\n",
              "    .dataframe tbody tr th {\n",
              "        vertical-align: top;\n",
              "    }\n",
              "\n",
              "    .dataframe thead th {\n",
              "        text-align: right;\n",
              "    }\n",
              "</style>\n",
              "<table border=\"1\" class=\"dataframe\">\n",
              "  <thead>\n",
              "    <tr style=\"text-align: right;\">\n",
              "      <th></th>\n",
              "      <th></th>\n",
              "      <th>T</th>\n",
              "      <th>Th</th>\n",
              "      <th>The</th>\n",
              "      <th>he</th>\n",
              "      <th>of</th>\n",
              "      <th>of</th>\n",
              "      <th>est</th>\n",
              "      <th>str</th>\n",
              "      <th>tra</th>\n",
              "      <th>ain</th>\n",
              "      <th>ini</th>\n",
              "      <th>nin</th>\n",
              "      <th>ing</th>\n",
              "      <th>ng</th>\n",
              "      <th>g t</th>\n",
              "      <th>th</th>\n",
              "      <th>the</th>\n",
              "      <th>egi</th>\n",
              "      <th>gis</th>\n",
              "      <th>isl</th>\n",
              "      <th>sla</th>\n",
              "      <th>lat</th>\n",
              "      <th>ati</th>\n",
              "      <th>tiv</th>\n",
              "      <th>ive</th>\n",
              "      <th>ve</th>\n",
              "      <th>uth</th>\n",
              "      <th>tho</th>\n",
              "      <th>hor</th>\n",
              "      <th>ori</th>\n",
              "      <th>rit</th>\n",
              "      <th>ity</th>\n",
              "      <th>ty</th>\n",
              "      <th>y i</th>\n",
              "      <th>in</th>\n",
              "      <th>in</th>\n",
              "      <th>ega</th>\n",
              "      <th>ard</th>\n",
              "      <th>rd</th>\n",
              "      <th>...</th>\n",
              "      <th>, e</th>\n",
              "      <th>cia</th>\n",
              "      <th>erv</th>\n",
              "      <th>ice</th>\n",
              "      <th>adv</th>\n",
              "      <th>acc</th>\n",
              "      <th>is,</th>\n",
              "      <th>efo</th>\n",
              "      <th>tle</th>\n",
              "      <th>r i</th>\n",
              "      <th>icu</th>\n",
              "      <th>f f</th>\n",
              "      <th>ali</th>\n",
              "      <th>br</th>\n",
              "      <th>jur</th>\n",
              "      <th>epu</th>\n",
              "      <th>sts</th>\n",
              "      <th>dmi</th>\n",
              "      <th>urt</th>\n",
              "      <th>nis</th>\n",
              "      <th>ls</th>\n",
              "      <th>als</th>\n",
              "      <th>e</th>\n",
              "      <th>rts</th>\n",
              "      <th>t</th>\n",
              "      <th>s</th>\n",
              "      <th>r</th>\n",
              "      <th>n</th>\n",
              "      <th>y</th>\n",
              "      <th>a</th>\n",
              "      <th>f</th>\n",
              "      <th>p</th>\n",
              "      <th>e</th>\n",
              "      <th>,</th>\n",
              "      <th>c</th>\n",
              "      <th>i</th>\n",
              "      <th>t</th>\n",
              "      <th>w</th>\n",
              "      <th>o</th>\n",
              "      <th>s</th>\n",
              "    </tr>\n",
              "  </thead>\n",
              "  <tbody>\n",
              "    <tr>\n",
              "      <th>26</th>\n",
              "      <td>0.000640</td>\n",
              "      <td>0.000213</td>\n",
              "      <td>0.001138</td>\n",
              "      <td>0.000996</td>\n",
              "      <td>0.014441</td>\n",
              "      <td>0.010600</td>\n",
              "      <td>0.010386</td>\n",
              "      <td>0.001423</td>\n",
              "      <td>0.000569</td>\n",
              "      <td>0.000783</td>\n",
              "      <td>0.000996</td>\n",
              "      <td>0.000213</td>\n",
              "      <td>0.000213</td>\n",
              "      <td>0.002774</td>\n",
              "      <td>0.002632</td>\n",
              "      <td>0.000569</td>\n",
              "      <td>0.021271</td>\n",
              "      <td>0.016860</td>\n",
              "      <td>0.000925</td>\n",
              "      <td>0.000996</td>\n",
              "      <td>0.000925</td>\n",
              "      <td>0.000925</td>\n",
              "      <td>0.001352</td>\n",
              "      <td>0.002703</td>\n",
              "      <td>0.001067</td>\n",
              "      <td>0.001992</td>\n",
              "      <td>0.002348</td>\n",
              "      <td>0.000569</td>\n",
              "      <td>0.001138</td>\n",
              "      <td>0.000569</td>\n",
              "      <td>0.000854</td>\n",
              "      <td>0.001138</td>\n",
              "      <td>0.001707</td>\n",
              "      <td>0.001707</td>\n",
              "      <td>0.000356</td>\n",
              "      <td>0.006616</td>\n",
              "      <td>0.004837</td>\n",
              "      <td>0.000213</td>\n",
              "      <td>0.000783</td>\n",
              "      <td>0.000285</td>\n",
              "      <td>...</td>\n",
              "      <td>0.000000</td>\n",
              "      <td>0.000000</td>\n",
              "      <td>0.000000</td>\n",
              "      <td>0.000000</td>\n",
              "      <td>0.000000</td>\n",
              "      <td>0.000000</td>\n",
              "      <td>0.000000</td>\n",
              "      <td>0.000000</td>\n",
              "      <td>0.000000</td>\n",
              "      <td>0.000000</td>\n",
              "      <td>0.000000</td>\n",
              "      <td>0.000000</td>\n",
              "      <td>0.000000</td>\n",
              "      <td>0.000000</td>\n",
              "      <td>0.000000</td>\n",
              "      <td>0.000000</td>\n",
              "      <td>0.000000</td>\n",
              "      <td>0.000000</td>\n",
              "      <td>0.000000</td>\n",
              "      <td>0.000000</td>\n",
              "      <td>0.000000</td>\n",
              "      <td>0.000000</td>\n",
              "      <td>0.0</td>\n",
              "      <td>0.000000</td>\n",
              "      <td>0.0</td>\n",
              "      <td>0.0</td>\n",
              "      <td>0.0</td>\n",
              "      <td>0.0</td>\n",
              "      <td>0.0</td>\n",
              "      <td>0.0</td>\n",
              "      <td>0.0</td>\n",
              "      <td>0.0</td>\n",
              "      <td>0.0</td>\n",
              "      <td>0.0</td>\n",
              "      <td>0.0</td>\n",
              "      <td>0.0</td>\n",
              "      <td>0.0</td>\n",
              "      <td>0.0</td>\n",
              "      <td>0.0</td>\n",
              "      <td>0.0</td>\n",
              "    </tr>\n",
              "    <tr>\n",
              "      <th>29</th>\n",
              "      <td>0.000687</td>\n",
              "      <td>0.000305</td>\n",
              "      <td>0.000916</td>\n",
              "      <td>0.000458</td>\n",
              "      <td>0.016491</td>\n",
              "      <td>0.011681</td>\n",
              "      <td>0.011376</td>\n",
              "      <td>0.000840</td>\n",
              "      <td>0.000534</td>\n",
              "      <td>0.000534</td>\n",
              "      <td>0.000611</td>\n",
              "      <td>0.000458</td>\n",
              "      <td>0.000458</td>\n",
              "      <td>0.004428</td>\n",
              "      <td>0.004046</td>\n",
              "      <td>0.001222</td>\n",
              "      <td>0.023591</td>\n",
              "      <td>0.020232</td>\n",
              "      <td>0.000153</td>\n",
              "      <td>0.000229</td>\n",
              "      <td>0.000076</td>\n",
              "      <td>0.000153</td>\n",
              "      <td>0.001145</td>\n",
              "      <td>0.002138</td>\n",
              "      <td>0.000076</td>\n",
              "      <td>0.000382</td>\n",
              "      <td>0.000840</td>\n",
              "      <td>0.000458</td>\n",
              "      <td>0.000840</td>\n",
              "      <td>0.000458</td>\n",
              "      <td>0.000458</td>\n",
              "      <td>0.000763</td>\n",
              "      <td>0.000763</td>\n",
              "      <td>0.000763</td>\n",
              "      <td>0.000382</td>\n",
              "      <td>0.006337</td>\n",
              "      <td>0.002978</td>\n",
              "      <td>0.000000</td>\n",
              "      <td>0.000153</td>\n",
              "      <td>0.000076</td>\n",
              "      <td>...</td>\n",
              "      <td>0.000000</td>\n",
              "      <td>0.000153</td>\n",
              "      <td>0.000687</td>\n",
              "      <td>0.000993</td>\n",
              "      <td>0.000076</td>\n",
              "      <td>0.000076</td>\n",
              "      <td>0.000076</td>\n",
              "      <td>0.000076</td>\n",
              "      <td>0.000305</td>\n",
              "      <td>0.000763</td>\n",
              "      <td>0.000153</td>\n",
              "      <td>0.000076</td>\n",
              "      <td>0.000076</td>\n",
              "      <td>0.000076</td>\n",
              "      <td>0.000076</td>\n",
              "      <td>0.000153</td>\n",
              "      <td>0.000076</td>\n",
              "      <td>0.000000</td>\n",
              "      <td>0.000000</td>\n",
              "      <td>0.000000</td>\n",
              "      <td>0.000000</td>\n",
              "      <td>0.000000</td>\n",
              "      <td>0.0</td>\n",
              "      <td>0.000000</td>\n",
              "      <td>0.0</td>\n",
              "      <td>0.0</td>\n",
              "      <td>0.0</td>\n",
              "      <td>0.0</td>\n",
              "      <td>0.0</td>\n",
              "      <td>0.0</td>\n",
              "      <td>0.0</td>\n",
              "      <td>0.0</td>\n",
              "      <td>0.0</td>\n",
              "      <td>0.0</td>\n",
              "      <td>0.0</td>\n",
              "      <td>0.0</td>\n",
              "      <td>0.0</td>\n",
              "      <td>0.0</td>\n",
              "      <td>0.0</td>\n",
              "      <td>0.0</td>\n",
              "    </tr>\n",
              "    <tr>\n",
              "      <th>84</th>\n",
              "      <td>0.000405</td>\n",
              "      <td>0.000243</td>\n",
              "      <td>0.001783</td>\n",
              "      <td>0.001499</td>\n",
              "      <td>0.015760</td>\n",
              "      <td>0.011952</td>\n",
              "      <td>0.011506</td>\n",
              "      <td>0.001053</td>\n",
              "      <td>0.000608</td>\n",
              "      <td>0.000608</td>\n",
              "      <td>0.001580</td>\n",
              "      <td>0.000284</td>\n",
              "      <td>0.000243</td>\n",
              "      <td>0.002633</td>\n",
              "      <td>0.001945</td>\n",
              "      <td>0.000648</td>\n",
              "      <td>0.023863</td>\n",
              "      <td>0.018717</td>\n",
              "      <td>0.000486</td>\n",
              "      <td>0.000446</td>\n",
              "      <td>0.000446</td>\n",
              "      <td>0.000446</td>\n",
              "      <td>0.001296</td>\n",
              "      <td>0.003525</td>\n",
              "      <td>0.000648</td>\n",
              "      <td>0.001215</td>\n",
              "      <td>0.001945</td>\n",
              "      <td>0.000122</td>\n",
              "      <td>0.000770</td>\n",
              "      <td>0.000122</td>\n",
              "      <td>0.000243</td>\n",
              "      <td>0.000608</td>\n",
              "      <td>0.000486</td>\n",
              "      <td>0.001053</td>\n",
              "      <td>0.000284</td>\n",
              "      <td>0.005429</td>\n",
              "      <td>0.003889</td>\n",
              "      <td>0.000041</td>\n",
              "      <td>0.000203</td>\n",
              "      <td>0.000162</td>\n",
              "      <td>...</td>\n",
              "      <td>0.000243</td>\n",
              "      <td>0.000000</td>\n",
              "      <td>0.000567</td>\n",
              "      <td>0.000567</td>\n",
              "      <td>0.000000</td>\n",
              "      <td>0.000284</td>\n",
              "      <td>0.000203</td>\n",
              "      <td>0.000243</td>\n",
              "      <td>0.000122</td>\n",
              "      <td>0.000608</td>\n",
              "      <td>0.000203</td>\n",
              "      <td>0.000081</td>\n",
              "      <td>0.000041</td>\n",
              "      <td>0.000081</td>\n",
              "      <td>0.000000</td>\n",
              "      <td>0.000041</td>\n",
              "      <td>0.000081</td>\n",
              "      <td>0.000162</td>\n",
              "      <td>0.000162</td>\n",
              "      <td>0.000324</td>\n",
              "      <td>0.000243</td>\n",
              "      <td>0.000162</td>\n",
              "      <td>0.0</td>\n",
              "      <td>0.000000</td>\n",
              "      <td>0.0</td>\n",
              "      <td>0.0</td>\n",
              "      <td>0.0</td>\n",
              "      <td>0.0</td>\n",
              "      <td>0.0</td>\n",
              "      <td>0.0</td>\n",
              "      <td>0.0</td>\n",
              "      <td>0.0</td>\n",
              "      <td>0.0</td>\n",
              "      <td>0.0</td>\n",
              "      <td>0.0</td>\n",
              "      <td>0.0</td>\n",
              "      <td>0.0</td>\n",
              "      <td>0.0</td>\n",
              "      <td>0.0</td>\n",
              "      <td>0.0</td>\n",
              "    </tr>\n",
              "    <tr>\n",
              "      <th>71</th>\n",
              "      <td>0.000873</td>\n",
              "      <td>0.000388</td>\n",
              "      <td>0.001455</td>\n",
              "      <td>0.000970</td>\n",
              "      <td>0.018720</td>\n",
              "      <td>0.010087</td>\n",
              "      <td>0.009505</td>\n",
              "      <td>0.000970</td>\n",
              "      <td>0.000679</td>\n",
              "      <td>0.001067</td>\n",
              "      <td>0.000679</td>\n",
              "      <td>0.000291</td>\n",
              "      <td>0.000097</td>\n",
              "      <td>0.001649</td>\n",
              "      <td>0.001552</td>\n",
              "      <td>0.000485</td>\n",
              "      <td>0.023860</td>\n",
              "      <td>0.022405</td>\n",
              "      <td>0.000970</td>\n",
              "      <td>0.001261</td>\n",
              "      <td>0.000873</td>\n",
              "      <td>0.000873</td>\n",
              "      <td>0.001455</td>\n",
              "      <td>0.003298</td>\n",
              "      <td>0.001843</td>\n",
              "      <td>0.002716</td>\n",
              "      <td>0.002910</td>\n",
              "      <td>0.000194</td>\n",
              "      <td>0.000582</td>\n",
              "      <td>0.000582</td>\n",
              "      <td>0.000194</td>\n",
              "      <td>0.000679</td>\n",
              "      <td>0.001455</td>\n",
              "      <td>0.001552</td>\n",
              "      <td>0.000291</td>\n",
              "      <td>0.006790</td>\n",
              "      <td>0.003977</td>\n",
              "      <td>0.000097</td>\n",
              "      <td>0.000582</td>\n",
              "      <td>0.000291</td>\n",
              "      <td>...</td>\n",
              "      <td>0.000097</td>\n",
              "      <td>0.000194</td>\n",
              "      <td>0.000485</td>\n",
              "      <td>0.000776</td>\n",
              "      <td>0.000097</td>\n",
              "      <td>0.000000</td>\n",
              "      <td>0.000097</td>\n",
              "      <td>0.000000</td>\n",
              "      <td>0.000388</td>\n",
              "      <td>0.000873</td>\n",
              "      <td>0.000000</td>\n",
              "      <td>0.000388</td>\n",
              "      <td>0.000000</td>\n",
              "      <td>0.000291</td>\n",
              "      <td>0.000000</td>\n",
              "      <td>0.000097</td>\n",
              "      <td>0.000194</td>\n",
              "      <td>0.000000</td>\n",
              "      <td>0.000000</td>\n",
              "      <td>0.000097</td>\n",
              "      <td>0.000000</td>\n",
              "      <td>0.000000</td>\n",
              "      <td>0.0</td>\n",
              "      <td>0.000097</td>\n",
              "      <td>0.0</td>\n",
              "      <td>0.0</td>\n",
              "      <td>0.0</td>\n",
              "      <td>0.0</td>\n",
              "      <td>0.0</td>\n",
              "      <td>0.0</td>\n",
              "      <td>0.0</td>\n",
              "      <td>0.0</td>\n",
              "      <td>0.0</td>\n",
              "      <td>0.0</td>\n",
              "      <td>0.0</td>\n",
              "      <td>0.0</td>\n",
              "      <td>0.0</td>\n",
              "      <td>0.0</td>\n",
              "      <td>0.0</td>\n",
              "      <td>0.0</td>\n",
              "    </tr>\n",
              "    <tr>\n",
              "      <th>36</th>\n",
              "      <td>0.000557</td>\n",
              "      <td>0.000371</td>\n",
              "      <td>0.001917</td>\n",
              "      <td>0.001608</td>\n",
              "      <td>0.015648</td>\n",
              "      <td>0.011381</td>\n",
              "      <td>0.010948</td>\n",
              "      <td>0.001423</td>\n",
              "      <td>0.000433</td>\n",
              "      <td>0.000124</td>\n",
              "      <td>0.000866</td>\n",
              "      <td>0.000247</td>\n",
              "      <td>0.000186</td>\n",
              "      <td>0.002165</td>\n",
              "      <td>0.001856</td>\n",
              "      <td>0.000619</td>\n",
              "      <td>0.022390</td>\n",
              "      <td>0.018864</td>\n",
              "      <td>0.000557</td>\n",
              "      <td>0.000557</td>\n",
              "      <td>0.000557</td>\n",
              "      <td>0.000557</td>\n",
              "      <td>0.001175</td>\n",
              "      <td>0.004020</td>\n",
              "      <td>0.000309</td>\n",
              "      <td>0.000804</td>\n",
              "      <td>0.001856</td>\n",
              "      <td>0.000247</td>\n",
              "      <td>0.001175</td>\n",
              "      <td>0.000247</td>\n",
              "      <td>0.000247</td>\n",
              "      <td>0.000680</td>\n",
              "      <td>0.000990</td>\n",
              "      <td>0.001299</td>\n",
              "      <td>0.000619</td>\n",
              "      <td>0.006989</td>\n",
              "      <td>0.004206</td>\n",
              "      <td>0.000000</td>\n",
              "      <td>0.000186</td>\n",
              "      <td>0.000000</td>\n",
              "      <td>...</td>\n",
              "      <td>0.000247</td>\n",
              "      <td>0.000124</td>\n",
              "      <td>0.000247</td>\n",
              "      <td>0.000495</td>\n",
              "      <td>0.000371</td>\n",
              "      <td>0.000186</td>\n",
              "      <td>0.000186</td>\n",
              "      <td>0.000062</td>\n",
              "      <td>0.000000</td>\n",
              "      <td>0.000557</td>\n",
              "      <td>0.000495</td>\n",
              "      <td>0.000062</td>\n",
              "      <td>0.000186</td>\n",
              "      <td>0.000186</td>\n",
              "      <td>0.000000</td>\n",
              "      <td>0.000000</td>\n",
              "      <td>0.000186</td>\n",
              "      <td>0.000247</td>\n",
              "      <td>0.000000</td>\n",
              "      <td>0.000309</td>\n",
              "      <td>0.000186</td>\n",
              "      <td>0.000062</td>\n",
              "      <td>0.0</td>\n",
              "      <td>0.000186</td>\n",
              "      <td>0.0</td>\n",
              "      <td>0.0</td>\n",
              "      <td>0.0</td>\n",
              "      <td>0.0</td>\n",
              "      <td>0.0</td>\n",
              "      <td>0.0</td>\n",
              "      <td>0.0</td>\n",
              "      <td>0.0</td>\n",
              "      <td>0.0</td>\n",
              "      <td>0.0</td>\n",
              "      <td>0.0</td>\n",
              "      <td>0.0</td>\n",
              "      <td>0.0</td>\n",
              "      <td>0.0</td>\n",
              "      <td>0.0</td>\n",
              "      <td>0.0</td>\n",
              "    </tr>\n",
              "  </tbody>\n",
              "</table>\n",
              "<p>5 rows × 1096 columns</p>\n",
              "</div>"
            ],
            "text/plain": [
              "                     T        Th       The       he   ...    i    t    w    o    s\n",
              "26  0.000640  0.000213  0.001138  0.000996  0.014441  ...  0.0  0.0  0.0  0.0  0.0\n",
              "29  0.000687  0.000305  0.000916  0.000458  0.016491  ...  0.0  0.0  0.0  0.0  0.0\n",
              "84  0.000405  0.000243  0.001783  0.001499  0.015760  ...  0.0  0.0  0.0  0.0  0.0\n",
              "71  0.000873  0.000388  0.001455  0.000970  0.018720  ...  0.0  0.0  0.0  0.0  0.0\n",
              "36  0.000557  0.000371  0.001917  0.001608  0.015648  ...  0.0  0.0  0.0  0.0  0.0\n",
              "\n",
              "[5 rows x 1096 columns]"
            ]
          },
          "metadata": {
            "tags": []
          },
          "execution_count": 25
        }
      ]
    },
    {
      "cell_type": "markdown",
      "metadata": {
        "id": "d7X-MBqqenfT"
      },
      "source": [
        "One way we can understand the relationship between these different points is their **distance** from each other.\n",
        "\n",
        "Papers (aka points) that are closer together have more similar tri-gram frequencies and, in general, have more similar **style**. We would expect all of the papers that Hamilton wrote to be relatively close together, in a **cluster**, and all of the papers that Madison wrote to be in another cluster.\n",
        "\n",
        "To get started, let's calculate these distances. The SciPy function `scipy.spatial.distance.cdist()` calculates the 'distance' between each pair of points in 1096-dimensional space. It does this by calculating **cosine similarity**. Here's a formula and diagram if you're interested in the math. (Technically, we are calculating cosine dissimilarity because we're interested in distance, so it's 1 minus the cosine similarity.)\n",
        "\n",
        "<img src=\"https://miro.medium.com/max/2636/1*xxYHHrhT9HZJIBEsfW7W0Q.png\" width=700></img>\n",
        "<img src=\"https://miro.medium.com/max/686/1*dGWOzgAYv9NUkWvkETQUTQ.png\" width=400></img>\n",
        "\n",
        "\n",
        "If not, feel free to think of it intuitively as **how close or not close two documents are, stylistically**."
      ]
    },
    {
      "cell_type": "code",
      "metadata": {
        "id": "C_ElsRWpgV3-"
      },
      "source": [
        "import scipy\n",
        "pairwise_dist = scipy.spatial.distance.cdist(freqs.values, freqs.values, 'cosine')\n",
        "# read more about the cdist function here: \n",
        "# https://docs.scipy.org/doc/scipy/reference/generated/scipy.spatial.distance.cdist.html"
      ],
      "execution_count": null,
      "outputs": []
    },
    {
      "cell_type": "markdown",
      "metadata": {
        "id": "trH2XqXSgZ7d"
      },
      "source": [
        "The resulting array is 81 by 81, with `pairwise_dist[i][j]` representing the distance between paper `i` and paper `j`.\n",
        "\n",
        "It has a diagonal of all 0s, because the distance between a text and itself should be 0."
      ]
    },
    {
      "cell_type": "code",
      "metadata": {
        "colab": {
          "base_uri": "https://localhost:8080/"
        },
        "id": "CgxE4f-rgW21",
        "outputId": "dc6d5736-9083-4eef-b91c-8f094f6d544c"
      },
      "source": [
        "pairwise_dist.shape"
      ],
      "execution_count": null,
      "outputs": [
        {
          "output_type": "execute_result",
          "data": {
            "text/plain": [
              "(81, 81)"
            ]
          },
          "metadata": {
            "tags": []
          },
          "execution_count": 27
        }
      ]
    },
    {
      "cell_type": "code",
      "metadata": {
        "colab": {
          "base_uri": "https://localhost:8080/"
        },
        "id": "V8GJjqnvgf8t",
        "outputId": "beb2612b-baef-434c-a312-c6653d3db700"
      },
      "source": [
        "pairwise_dist[10][10]"
      ],
      "execution_count": null,
      "outputs": [
        {
          "output_type": "execute_result",
          "data": {
            "text/plain": [
              "0.0"
            ]
          },
          "metadata": {
            "tags": []
          },
          "execution_count": 28
        }
      ]
    },
    {
      "cell_type": "markdown",
      "metadata": {
        "id": "JyFMH775hEyT"
      },
      "source": [
        "Now that we have the distances between each pair of texts, we can **approximate the relationships between all of the texts in 2 dimensions**, which is something we can visually understand.\n",
        "\n",
        "We do this using something called [multi-dimensional scaling](https://scikit-learn.org/stable/modules/generated/sklearn.manifold.MDS.html), which you can read more about if you're interested. Otherwise, feel free to skip over the details."
      ]
    },
    {
      "cell_type": "code",
      "metadata": {
        "colab": {
          "base_uri": "https://localhost:8080/"
        },
        "id": "RunNndYLeQXo",
        "outputId": "1036cc23-c972-4a1d-fe6a-9a6d00dcdfd8"
      },
      "source": [
        "# we use the implementation from scikit-learn, another very important data science/ML library.\n",
        "from sklearn.manifold import MDS\n",
        "\n",
        "# defining the kind of transformation we're looking for. We want\n",
        "# to reduce our points to 2 dimensions, and we want to use the\n",
        "# distances that we precomputed.\n",
        "embedding = MDS(n_components=2, dissimilarity='precomputed')\n",
        "\n",
        "# We can apply the transformation to our array of pairwise distances between papers\n",
        "papers_in_2d = embedding.fit_transform(pairwise_dist)\n",
        "papers_in_2d.shape"
      ],
      "execution_count": null,
      "outputs": [
        {
          "output_type": "execute_result",
          "data": {
            "text/plain": [
              "(81, 2)"
            ]
          },
          "metadata": {
            "tags": []
          },
          "execution_count": 29
        }
      ]
    },
    {
      "cell_type": "markdown",
      "metadata": {
        "id": "xfXLa0GOhjlC"
      },
      "source": [
        "We end up with an array with 81 rows and just 2 columns, which we can then plot using **matplotlib**, a Python data visualization library.\n"
      ]
    },
    {
      "cell_type": "code",
      "metadata": {
        "colab": {
          "base_uri": "https://localhost:8080/"
        },
        "id": "NMQdZs96hd1n",
        "outputId": "d0f3d9fc-1a8e-4aae-dd18-d35f78d4ca8b"
      },
      "source": [
        "import matplotlib.pyplot as plt\n",
        "\n",
        "plt.scatter(papers_in_2d[:,0], papers_in_2d[:,1])\n",
        "plt.show()"
      ],
      "execution_count": null,
      "outputs": [
        {
          "output_type": "display_data",
          "data": {
            "image/png": "[encoded data removed]",
            "text/plain": [
              "<Figure size 432x288 with 1 Axes>"
            ]
          },
          "metadata": {
            "tags": [],
            "needs_background": "light"
          }
        }
      ]
    },
    {
      "cell_type": "markdown",
      "metadata": {
        "id": "IMW9mff-hwWF"
      },
      "source": [
        "This shows us the relative distances between texts, preserved as well as possible when moving from 1096 dimensions down to 2. The axes don't mean much--it's the relative distances better points that matter.\n",
        "\n",
        "Still, this plot doesn't tell us much. Let's color each of these points by whether they were written by Hamilton, Madison, or an uncertain author to see if there are any patterns.\n",
        "\n",
        "To do this, we need to make a dictionary mapping a paper's name/number to its authors colors"
      ]
    },
    {
      "cell_type": "code",
      "metadata": {
        "id": "iSiLmLSJdoqc"
      },
      "source": [
        "# Populate the dictionary here!\n",
        "paper_name_to_author = {}\n",
        "\n",
        "for pname in hamilton_paper_names:\n",
        "    paper_name_to_author[pname] = 'red'\n",
        "for pname in madison_paper_names:\n",
        "    paper_name_to_author[pname] = 'blue'\n",
        "for pname in disputed_paper_names:\n",
        "    paper_name_to_author[pname] = 'green'\n",
        "    \n",
        "colors = [paper_name_to_author[pname] for pname in freqs.index]"
      ],
      "execution_count": null,
      "outputs": []
    },
    {
      "cell_type": "markdown",
      "metadata": {
        "id": "PV1DkRR0ijcN"
      },
      "source": [
        "Let's plot! Try using the `c` keyword argument in the `plt.scatter()` function."
      ]
    },
    {
      "cell_type": "code",
      "metadata": {
        "colab": {
          "base_uri": "https://localhost:8080/",
          "height": 281
        },
        "id": "a-l8x-sA_NvS",
        "outputId": "0f6eb2db-1ed7-4f3f-899a-3900bffdd8d6"
      },
      "source": [
        "import matplotlib.pyplot as plt\n",
        "\n",
        "plt.scatter(papers_in_2d[:,0], papers_in_2d[:,1], c=colors)\n",
        "plt.title('Federalist Papers Authorship Attribution') # give your plot a title\n",
        "\n",
        "\n",
        "# this code gives us a custom legend\n",
        "import matplotlib.patches as mpatches\n",
        "import matplotlib.pyplot as plt\n",
        "r_patch = mpatches.Patch(color='red', label='Hamilton')\n",
        "b_patch = mpatches.Patch(color='blue', label='Madison')\n",
        "g_patch = mpatches.Patch(color='green', label='Disputed')\n",
        "plt.legend(handles=[r_patch, b_patch, g_patch])\n",
        "\n",
        "plt.show()"
      ],
      "execution_count": null,
      "outputs": [
        {
          "output_type": "display_data",
          "data": {
            "image/png": "[encoded data removed]",
            "text/plain": [
              "<Figure size 432x288 with 1 Axes>"
            ]
          },
          "metadata": {
            "tags": [],
            "needs_background": "light"
          }
        }
      ]
    },
    {
      "cell_type": "markdown",
      "metadata": {
        "id": "dDvqbxCnjHij"
      },
      "source": [
        "We can see that Hamilton's and Madison's papers do in fact cluster at the top and bottom of the plot, and we can see that the green disputed papers fall closer to Madison's other papers.\n",
        "\n",
        "This agrees with the general consensus of researchers who have worked on this problem. In the 1940s, Frederick Mosteller and David Wallace used statistical analysis in their paper, “Inference in an Authorship Problem,” to conclude that Madison was the author of all 12 disputed papers.\n",
        "\n",
        "This is just one application of stylometry to a problem in the social sciences, and I hope you're interested in learning more."
      ]
    }
  ]
}