{
 "cells": [
  {
   "cell_type": "markdown",
   "metadata": {
    "id": "iL7ARB7l7VNE"
   },
   "source": [
    "<img src=\"https://www.nintendo.com/content/dam/noa/en_US/games/switch/a/animal-crossing-new-horizons-switch/screenshot-gallery/animal-crossing-new-horizons-switch-screenshot06.jpg\" alt=\"animal crossing screenshot\" width=\"600\"/>"
   ]
  },
  {
   "cell_type": "markdown",
   "metadata": {
    "id": "4zTcryHyilmk"
   },
   "source": [
    "# Intro to Data Science... with Animal Crossing!\n",
    "## What is this?"
   ]
  },
  {
   "cell_type": "markdown",
   "metadata": {
    "id": "rF3ti0Pxiny9"
   },
   "source": [
    "First things first, this is a Jupyter notebook. It's composed of text cells, like this one."
   ]
  },
  {
   "cell_type": "code",
   "execution_count": 1,
   "metadata": {
    "colab": {
     "base_uri": "https://localhost:8080/",
     "height": 34
    },
    "id": "kpfhiguSi2XM",
    "outputId": "1c65ea0d-3d1d-4640-ac8d-fa7c8ed6284f"
   },
   "outputs": [
    {
     "name": "stdout",
     "output_type": "stream",
     "text": [
      "It also has code cells like this one.\n"
     ]
    }
   ],
   "source": [
    "message = \"It also has code cells like this one.\"\n",
    "print(message)"
   ]
  },
  {
   "cell_type": "markdown",
   "metadata": {
    "id": "7w2ZS2R0jXwc"
   },
   "source": [
    "Any output from a code cell is displayed once you run the cell, just like what happened above. \n",
    "\n",
    "For now, just think of this notebook as a Python script broken up into small pieces, which you can more easily interact with (hence ipynb)."
   ]
  },
  {
   "cell_type": "markdown",
   "metadata": {
    "id": "z_xaUBL48fLA"
   },
   "source": [
    "## Loading the data\n",
    "We're going to be working with data describing Animal Crossing [villagers](https://raw.githubusercontent.com/rfordatascience/tidytuesday/master/data/2020/2020-05-05/villagers.csv), available [online](https://github.com/rfordatascience/tidytuesday/blob/master/data/2020/2020-05-05/readme.md)."
   ]
  },
  {
   "cell_type": "code",
   "execution_count": 2,
   "metadata": {
    "id": "qxCv81rxfavd"
   },
   "outputs": [],
   "source": [
    "# the link to the data\n",
    "villager_data = 'https://raw.githubusercontent.com/rfordatascience/tidytuesday/master/data/2020/2020-05-05/villagers.csv'"
   ]
  },
  {
   "cell_type": "markdown",
   "metadata": {
    "id": "BUz1t9Z3bNzf"
   },
   "source": [
    "That link leads to a CSV file, which is great for storing data but hard for us to work with. We can use a library called __pandas__ to parse those CSV files into a more readable form. [pandas](https://pandas.pydata.org/) is a fast, powerful, flexible and easy to use open source data analysis and manipulation tool for Python."
   ]
  },
  {
   "cell_type": "code",
   "execution_count": 3,
   "metadata": {
    "id": "lFv6kTRVfFv2"
   },
   "outputs": [],
   "source": [
    "# import the pandas module and make it referenceable locally as pd\n",
    "import pandas as pd "
   ]
  },
  {
   "cell_type": "markdown",
   "metadata": {
    "id": "i_IDFiS1gelc"
   },
   "source": [
    "We can use a method `pd.read_csv()` to load the villager data file into a pandas `DataFrame` object, which you can think of as a table. We can use a method `DataFrame.head()` to peek at the dataframe's contents"
   ]
  },
  {
   "cell_type": "code",
   "execution_count": 4,
   "metadata": {
    "colab": {
     "base_uri": "https://localhost:8080/",
     "height": 204
    },
    "id": "vt04Vu6dgdmj",
    "outputId": "a2638363-8e9b-4b0d-8a52-82dcb3a9edf0"
   },
   "outputs": [
    {
     "data": {
      "text/html": [
       "<div>\n",
       "<style scoped>\n",
       "    .dataframe tbody tr th:only-of-type {\n",
       "        vertical-align: middle;\n",
       "    }\n",
       "\n",
       "    .dataframe tbody tr th {\n",
       "        vertical-align: top;\n",
       "    }\n",
       "\n",
       "    .dataframe thead th {\n",
       "        text-align: right;\n",
       "    }\n",
       "</style>\n",
       "<table border=\"1\" class=\"dataframe\">\n",
       "  <thead>\n",
       "    <tr style=\"text-align: right;\">\n",
       "      <th></th>\n",
       "      <th>row_n</th>\n",
       "      <th>id</th>\n",
       "      <th>name</th>\n",
       "      <th>gender</th>\n",
       "      <th>species</th>\n",
       "      <th>birthday</th>\n",
       "      <th>personality</th>\n",
       "      <th>song</th>\n",
       "      <th>phrase</th>\n",
       "      <th>full_id</th>\n",
       "      <th>url</th>\n",
       "    </tr>\n",
       "  </thead>\n",
       "  <tbody>\n",
       "    <tr>\n",
       "      <th>0</th>\n",
       "      <td>2</td>\n",
       "      <td>admiral</td>\n",
       "      <td>Admiral</td>\n",
       "      <td>male</td>\n",
       "      <td>bird</td>\n",
       "      <td>1-27</td>\n",
       "      <td>cranky</td>\n",
       "      <td>Steep Hill</td>\n",
       "      <td>aye aye</td>\n",
       "      <td>villager-admiral</td>\n",
       "      <td>https://villagerdb.com/images/villagers/thumb/...</td>\n",
       "    </tr>\n",
       "    <tr>\n",
       "      <th>1</th>\n",
       "      <td>3</td>\n",
       "      <td>agent-s</td>\n",
       "      <td>Agent S</td>\n",
       "      <td>female</td>\n",
       "      <td>squirrel</td>\n",
       "      <td>7-2</td>\n",
       "      <td>peppy</td>\n",
       "      <td>DJ K.K.</td>\n",
       "      <td>sidekick</td>\n",
       "      <td>villager-agent-s</td>\n",
       "      <td>https://villagerdb.com/images/villagers/thumb/...</td>\n",
       "    </tr>\n",
       "    <tr>\n",
       "      <th>2</th>\n",
       "      <td>4</td>\n",
       "      <td>agnes</td>\n",
       "      <td>Agnes</td>\n",
       "      <td>female</td>\n",
       "      <td>pig</td>\n",
       "      <td>4-21</td>\n",
       "      <td>uchi</td>\n",
       "      <td>K.K. House</td>\n",
       "      <td>snuffle</td>\n",
       "      <td>villager-agnes</td>\n",
       "      <td>https://villagerdb.com/images/villagers/thumb/...</td>\n",
       "    </tr>\n",
       "    <tr>\n",
       "      <th>3</th>\n",
       "      <td>6</td>\n",
       "      <td>al</td>\n",
       "      <td>Al</td>\n",
       "      <td>male</td>\n",
       "      <td>gorilla</td>\n",
       "      <td>10-18</td>\n",
       "      <td>lazy</td>\n",
       "      <td>Steep Hill</td>\n",
       "      <td>Ayyeeee</td>\n",
       "      <td>villager-al</td>\n",
       "      <td>https://villagerdb.com/images/villagers/thumb/...</td>\n",
       "    </tr>\n",
       "    <tr>\n",
       "      <th>4</th>\n",
       "      <td>7</td>\n",
       "      <td>alfonso</td>\n",
       "      <td>Alfonso</td>\n",
       "      <td>male</td>\n",
       "      <td>alligator</td>\n",
       "      <td>6-9</td>\n",
       "      <td>lazy</td>\n",
       "      <td>Forest Life</td>\n",
       "      <td>it'sa me</td>\n",
       "      <td>villager-alfonso</td>\n",
       "      <td>https://villagerdb.com/images/villagers/thumb/...</td>\n",
       "    </tr>\n",
       "  </tbody>\n",
       "</table>\n",
       "</div>"
      ],
      "text/plain": [
       "   row_n       id     name  gender    species birthday personality  \\\n",
       "0      2  admiral  Admiral    male       bird     1-27      cranky   \n",
       "1      3  agent-s  Agent S  female   squirrel      7-2       peppy   \n",
       "2      4    agnes    Agnes  female        pig     4-21        uchi   \n",
       "3      6       al       Al    male    gorilla    10-18        lazy   \n",
       "4      7  alfonso  Alfonso    male  alligator      6-9        lazy   \n",
       "\n",
       "          song    phrase           full_id  \\\n",
       "0   Steep Hill   aye aye  villager-admiral   \n",
       "1      DJ K.K.  sidekick  villager-agent-s   \n",
       "2   K.K. House   snuffle    villager-agnes   \n",
       "3   Steep Hill   Ayyeeee       villager-al   \n",
       "4  Forest Life  it'sa me  villager-alfonso   \n",
       "\n",
       "                                                 url  \n",
       "0  https://villagerdb.com/images/villagers/thumb/...  \n",
       "1  https://villagerdb.com/images/villagers/thumb/...  \n",
       "2  https://villagerdb.com/images/villagers/thumb/...  \n",
       "3  https://villagerdb.com/images/villagers/thumb/...  \n",
       "4  https://villagerdb.com/images/villagers/thumb/...  "
      ]
     },
     "execution_count": 4,
     "metadata": {},
     "output_type": "execute_result"
    }
   ],
   "source": [
    "villagers = pd.read_csv(villager_data)\n",
    "villagers.head()"
   ]
  },
  {
   "cell_type": "code",
   "execution_count": 5,
   "metadata": {
    "colab": {
     "base_uri": "https://localhost:8080/",
     "height": 238
    },
    "id": "gQBr4t5cszn_",
    "outputId": "b4a39915-416a-4fb3-94de-047f82eb2adb"
   },
   "outputs": [
    {
     "data": {
      "text/html": [
       "<div>\n",
       "<style scoped>\n",
       "    .dataframe tbody tr th:only-of-type {\n",
       "        vertical-align: middle;\n",
       "    }\n",
       "\n",
       "    .dataframe tbody tr th {\n",
       "        vertical-align: top;\n",
       "    }\n",
       "\n",
       "    .dataframe thead th {\n",
       "        text-align: right;\n",
       "    }\n",
       "</style>\n",
       "<table border=\"1\" class=\"dataframe\">\n",
       "  <thead>\n",
       "    <tr style=\"text-align: right;\">\n",
       "      <th></th>\n",
       "      <th>row_n</th>\n",
       "      <th>id</th>\n",
       "      <th>name</th>\n",
       "      <th>gender</th>\n",
       "      <th>species</th>\n",
       "      <th>birthday</th>\n",
       "      <th>personality</th>\n",
       "      <th>song</th>\n",
       "      <th>phrase</th>\n",
       "      <th>full_id</th>\n",
       "      <th>url</th>\n",
       "    </tr>\n",
       "  </thead>\n",
       "  <tbody>\n",
       "    <tr>\n",
       "      <th>386</th>\n",
       "      <td>475</td>\n",
       "      <td>winnie</td>\n",
       "      <td>Winnie</td>\n",
       "      <td>female</td>\n",
       "      <td>horse</td>\n",
       "      <td>1-31</td>\n",
       "      <td>peppy</td>\n",
       "      <td>My Place</td>\n",
       "      <td>hay-OK</td>\n",
       "      <td>villager-winnie</td>\n",
       "      <td>https://villagerdb.com/images/villagers/thumb/...</td>\n",
       "    </tr>\n",
       "    <tr>\n",
       "      <th>387</th>\n",
       "      <td>477</td>\n",
       "      <td>wolfgang</td>\n",
       "      <td>Wolfgang</td>\n",
       "      <td>male</td>\n",
       "      <td>wolf</td>\n",
       "      <td>11-25</td>\n",
       "      <td>cranky</td>\n",
       "      <td>K.K. Song</td>\n",
       "      <td>snarrrl</td>\n",
       "      <td>villager-wolfgang</td>\n",
       "      <td>https://villagerdb.com/images/villagers/thumb/...</td>\n",
       "    </tr>\n",
       "    <tr>\n",
       "      <th>388</th>\n",
       "      <td>480</td>\n",
       "      <td>yuka</td>\n",
       "      <td>Yuka</td>\n",
       "      <td>female</td>\n",
       "      <td>koala</td>\n",
       "      <td>7-20</td>\n",
       "      <td>snooty</td>\n",
       "      <td>Soulful K.K.</td>\n",
       "      <td>tsk tsk</td>\n",
       "      <td>villager-yuka</td>\n",
       "      <td>https://villagerdb.com/images/villagers/thumb/...</td>\n",
       "    </tr>\n",
       "    <tr>\n",
       "      <th>389</th>\n",
       "      <td>481</td>\n",
       "      <td>zell</td>\n",
       "      <td>Zell</td>\n",
       "      <td>male</td>\n",
       "      <td>deer</td>\n",
       "      <td>6-7</td>\n",
       "      <td>smug</td>\n",
       "      <td>K.K. D&amp;B</td>\n",
       "      <td>pronk</td>\n",
       "      <td>villager-zell</td>\n",
       "      <td>https://villagerdb.com/images/villagers/thumb/...</td>\n",
       "    </tr>\n",
       "    <tr>\n",
       "      <th>390</th>\n",
       "      <td>483</td>\n",
       "      <td>zucker</td>\n",
       "      <td>Zucker</td>\n",
       "      <td>male</td>\n",
       "      <td>octopus</td>\n",
       "      <td>3-8</td>\n",
       "      <td>lazy</td>\n",
       "      <td>Spring Blossoms</td>\n",
       "      <td>bloop</td>\n",
       "      <td>villager-zucker</td>\n",
       "      <td>https://villagerdb.com/images/villagers/thumb/...</td>\n",
       "    </tr>\n",
       "  </tbody>\n",
       "</table>\n",
       "</div>"
      ],
      "text/plain": [
       "     row_n        id      name  gender  species birthday personality  \\\n",
       "386    475    winnie    Winnie  female    horse     1-31       peppy   \n",
       "387    477  wolfgang  Wolfgang    male     wolf    11-25      cranky   \n",
       "388    480      yuka      Yuka  female    koala     7-20      snooty   \n",
       "389    481      zell      Zell    male     deer      6-7        smug   \n",
       "390    483    zucker    Zucker    male  octopus      3-8        lazy   \n",
       "\n",
       "                song   phrase            full_id  \\\n",
       "386         My Place   hay-OK    villager-winnie   \n",
       "387        K.K. Song  snarrrl  villager-wolfgang   \n",
       "388     Soulful K.K.  tsk tsk      villager-yuka   \n",
       "389         K.K. D&B    pronk      villager-zell   \n",
       "390  Spring Blossoms    bloop    villager-zucker   \n",
       "\n",
       "                                                   url  \n",
       "386  https://villagerdb.com/images/villagers/thumb/...  \n",
       "387  https://villagerdb.com/images/villagers/thumb/...  \n",
       "388  https://villagerdb.com/images/villagers/thumb/...  \n",
       "389  https://villagerdb.com/images/villagers/thumb/...  \n",
       "390  https://villagerdb.com/images/villagers/thumb/...  "
      ]
     },
     "execution_count": 5,
     "metadata": {},
     "output_type": "execute_result"
    }
   ],
   "source": [
    "villagers.tail()"
   ]
  },
  {
   "cell_type": "code",
   "execution_count": 6,
   "metadata": {
    "colab": {
     "base_uri": "https://localhost:8080/",
     "height": 34
    },
    "id": "_wgL9NFWlccP",
    "outputId": "a3291c2f-6497-4618-93a3-aed2d88e1d2f"
   },
   "outputs": [
    {
     "data": {
      "text/plain": [
       "391"
      ]
     },
     "execution_count": 6,
     "metadata": {},
     "output_type": "execute_result"
    }
   ],
   "source": [
    "len(villagers)"
   ]
  },
  {
   "cell_type": "markdown",
   "metadata": {
    "id": "MOcqETs-heSD"
   },
   "source": [
    "So... what are we looking at?"
   ]
  },
  {
   "cell_type": "code",
   "execution_count": 7,
   "metadata": {
    "colab": {
     "base_uri": "https://localhost:8080/",
     "height": 68
    },
    "id": "zk_PrzzcmKxP",
    "outputId": "9c5d3884-dbdc-4148-c915-499067695fc6"
   },
   "outputs": [
    {
     "data": {
      "text/plain": [
       "Index(['row_n', 'id', 'name', 'gender', 'species', 'birthday', 'personality',\n",
       "       'song', 'phrase', 'full_id', 'url'],\n",
       "      dtype='object')"
      ]
     },
     "execution_count": 7,
     "metadata": {},
     "output_type": "execute_result"
    }
   ],
   "source": [
    "villagers.columns"
   ]
  },
  {
   "cell_type": "markdown",
   "metadata": {
    "id": "UpVIEmhurBSU"
   },
   "source": [
    "We can zoom in on any subset of those columns like so"
   ]
  },
  {
   "cell_type": "code",
   "execution_count": 8,
   "metadata": {
    "colab": {
     "base_uri": "https://localhost:8080/",
     "height": 204
    },
    "id": "bCLsxEr3rFd2",
    "outputId": "a9919971-9ead-4127-e54b-b5ee07bb95f2"
   },
   "outputs": [
    {
     "data": {
      "text/html": [
       "<div>\n",
       "<style scoped>\n",
       "    .dataframe tbody tr th:only-of-type {\n",
       "        vertical-align: middle;\n",
       "    }\n",
       "\n",
       "    .dataframe tbody tr th {\n",
       "        vertical-align: top;\n",
       "    }\n",
       "\n",
       "    .dataframe thead th {\n",
       "        text-align: right;\n",
       "    }\n",
       "</style>\n",
       "<table border=\"1\" class=\"dataframe\">\n",
       "  <thead>\n",
       "    <tr style=\"text-align: right;\">\n",
       "      <th></th>\n",
       "      <th>name</th>\n",
       "      <th>species</th>\n",
       "      <th>personality</th>\n",
       "    </tr>\n",
       "  </thead>\n",
       "  <tbody>\n",
       "    <tr>\n",
       "      <th>0</th>\n",
       "      <td>Admiral</td>\n",
       "      <td>bird</td>\n",
       "      <td>cranky</td>\n",
       "    </tr>\n",
       "    <tr>\n",
       "      <th>1</th>\n",
       "      <td>Agent S</td>\n",
       "      <td>squirrel</td>\n",
       "      <td>peppy</td>\n",
       "    </tr>\n",
       "    <tr>\n",
       "      <th>2</th>\n",
       "      <td>Agnes</td>\n",
       "      <td>pig</td>\n",
       "      <td>uchi</td>\n",
       "    </tr>\n",
       "    <tr>\n",
       "      <th>3</th>\n",
       "      <td>Al</td>\n",
       "      <td>gorilla</td>\n",
       "      <td>lazy</td>\n",
       "    </tr>\n",
       "    <tr>\n",
       "      <th>4</th>\n",
       "      <td>Alfonso</td>\n",
       "      <td>alligator</td>\n",
       "      <td>lazy</td>\n",
       "    </tr>\n",
       "  </tbody>\n",
       "</table>\n",
       "</div>"
      ],
      "text/plain": [
       "      name    species personality\n",
       "0  Admiral       bird      cranky\n",
       "1  Agent S   squirrel       peppy\n",
       "2    Agnes        pig        uchi\n",
       "3       Al    gorilla        lazy\n",
       "4  Alfonso  alligator        lazy"
      ]
     },
     "execution_count": 8,
     "metadata": {},
     "output_type": "execute_result"
    }
   ],
   "source": [
    "villagers_col_subset = villagers[['name', 'species', 'personality']]\n",
    "villagers_col_subset.head()"
   ]
  },
  {
   "cell_type": "markdown",
   "metadata": {
    "id": "_PAuHbCfo3Rl"
   },
   "source": [
    "We can zoom in on any one of our villages using the `DataFrame.iloc()` function"
   ]
  },
  {
   "cell_type": "code",
   "execution_count": 9,
   "metadata": {
    "colab": {
     "base_uri": "https://localhost:8080/",
     "height": 221
    },
    "id": "0tnCQtaBmqM6",
    "outputId": "6daa6fc5-5bf4-4725-d29e-4bb3a659106d"
   },
   "outputs": [
    {
     "data": {
      "text/plain": [
       "row_n                                                        396\n",
       "id                                                          rudy\n",
       "name                                                        Rudy\n",
       "gender                                                      male\n",
       "species                                                      cat\n",
       "birthday                                                   12-20\n",
       "personality                                                 jock\n",
       "song                                                 The K. Funk\n",
       "phrase                                                    tokana\n",
       "full_id                                            villager-rudy\n",
       "url            https://villagerdb.com/images/villagers/thumb/...\n",
       "Name: 320, dtype: object"
      ]
     },
     "execution_count": 9,
     "metadata": {},
     "output_type": "execute_result"
    }
   ],
   "source": [
    "villager_number = 320\n",
    "villagers.iloc[villager_number]"
   ]
  },
  {
   "cell_type": "markdown",
   "metadata": {
    "id": "LO7gYXPrmIge"
   },
   "source": [
    "Let's take a look at some of the images!"
   ]
  },
  {
   "cell_type": "code",
   "execution_count": 10,
   "metadata": {
    "colab": {
     "base_uri": "https://localhost:8080/",
     "height": 117
    },
    "id": "_ePyEuD4mHwT",
    "outputId": "4794e72c-9fd4-4aee-8407-425d80946895"
   },
   "outputs": [
    {
     "data": {
      "image/png": "[encoded data removed]",
      "text/plain": [
       "<IPython.core.display.Image object>"
      ]
     },
     "execution_count": 10,
     "metadata": {},
     "output_type": "execute_result"
    }
   ],
   "source": [
    "villager_image_url = villagers.iloc[villager_number]['url']\n",
    "\n",
    "import requests\n",
    "import IPython.display as Disp\n",
    "\n",
    "Disp.Image(requests.get(villager_image_url).content)"
   ]
  },
  {
   "cell_type": "markdown",
   "metadata": {
    "id": "OLOtKBO5qU1T"
   },
   "source": [
    "We can also select a row based on a villager's name using what's called a boolean indexer."
   ]
  },
  {
   "cell_type": "code",
   "execution_count": 11,
   "metadata": {
    "colab": {
     "base_uri": "https://localhost:8080/",
     "height": 80
    },
    "id": "d1QChzcKqTNM",
    "outputId": "66e857f8-a5bb-4d87-b43e-2ecf2f14f991"
   },
   "outputs": [
    {
     "data": {
      "text/html": [
       "<div>\n",
       "<style scoped>\n",
       "    .dataframe tbody tr th:only-of-type {\n",
       "        vertical-align: middle;\n",
       "    }\n",
       "\n",
       "    .dataframe tbody tr th {\n",
       "        vertical-align: top;\n",
       "    }\n",
       "\n",
       "    .dataframe thead th {\n",
       "        text-align: right;\n",
       "    }\n",
       "</style>\n",
       "<table border=\"1\" class=\"dataframe\">\n",
       "  <thead>\n",
       "    <tr style=\"text-align: right;\">\n",
       "      <th></th>\n",
       "      <th>row_n</th>\n",
       "      <th>id</th>\n",
       "      <th>name</th>\n",
       "      <th>gender</th>\n",
       "      <th>species</th>\n",
       "      <th>birthday</th>\n",
       "      <th>personality</th>\n",
       "      <th>song</th>\n",
       "      <th>phrase</th>\n",
       "      <th>full_id</th>\n",
       "      <th>url</th>\n",
       "    </tr>\n",
       "  </thead>\n",
       "  <tbody>\n",
       "    <tr>\n",
       "      <th>30</th>\n",
       "      <td>35</td>\n",
       "      <td>beau</td>\n",
       "      <td>Beau</td>\n",
       "      <td>male</td>\n",
       "      <td>deer</td>\n",
       "      <td>4-5</td>\n",
       "      <td>lazy</td>\n",
       "      <td>Mountain Song</td>\n",
       "      <td>saltlick</td>\n",
       "      <td>villager-beau</td>\n",
       "      <td>https://villagerdb.com/images/villagers/thumb/...</td>\n",
       "    </tr>\n",
       "  </tbody>\n",
       "</table>\n",
       "</div>"
      ],
      "text/plain": [
       "    row_n    id  name gender species birthday personality           song  \\\n",
       "30     35  beau  Beau   male    deer      4-5        lazy  Mountain Song   \n",
       "\n",
       "      phrase        full_id                                                url  \n",
       "30  saltlick  villager-beau  https://villagerdb.com/images/villagers/thumb/...  "
      ]
     },
     "execution_count": 11,
     "metadata": {},
     "output_type": "execute_result"
    }
   ],
   "source": [
    "villager_name = 'Beau'\n",
    "name_row = villagers[villagers['name']==villager_name]\n",
    "name_row"
   ]
  },
  {
   "cell_type": "code",
   "execution_count": 12,
   "metadata": {
    "colab": {
     "base_uri": "https://localhost:8080/",
     "height": 117
    },
    "id": "HGrB4gDcqpZ8",
    "outputId": "0180a627-e5c2-436a-9d0a-cdebf0d2d84b"
   },
   "outputs": [
    {
     "data": {
      "image/png": "[encoded data removed]",
      "text/plain": [
       "<IPython.core.display.Image object>"
      ]
     },
     "execution_count": 12,
     "metadata": {},
     "output_type": "execute_result"
    }
   ],
   "source": [
    "Disp.Image(requests.get(name_row['url'].values[0]).content)"
   ]
  },
  {
   "cell_type": "markdown",
   "metadata": {
    "id": "2Sx7_cnCpd1A"
   },
   "source": [
    "So, by now we've learned to\n",
    "- load in a Pandas DataFrame \n",
    "- take a look at the data it contains using `.head()` and `.tail()`\n",
    "- 'focus' on specific columns or rows\n",
    "- display an image from its url\n",
    "\n",
    "We can do the same thing with Animal Crossing items (or any other data set)"
   ]
  },
  {
   "cell_type": "code",
   "execution_count": 13,
   "metadata": {
    "colab": {
     "base_uri": "https://localhost:8080/",
     "height": 309
    },
    "id": "VbSllJl2pckf",
    "outputId": "61fb08c2-06ff-4b4d-910d-9678b8823814"
   },
   "outputs": [
    {
     "data": {
      "text/html": [
       "<div>\n",
       "<style scoped>\n",
       "    .dataframe tbody tr th:only-of-type {\n",
       "        vertical-align: middle;\n",
       "    }\n",
       "\n",
       "    .dataframe tbody tr th {\n",
       "        vertical-align: top;\n",
       "    }\n",
       "\n",
       "    .dataframe thead th {\n",
       "        text-align: right;\n",
       "    }\n",
       "</style>\n",
       "<table border=\"1\" class=\"dataframe\">\n",
       "  <thead>\n",
       "    <tr style=\"text-align: right;\">\n",
       "      <th></th>\n",
       "      <th>num_id</th>\n",
       "      <th>id</th>\n",
       "      <th>name</th>\n",
       "      <th>category</th>\n",
       "      <th>orderable</th>\n",
       "      <th>sell_value</th>\n",
       "      <th>sell_currency</th>\n",
       "      <th>buy_value</th>\n",
       "      <th>buy_currency</th>\n",
       "      <th>sources</th>\n",
       "      <th>customizable</th>\n",
       "      <th>recipe</th>\n",
       "      <th>recipe_id</th>\n",
       "      <th>games_id</th>\n",
       "      <th>id_full</th>\n",
       "      <th>image_url</th>\n",
       "    </tr>\n",
       "  </thead>\n",
       "  <tbody>\n",
       "    <tr>\n",
       "      <th>0</th>\n",
       "      <td>12</td>\n",
       "      <td>3d-glasses</td>\n",
       "      <td>3D Glasses</td>\n",
       "      <td>Accessories</td>\n",
       "      <td>NaN</td>\n",
       "      <td>122.0</td>\n",
       "      <td>bells</td>\n",
       "      <td>490.0</td>\n",
       "      <td>bells</td>\n",
       "      <td>NaN</td>\n",
       "      <td>NaN</td>\n",
       "      <td>NaN</td>\n",
       "      <td>NaN</td>\n",
       "      <td>nh</td>\n",
       "      <td>item-3d-glasses</td>\n",
       "      <td>https://villagerdb.com/images/items/full/3d-gl...</td>\n",
       "    </tr>\n",
       "    <tr>\n",
       "      <th>1</th>\n",
       "      <td>14</td>\n",
       "      <td>a-tee</td>\n",
       "      <td>A Tee</td>\n",
       "      <td>Tops</td>\n",
       "      <td>NaN</td>\n",
       "      <td>140.0</td>\n",
       "      <td>bells</td>\n",
       "      <td>560.0</td>\n",
       "      <td>bells</td>\n",
       "      <td>NaN</td>\n",
       "      <td>NaN</td>\n",
       "      <td>NaN</td>\n",
       "      <td>NaN</td>\n",
       "      <td>nh</td>\n",
       "      <td>item-a-tee</td>\n",
       "      <td>https://villagerdb.com/images/items/full/a-tee...</td>\n",
       "    </tr>\n",
       "    <tr>\n",
       "      <th>2</th>\n",
       "      <td>17</td>\n",
       "      <td>abstract-wall</td>\n",
       "      <td>Abstract Wall</td>\n",
       "      <td>Wallpaper</td>\n",
       "      <td>True</td>\n",
       "      <td>390.0</td>\n",
       "      <td>bells</td>\n",
       "      <td>1560.0</td>\n",
       "      <td>bells</td>\n",
       "      <td>Nook's Cranny</td>\n",
       "      <td>NaN</td>\n",
       "      <td>NaN</td>\n",
       "      <td>NaN</td>\n",
       "      <td>nh</td>\n",
       "      <td>NaN</td>\n",
       "      <td>NaN</td>\n",
       "    </tr>\n",
       "    <tr>\n",
       "      <th>3</th>\n",
       "      <td>19</td>\n",
       "      <td>academy-uniform</td>\n",
       "      <td>Academy Uniform</td>\n",
       "      <td>Dresses</td>\n",
       "      <td>NaN</td>\n",
       "      <td>520.0</td>\n",
       "      <td>bells</td>\n",
       "      <td>2080.0</td>\n",
       "      <td>bells</td>\n",
       "      <td>NaN</td>\n",
       "      <td>NaN</td>\n",
       "      <td>NaN</td>\n",
       "      <td>NaN</td>\n",
       "      <td>nh</td>\n",
       "      <td>item-academy-uniform</td>\n",
       "      <td>https://villagerdb.com/images/items/full/acade...</td>\n",
       "    </tr>\n",
       "    <tr>\n",
       "      <th>4</th>\n",
       "      <td>20</td>\n",
       "      <td>acanthostega</td>\n",
       "      <td>Acanthostega</td>\n",
       "      <td>Fossils</td>\n",
       "      <td>False</td>\n",
       "      <td>2000.0</td>\n",
       "      <td>bells</td>\n",
       "      <td>NaN</td>\n",
       "      <td>NaN</td>\n",
       "      <td>Underground (dig spot)</td>\n",
       "      <td>NaN</td>\n",
       "      <td>NaN</td>\n",
       "      <td>NaN</td>\n",
       "      <td>nh</td>\n",
       "      <td>item-acanthostega</td>\n",
       "      <td>https://villagerdb.com/images/items/thumb/acan...</td>\n",
       "    </tr>\n",
       "  </tbody>\n",
       "</table>\n",
       "</div>"
      ],
      "text/plain": [
       "   num_id               id             name     category orderable  \\\n",
       "0      12       3d-glasses       3D Glasses  Accessories       NaN   \n",
       "1      14            a-tee            A Tee         Tops       NaN   \n",
       "2      17    abstract-wall    Abstract Wall    Wallpaper      True   \n",
       "3      19  academy-uniform  Academy Uniform      Dresses       NaN   \n",
       "4      20     acanthostega     Acanthostega      Fossils     False   \n",
       "\n",
       "   sell_value sell_currency  buy_value buy_currency                 sources  \\\n",
       "0       122.0         bells      490.0        bells                     NaN   \n",
       "1       140.0         bells      560.0        bells                     NaN   \n",
       "2       390.0         bells     1560.0        bells           Nook's Cranny   \n",
       "3       520.0         bells     2080.0        bells                     NaN   \n",
       "4      2000.0         bells        NaN          NaN  Underground (dig spot)   \n",
       "\n",
       "  customizable  recipe recipe_id games_id               id_full  \\\n",
       "0          NaN     NaN       NaN       nh       item-3d-glasses   \n",
       "1          NaN     NaN       NaN       nh            item-a-tee   \n",
       "2          NaN     NaN       NaN       nh                   NaN   \n",
       "3          NaN     NaN       NaN       nh  item-academy-uniform   \n",
       "4          NaN     NaN       NaN       nh     item-acanthostega   \n",
       "\n",
       "                                           image_url  \n",
       "0  https://villagerdb.com/images/items/full/3d-gl...  \n",
       "1  https://villagerdb.com/images/items/full/a-tee...  \n",
       "2                                                NaN  \n",
       "3  https://villagerdb.com/images/items/full/acade...  \n",
       "4  https://villagerdb.com/images/items/thumb/acan...  "
      ]
     },
     "execution_count": 13,
     "metadata": {},
     "output_type": "execute_result"
    }
   ],
   "source": [
    "# load the data\n",
    "item_data = 'https://raw.githubusercontent.com/rfordatascience/tidytuesday/master/data/2020/2020-05-05/items.csv'\n",
    "items = pd.read_csv(item_data)\n",
    "# look at the data\n",
    "items.head()"
   ]
  },
  {
   "cell_type": "code",
   "execution_count": 14,
   "metadata": {
    "colab": {
     "base_uri": "https://localhost:8080/",
     "height": 204
    },
    "id": "kVraX2BRrsLx",
    "outputId": "690adcb9-84bb-4bee-faa3-0d79cdc5ead3"
   },
   "outputs": [
    {
     "data": {
      "text/html": [
       "<div>\n",
       "<style scoped>\n",
       "    .dataframe tbody tr th:only-of-type {\n",
       "        vertical-align: middle;\n",
       "    }\n",
       "\n",
       "    .dataframe tbody tr th {\n",
       "        vertical-align: top;\n",
       "    }\n",
       "\n",
       "    .dataframe thead th {\n",
       "        text-align: right;\n",
       "    }\n",
       "</style>\n",
       "<table border=\"1\" class=\"dataframe\">\n",
       "  <thead>\n",
       "    <tr style=\"text-align: right;\">\n",
       "      <th></th>\n",
       "      <th>name</th>\n",
       "      <th>category</th>\n",
       "      <th>image_url</th>\n",
       "    </tr>\n",
       "  </thead>\n",
       "  <tbody>\n",
       "    <tr>\n",
       "      <th>0</th>\n",
       "      <td>3D Glasses</td>\n",
       "      <td>Accessories</td>\n",
       "      <td>https://villagerdb.com/images/items/full/3d-gl...</td>\n",
       "    </tr>\n",
       "    <tr>\n",
       "      <th>1</th>\n",
       "      <td>A Tee</td>\n",
       "      <td>Tops</td>\n",
       "      <td>https://villagerdb.com/images/items/full/a-tee...</td>\n",
       "    </tr>\n",
       "    <tr>\n",
       "      <th>2</th>\n",
       "      <td>Abstract Wall</td>\n",
       "      <td>Wallpaper</td>\n",
       "      <td>NaN</td>\n",
       "    </tr>\n",
       "    <tr>\n",
       "      <th>3</th>\n",
       "      <td>Academy Uniform</td>\n",
       "      <td>Dresses</td>\n",
       "      <td>https://villagerdb.com/images/items/full/acade...</td>\n",
       "    </tr>\n",
       "    <tr>\n",
       "      <th>4</th>\n",
       "      <td>Acanthostega</td>\n",
       "      <td>Fossils</td>\n",
       "      <td>https://villagerdb.com/images/items/thumb/acan...</td>\n",
       "    </tr>\n",
       "  </tbody>\n",
       "</table>\n",
       "</div>"
      ],
      "text/plain": [
       "              name     category  \\\n",
       "0       3D Glasses  Accessories   \n",
       "1            A Tee         Tops   \n",
       "2    Abstract Wall    Wallpaper   \n",
       "3  Academy Uniform      Dresses   \n",
       "4     Acanthostega      Fossils   \n",
       "\n",
       "                                           image_url  \n",
       "0  https://villagerdb.com/images/items/full/3d-gl...  \n",
       "1  https://villagerdb.com/images/items/full/a-tee...  \n",
       "2                                                NaN  \n",
       "3  https://villagerdb.com/images/items/full/acade...  \n",
       "4  https://villagerdb.com/images/items/thumb/acan...  "
      ]
     },
     "execution_count": 14,
     "metadata": {},
     "output_type": "execute_result"
    }
   ],
   "source": [
    "# look at a subset of the columns\n",
    "items_colsubset = items[['name', 'category', 'image_url']]\n",
    "items_colsubset.head()"
   ]
  },
  {
   "cell_type": "code",
   "execution_count": 15,
   "metadata": {
    "colab": {
     "base_uri": "https://localhost:8080/",
     "height": 273
    },
    "id": "v5BlvmnEiF0M",
    "outputId": "6d9cbd91-d01d-418a-a184-8727ada1debb"
   },
   "outputs": [
    {
     "data": {
      "image/png": "[encoded data removed]",
      "text/plain": [
       "<IPython.core.display.Image object>"
      ]
     },
     "execution_count": 15,
     "metadata": {},
     "output_type": "execute_result"
    }
   ],
   "source": [
    "# look at a subset of rows and display an image\n",
    "item_number = 0\n",
    "item_image_url = items_colsubset.iloc[item_number]['image_url']\n",
    "Disp.Image(requests.get(item_image_url).content)"
   ]
  },
  {
   "cell_type": "markdown",
   "metadata": {
    "id": "INWJW6XPAu8p"
   },
   "source": [
    "## A closer look at the data (or, data cleaning and manipulation with Pandas)"
   ]
  },
  {
   "cell_type": "markdown",
   "metadata": {
    "id": "ac30JQIQu8TH"
   },
   "source": [
    "First, let's print a quick summary of all the numerical data."
   ]
  },
  {
   "cell_type": "code",
   "execution_count": 16,
   "metadata": {
    "colab": {
     "base_uri": "https://localhost:8080/",
     "height": 309
    },
    "id": "a0vH_22uKzkl",
    "outputId": "a8fe5165-c3a6-4367-8443-809536d05757"
   },
   "outputs": [
    {
     "data": {
      "text/html": [
       "<div>\n",
       "<style scoped>\n",
       "    .dataframe tbody tr th:only-of-type {\n",
       "        vertical-align: middle;\n",
       "    }\n",
       "\n",
       "    .dataframe tbody tr th {\n",
       "        vertical-align: top;\n",
       "    }\n",
       "\n",
       "    .dataframe thead th {\n",
       "        text-align: right;\n",
       "    }\n",
       "</style>\n",
       "<table border=\"1\" class=\"dataframe\">\n",
       "  <thead>\n",
       "    <tr style=\"text-align: right;\">\n",
       "      <th></th>\n",
       "      <th>num_id</th>\n",
       "      <th>id</th>\n",
       "      <th>name</th>\n",
       "      <th>category</th>\n",
       "      <th>orderable</th>\n",
       "      <th>sell_value</th>\n",
       "      <th>sell_currency</th>\n",
       "      <th>buy_value</th>\n",
       "      <th>buy_currency</th>\n",
       "      <th>sources</th>\n",
       "      <th>customizable</th>\n",
       "      <th>recipe</th>\n",
       "      <th>recipe_id</th>\n",
       "      <th>games_id</th>\n",
       "      <th>id_full</th>\n",
       "      <th>image_url</th>\n",
       "    </tr>\n",
       "  </thead>\n",
       "  <tbody>\n",
       "    <tr>\n",
       "      <th>0</th>\n",
       "      <td>12</td>\n",
       "      <td>3d-glasses</td>\n",
       "      <td>3D Glasses</td>\n",
       "      <td>Accessories</td>\n",
       "      <td>NaN</td>\n",
       "      <td>122.0</td>\n",
       "      <td>bells</td>\n",
       "      <td>490.0</td>\n",
       "      <td>bells</td>\n",
       "      <td>NaN</td>\n",
       "      <td>NaN</td>\n",
       "      <td>NaN</td>\n",
       "      <td>NaN</td>\n",
       "      <td>nh</td>\n",
       "      <td>item-3d-glasses</td>\n",
       "      <td>https://villagerdb.com/images/items/full/3d-gl...</td>\n",
       "    </tr>\n",
       "    <tr>\n",
       "      <th>1</th>\n",
       "      <td>14</td>\n",
       "      <td>a-tee</td>\n",
       "      <td>A Tee</td>\n",
       "      <td>Tops</td>\n",
       "      <td>NaN</td>\n",
       "      <td>140.0</td>\n",
       "      <td>bells</td>\n",
       "      <td>560.0</td>\n",
       "      <td>bells</td>\n",
       "      <td>NaN</td>\n",
       "      <td>NaN</td>\n",
       "      <td>NaN</td>\n",
       "      <td>NaN</td>\n",
       "      <td>nh</td>\n",
       "      <td>item-a-tee</td>\n",
       "      <td>https://villagerdb.com/images/items/full/a-tee...</td>\n",
       "    </tr>\n",
       "    <tr>\n",
       "      <th>2</th>\n",
       "      <td>17</td>\n",
       "      <td>abstract-wall</td>\n",
       "      <td>Abstract Wall</td>\n",
       "      <td>Wallpaper</td>\n",
       "      <td>True</td>\n",
       "      <td>390.0</td>\n",
       "      <td>bells</td>\n",
       "      <td>1560.0</td>\n",
       "      <td>bells</td>\n",
       "      <td>Nook's Cranny</td>\n",
       "      <td>NaN</td>\n",
       "      <td>NaN</td>\n",
       "      <td>NaN</td>\n",
       "      <td>nh</td>\n",
       "      <td>NaN</td>\n",
       "      <td>NaN</td>\n",
       "    </tr>\n",
       "    <tr>\n",
       "      <th>3</th>\n",
       "      <td>19</td>\n",
       "      <td>academy-uniform</td>\n",
       "      <td>Academy Uniform</td>\n",
       "      <td>Dresses</td>\n",
       "      <td>NaN</td>\n",
       "      <td>520.0</td>\n",
       "      <td>bells</td>\n",
       "      <td>2080.0</td>\n",
       "      <td>bells</td>\n",
       "      <td>NaN</td>\n",
       "      <td>NaN</td>\n",
       "      <td>NaN</td>\n",
       "      <td>NaN</td>\n",
       "      <td>nh</td>\n",
       "      <td>item-academy-uniform</td>\n",
       "      <td>https://villagerdb.com/images/items/full/acade...</td>\n",
       "    </tr>\n",
       "    <tr>\n",
       "      <th>4</th>\n",
       "      <td>20</td>\n",
       "      <td>acanthostega</td>\n",
       "      <td>Acanthostega</td>\n",
       "      <td>Fossils</td>\n",
       "      <td>False</td>\n",
       "      <td>2000.0</td>\n",
       "      <td>bells</td>\n",
       "      <td>NaN</td>\n",
       "      <td>NaN</td>\n",
       "      <td>Underground (dig spot)</td>\n",
       "      <td>NaN</td>\n",
       "      <td>NaN</td>\n",
       "      <td>NaN</td>\n",
       "      <td>nh</td>\n",
       "      <td>item-acanthostega</td>\n",
       "      <td>https://villagerdb.com/images/items/thumb/acan...</td>\n",
       "    </tr>\n",
       "  </tbody>\n",
       "</table>\n",
       "</div>"
      ],
      "text/plain": [
       "   num_id               id             name     category orderable  \\\n",
       "0      12       3d-glasses       3D Glasses  Accessories       NaN   \n",
       "1      14            a-tee            A Tee         Tops       NaN   \n",
       "2      17    abstract-wall    Abstract Wall    Wallpaper      True   \n",
       "3      19  academy-uniform  Academy Uniform      Dresses       NaN   \n",
       "4      20     acanthostega     Acanthostega      Fossils     False   \n",
       "\n",
       "   sell_value sell_currency  buy_value buy_currency                 sources  \\\n",
       "0       122.0         bells      490.0        bells                     NaN   \n",
       "1       140.0         bells      560.0        bells                     NaN   \n",
       "2       390.0         bells     1560.0        bells           Nook's Cranny   \n",
       "3       520.0         bells     2080.0        bells                     NaN   \n",
       "4      2000.0         bells        NaN          NaN  Underground (dig spot)   \n",
       "\n",
       "  customizable  recipe recipe_id games_id               id_full  \\\n",
       "0          NaN     NaN       NaN       nh       item-3d-glasses   \n",
       "1          NaN     NaN       NaN       nh            item-a-tee   \n",
       "2          NaN     NaN       NaN       nh                   NaN   \n",
       "3          NaN     NaN       NaN       nh  item-academy-uniform   \n",
       "4          NaN     NaN       NaN       nh     item-acanthostega   \n",
       "\n",
       "                                           image_url  \n",
       "0  https://villagerdb.com/images/items/full/3d-gl...  \n",
       "1  https://villagerdb.com/images/items/full/a-tee...  \n",
       "2                                                NaN  \n",
       "3  https://villagerdb.com/images/items/full/acade...  \n",
       "4  https://villagerdb.com/images/items/thumb/acan...  "
      ]
     },
     "execution_count": 16,
     "metadata": {},
     "output_type": "execute_result"
    }
   ],
   "source": [
    "items.head()"
   ]
  },
  {
   "cell_type": "code",
   "execution_count": 17,
   "metadata": {
    "colab": {
     "base_uri": "https://localhost:8080/",
     "height": 297
    },
    "id": "0SicSUy6uqEF",
    "outputId": "f549b5a7-d3f4-4ba6-cea1-486703f95fd9"
   },
   "outputs": [
    {
     "data": {
      "text/html": [
       "<div>\n",
       "<style scoped>\n",
       "    .dataframe tbody tr th:only-of-type {\n",
       "        vertical-align: middle;\n",
       "    }\n",
       "\n",
       "    .dataframe tbody tr th {\n",
       "        vertical-align: top;\n",
       "    }\n",
       "\n",
       "    .dataframe thead th {\n",
       "        text-align: right;\n",
       "    }\n",
       "</style>\n",
       "<table border=\"1\" class=\"dataframe\">\n",
       "  <thead>\n",
       "    <tr style=\"text-align: right;\">\n",
       "      <th></th>\n",
       "      <th>num_id</th>\n",
       "      <th>sell_value</th>\n",
       "      <th>buy_value</th>\n",
       "      <th>recipe</th>\n",
       "    </tr>\n",
       "  </thead>\n",
       "  <tbody>\n",
       "    <tr>\n",
       "      <th>count</th>\n",
       "      <td>4565.000000</td>\n",
       "      <td>4529.000000</td>\n",
       "      <td>3.551000e+03</td>\n",
       "      <td>588.000000</td>\n",
       "    </tr>\n",
       "    <tr>\n",
       "      <th>mean</th>\n",
       "      <td>3661.618839</td>\n",
       "      <td>2261.378229</td>\n",
       "      <td>6.959650e+03</td>\n",
       "      <td>4.710884</td>\n",
       "    </tr>\n",
       "    <tr>\n",
       "      <th>std</th>\n",
       "      <td>2187.950090</td>\n",
       "      <td>11313.225932</td>\n",
       "      <td>3.432609e+04</td>\n",
       "      <td>6.494507</td>\n",
       "    </tr>\n",
       "    <tr>\n",
       "      <th>min</th>\n",
       "      <td>12.000000</td>\n",
       "      <td>5.000000</td>\n",
       "      <td>4.000000e+01</td>\n",
       "      <td>1.000000</td>\n",
       "    </tr>\n",
       "    <tr>\n",
       "      <th>25%</th>\n",
       "      <td>1722.000000</td>\n",
       "      <td>240.000000</td>\n",
       "      <td>8.700000e+02</td>\n",
       "      <td>2.000000</td>\n",
       "    </tr>\n",
       "    <tr>\n",
       "      <th>50%</th>\n",
       "      <td>3569.000000</td>\n",
       "      <td>390.000000</td>\n",
       "      <td>1.300000e+03</td>\n",
       "      <td>3.000000</td>\n",
       "    </tr>\n",
       "    <tr>\n",
       "      <th>75%</th>\n",
       "      <td>5607.000000</td>\n",
       "      <td>1000.000000</td>\n",
       "      <td>2.700000e+03</td>\n",
       "      <td>6.000000</td>\n",
       "    </tr>\n",
       "    <tr>\n",
       "      <th>max</th>\n",
       "      <td>7443.000000</td>\n",
       "      <td>300000.000000</td>\n",
       "      <td>1.200000e+06</td>\n",
       "      <td>90.000000</td>\n",
       "    </tr>\n",
       "  </tbody>\n",
       "</table>\n",
       "</div>"
      ],
      "text/plain": [
       "            num_id     sell_value     buy_value      recipe\n",
       "count  4565.000000    4529.000000  3.551000e+03  588.000000\n",
       "mean   3661.618839    2261.378229  6.959650e+03    4.710884\n",
       "std    2187.950090   11313.225932  3.432609e+04    6.494507\n",
       "min      12.000000       5.000000  4.000000e+01    1.000000\n",
       "25%    1722.000000     240.000000  8.700000e+02    2.000000\n",
       "50%    3569.000000     390.000000  1.300000e+03    3.000000\n",
       "75%    5607.000000    1000.000000  2.700000e+03    6.000000\n",
       "max    7443.000000  300000.000000  1.200000e+06   90.000000"
      ]
     },
     "execution_count": 17,
     "metadata": {},
     "output_type": "execute_result"
    }
   ],
   "source": [
    "items.describe()"
   ]
  },
  {
   "cell_type": "markdown",
   "metadata": {
    "id": "HtJNJ1cww4bX"
   },
   "source": [
    "Let's investigate a column with strings, such as the category column. We can start by finding all the unique values in the column."
   ]
  },
  {
   "cell_type": "code",
   "execution_count": 18,
   "metadata": {
    "colab": {
     "base_uri": "https://localhost:8080/",
     "height": 85
    },
    "id": "_izmQVozxHtQ",
    "outputId": "f33b88cc-8da4-4984-d404-305b58ffcc8c"
   },
   "outputs": [
    {
     "data": {
      "text/plain": [
       "array(['Accessories', 'Tops', 'Wallpaper', 'Dresses', 'Fossils',\n",
       "       'Furniture', 'Bottoms', 'Hats', 'Usables', 'Photos', 'Socks',\n",
       "       'Music', 'Bugs', 'Flooring', 'Fish', 'Shoes', 'Umbrellas', 'Fruit',\n",
       "       'Tools', 'Flowers', 'Seashells'], dtype=object)"
      ]
     },
     "execution_count": 18,
     "metadata": {},
     "output_type": "execute_result"
    }
   ],
   "source": [
    "items['category'].unique()"
   ]
  },
  {
   "cell_type": "markdown",
   "metadata": {
    "id": "3J-PqczavX4G"
   },
   "source": [
    "It's also useful to be able to get statistics on the frequency of values for any column."
   ]
  },
  {
   "cell_type": "code",
   "execution_count": 19,
   "metadata": {
    "colab": {
     "base_uri": "https://localhost:8080/",
     "height": 204
    },
    "id": "JciUPLYkvXSl",
    "outputId": "29fa462f-fe32-4503-9fb3-6ddc5921b8ad"
   },
   "outputs": [
    {
     "data": {
      "text/plain": [
       "cat         23\n",
       "rabbit      20\n",
       "squirrel    18\n",
       "frog        18\n",
       "duck        17\n",
       "dog         16\n",
       "cub         16\n",
       "pig         15\n",
       "mouse       15\n",
       "horse       15\n",
       "Name: species, dtype: int64"
      ]
     },
     "execution_count": 19,
     "metadata": {},
     "output_type": "execute_result"
    }
   ],
   "source": [
    "species_frequencies = villagers['species'].value_counts() # returns series with index as the species\n",
    "species_frequencies.head(n=10)"
   ]
  },
  {
   "cell_type": "code",
   "execution_count": 20,
   "metadata": {
    "colab": {
     "base_uri": "https://localhost:8080/",
     "height": 204
    },
    "id": "cGZXOhq1-_tz",
    "outputId": "87f3cd69-f98a-47b5-bf43-1dafdde66328"
   },
   "outputs": [
    {
     "data": {
      "text/plain": [
       "Furniture      1264\n",
       "Photos          840\n",
       "Flooring        324\n",
       "Tops            289\n",
       "Wallpaper       255\n",
       "Dresses         239\n",
       "Hats            230\n",
       "Bottoms         142\n",
       "Accessories     123\n",
       "Flowers         109\n",
       "Name: category, dtype: int64"
      ]
     },
     "execution_count": 20,
     "metadata": {},
     "output_type": "execute_result"
    }
   ],
   "source": [
    "category_frequencies = items['category'].value_counts()\n",
    "category_frequencies.head(n=10)"
   ]
  },
  {
   "cell_type": "markdown",
   "metadata": {
    "id": "-F2eNpTfyyUx"
   },
   "source": [
    "If you want to replace values in the dataset, that's also pretty straightforward. You can use the selector and assign to it like a variable."
   ]
  },
  {
   "cell_type": "code",
   "execution_count": 21,
   "metadata": {
    "colab": {
     "base_uri": "https://localhost:8080/",
     "height": 306
    },
    "id": "o4YAEq8gzTIb",
    "outputId": "5a0f0544-57ed-4bae-aeb4-e478771f52f5"
   },
   "outputs": [
    {
     "data": {
      "text/plain": [
       "num_id                                                          12\n",
       "id                                                      3d-glasses\n",
       "name                                                    3D Glasses\n",
       "category                                               Accessories\n",
       "orderable                                                      NaN\n",
       "sell_value                                                     122\n",
       "sell_currency                                                bells\n",
       "buy_value                                                      490\n",
       "buy_currency                                                 bells\n",
       "sources                                                        NaN\n",
       "customizable                                                   NaN\n",
       "recipe                                                         NaN\n",
       "recipe_id                                                      NaN\n",
       "games_id                                                        nh\n",
       "id_full                                            item-3d-glasses\n",
       "image_url        https://villagerdb.com/images/items/full/3d-gl...\n",
       "Name: 0, dtype: object"
      ]
     },
     "execution_count": 21,
     "metadata": {},
     "output_type": "execute_result"
    }
   ],
   "source": [
    "items.iloc[0]"
   ]
  },
  {
   "cell_type": "code",
   "execution_count": 22,
   "metadata": {
    "colab": {
     "base_uri": "https://localhost:8080/",
     "height": 117
    },
    "id": "bWZWgZ_p0aYe",
    "outputId": "7950cf72-ebc5-4b84-93df-b787d6515e52"
   },
   "outputs": [
    {
     "data": {
      "text/html": [
       "<div>\n",
       "<style scoped>\n",
       "    .dataframe tbody tr th:only-of-type {\n",
       "        vertical-align: middle;\n",
       "    }\n",
       "\n",
       "    .dataframe tbody tr th {\n",
       "        vertical-align: top;\n",
       "    }\n",
       "\n",
       "    .dataframe thead th {\n",
       "        text-align: right;\n",
       "    }\n",
       "</style>\n",
       "<table border=\"1\" class=\"dataframe\">\n",
       "  <thead>\n",
       "    <tr style=\"text-align: right;\">\n",
       "      <th></th>\n",
       "      <th>num_id</th>\n",
       "      <th>id</th>\n",
       "      <th>name</th>\n",
       "      <th>category</th>\n",
       "      <th>orderable</th>\n",
       "      <th>sell_value</th>\n",
       "      <th>sell_currency</th>\n",
       "      <th>buy_value</th>\n",
       "      <th>buy_currency</th>\n",
       "      <th>sources</th>\n",
       "      <th>customizable</th>\n",
       "      <th>recipe</th>\n",
       "      <th>recipe_id</th>\n",
       "      <th>games_id</th>\n",
       "      <th>id_full</th>\n",
       "      <th>image_url</th>\n",
       "    </tr>\n",
       "  </thead>\n",
       "  <tbody>\n",
       "    <tr>\n",
       "      <th>0</th>\n",
       "      <td>12</td>\n",
       "      <td>5d-glasses</td>\n",
       "      <td>5D Glasses</td>\n",
       "      <td>Accessories</td>\n",
       "      <td>NaN</td>\n",
       "      <td>122.0</td>\n",
       "      <td>bells</td>\n",
       "      <td>490.0</td>\n",
       "      <td>bells</td>\n",
       "      <td>NaN</td>\n",
       "      <td>NaN</td>\n",
       "      <td>NaN</td>\n",
       "      <td>NaN</td>\n",
       "      <td>nh</td>\n",
       "      <td>item-3d-glasses</td>\n",
       "      <td>https://villagerdb.com/images/items/full/3d-gl...</td>\n",
       "    </tr>\n",
       "  </tbody>\n",
       "</table>\n",
       "</div>"
      ],
      "text/plain": [
       "   num_id          id        name     category orderable  sell_value  \\\n",
       "0      12  5d-glasses  5D Glasses  Accessories       NaN       122.0   \n",
       "\n",
       "  sell_currency  buy_value buy_currency sources customizable  recipe  \\\n",
       "0         bells      490.0        bells     NaN          NaN     NaN   \n",
       "\n",
       "  recipe_id games_id          id_full  \\\n",
       "0       NaN       nh  item-3d-glasses   \n",
       "\n",
       "                                           image_url  \n",
       "0  https://villagerdb.com/images/items/full/3d-gl...  "
      ]
     },
     "execution_count": 22,
     "metadata": {},
     "output_type": "execute_result"
    }
   ],
   "source": [
    "items.loc[0, 'name'] = '5D Glasses'\n",
    "items.loc[0, 'id'] = '5d-glasses'\n",
    "items.head(n=1)"
   ]
  },
  {
   "cell_type": "markdown",
   "metadata": {
    "id": "Q_7noeks3zaA"
   },
   "source": [
    "The `replace` method is also handy if you're trying to change multiple values."
   ]
  },
  {
   "cell_type": "code",
   "execution_count": 23,
   "metadata": {
    "colab": {
     "base_uri": "https://localhost:8080/",
     "height": 241
    },
    "id": "1NnCNeVY37zi",
    "outputId": "881c024e-c92b-438a-8b09-37e6bd77635a"
   },
   "outputs": [
    {
     "data": {
      "text/html": [
       "<div>\n",
       "<style scoped>\n",
       "    .dataframe tbody tr th:only-of-type {\n",
       "        vertical-align: middle;\n",
       "    }\n",
       "\n",
       "    .dataframe tbody tr th {\n",
       "        vertical-align: top;\n",
       "    }\n",
       "\n",
       "    .dataframe thead th {\n",
       "        text-align: right;\n",
       "    }\n",
       "</style>\n",
       "<table border=\"1\" class=\"dataframe\">\n",
       "  <thead>\n",
       "    <tr style=\"text-align: right;\">\n",
       "      <th></th>\n",
       "      <th>num_id</th>\n",
       "      <th>id</th>\n",
       "      <th>name</th>\n",
       "      <th>category</th>\n",
       "      <th>orderable</th>\n",
       "      <th>sell_value</th>\n",
       "      <th>sell_currency</th>\n",
       "      <th>buy_value</th>\n",
       "      <th>buy_currency</th>\n",
       "      <th>sources</th>\n",
       "      <th>customizable</th>\n",
       "      <th>recipe</th>\n",
       "      <th>recipe_id</th>\n",
       "      <th>games_id</th>\n",
       "      <th>id_full</th>\n",
       "      <th>image_url</th>\n",
       "    </tr>\n",
       "  </thead>\n",
       "  <tbody>\n",
       "    <tr>\n",
       "      <th>20</th>\n",
       "      <td>40</td>\n",
       "      <td>agent-kk</td>\n",
       "      <td>Agent K.K.</td>\n",
       "      <td>Musique</td>\n",
       "      <td>True</td>\n",
       "      <td>800.0</td>\n",
       "      <td>bells</td>\n",
       "      <td>3200.0</td>\n",
       "      <td>bells</td>\n",
       "      <td>NaN</td>\n",
       "      <td>NaN</td>\n",
       "      <td>NaN</td>\n",
       "      <td>NaN</td>\n",
       "      <td>nh</td>\n",
       "      <td>NaN</td>\n",
       "      <td>NaN</td>\n",
       "    </tr>\n",
       "    <tr>\n",
       "      <th>35</th>\n",
       "      <td>62</td>\n",
       "      <td>aloha-kk</td>\n",
       "      <td>Aloha K.K.</td>\n",
       "      <td>Musique</td>\n",
       "      <td>True</td>\n",
       "      <td>800.0</td>\n",
       "      <td>bells</td>\n",
       "      <td>3200.0</td>\n",
       "      <td>bells</td>\n",
       "      <td>NaN</td>\n",
       "      <td>NaN</td>\n",
       "      <td>NaN</td>\n",
       "      <td>NaN</td>\n",
       "      <td>nh</td>\n",
       "      <td>NaN</td>\n",
       "      <td>NaN</td>\n",
       "    </tr>\n",
       "    <tr>\n",
       "      <th>72</th>\n",
       "      <td>119</td>\n",
       "      <td>animal-city</td>\n",
       "      <td>Animal City</td>\n",
       "      <td>Musique</td>\n",
       "      <td>NaN</td>\n",
       "      <td>800.0</td>\n",
       "      <td>bells</td>\n",
       "      <td>3200.0</td>\n",
       "      <td>bells</td>\n",
       "      <td>NaN</td>\n",
       "      <td>NaN</td>\n",
       "      <td>NaN</td>\n",
       "      <td>NaN</td>\n",
       "      <td>nh</td>\n",
       "      <td>NaN</td>\n",
       "      <td>NaN</td>\n",
       "    </tr>\n",
       "    <tr>\n",
       "      <th>577</th>\n",
       "      <td>907</td>\n",
       "      <td>bubblegum-kk</td>\n",
       "      <td>Bubblegum K.K.</td>\n",
       "      <td>Musique</td>\n",
       "      <td>True</td>\n",
       "      <td>800.0</td>\n",
       "      <td>bells</td>\n",
       "      <td>3200.0</td>\n",
       "      <td>bells</td>\n",
       "      <td>NaN</td>\n",
       "      <td>NaN</td>\n",
       "      <td>NaN</td>\n",
       "      <td>NaN</td>\n",
       "      <td>nh</td>\n",
       "      <td>NaN</td>\n",
       "      <td>NaN</td>\n",
       "    </tr>\n",
       "    <tr>\n",
       "      <th>687</th>\n",
       "      <td>1021</td>\n",
       "      <td>cafe-kk</td>\n",
       "      <td>Café K.K.</td>\n",
       "      <td>Musique</td>\n",
       "      <td>True</td>\n",
       "      <td>800.0</td>\n",
       "      <td>bells</td>\n",
       "      <td>3200.0</td>\n",
       "      <td>bells</td>\n",
       "      <td>NaN</td>\n",
       "      <td>NaN</td>\n",
       "      <td>NaN</td>\n",
       "      <td>NaN</td>\n",
       "      <td>nh</td>\n",
       "      <td>NaN</td>\n",
       "      <td>NaN</td>\n",
       "    </tr>\n",
       "  </tbody>\n",
       "</table>\n",
       "</div>"
      ],
      "text/plain": [
       "     num_id            id            name category orderable  sell_value  \\\n",
       "20       40      agent-kk      Agent K.K.  Musique      True       800.0   \n",
       "35       62      aloha-kk      Aloha K.K.  Musique      True       800.0   \n",
       "72      119   animal-city     Animal City  Musique       NaN       800.0   \n",
       "577     907  bubblegum-kk  Bubblegum K.K.  Musique      True       800.0   \n",
       "687    1021       cafe-kk       Café K.K.  Musique      True       800.0   \n",
       "\n",
       "    sell_currency  buy_value buy_currency sources customizable  recipe  \\\n",
       "20          bells     3200.0        bells     NaN          NaN     NaN   \n",
       "35          bells     3200.0        bells     NaN          NaN     NaN   \n",
       "72          bells     3200.0        bells     NaN          NaN     NaN   \n",
       "577         bells     3200.0        bells     NaN          NaN     NaN   \n",
       "687         bells     3200.0        bells     NaN          NaN     NaN   \n",
       "\n",
       "    recipe_id games_id id_full image_url  \n",
       "20        NaN       nh     NaN       NaN  \n",
       "35        NaN       nh     NaN       NaN  \n",
       "72        NaN       nh     NaN       NaN  \n",
       "577       NaN       nh     NaN       NaN  \n",
       "687       NaN       nh     NaN       NaN  "
      ]
     },
     "execution_count": 23,
     "metadata": {},
     "output_type": "execute_result"
    }
   ],
   "source": [
    "items['category'] = items['category'].replace('Music', 'Musique')\n",
    "items[items['category'] == 'Musique'].head()"
   ]
  },
  {
   "cell_type": "markdown",
   "metadata": {
    "id": "ld5kMFUvjSEJ"
   },
   "source": [
    "An NaN, or \"Not a Number,\" appears in the dataframe when a value does not exist. The simplest way to deal with this might be to ignore the rows with columns for which an NaN is unacceptable."
   ]
  },
  {
   "cell_type": "code",
   "execution_count": 24,
   "metadata": {
    "colab": {
     "base_uri": "https://localhost:8080/",
     "height": 51
    },
    "id": "1iqenz-oqUrj",
    "outputId": "a11a2ed2-1796-4344-f6bc-679ac33f31fb"
   },
   "outputs": [
    {
     "name": "stdout",
     "output_type": "stream",
     "text": [
      "items # rows: 4565\n",
      "items filtered # rows: 588\n"
     ]
    }
   ],
   "source": [
    "null_rows = items['recipe'].isnull() | items['recipe_id'].isnull() # returns Series of bool\n",
    "items_with_recipe = items[~null_rows]\n",
    "\n",
    "# compare number of rows after filtering\n",
    "print('items # rows: ' + str(len(items.index)))\n",
    "print('items filtered # rows: ' + str(len(items_with_recipe.index)))"
   ]
  },
  {
   "cell_type": "code",
   "execution_count": 25,
   "metadata": {
    "colab": {
     "base_uri": "https://localhost:8080/",
     "height": 264
    },
    "id": "9VBSwdbfqdhQ",
    "outputId": "d9b572b3-7198-415d-fe66-90b4deeccaf2"
   },
   "outputs": [
    {
     "data": {
      "text/html": [
       "<div>\n",
       "<style scoped>\n",
       "    .dataframe tbody tr th:only-of-type {\n",
       "        vertical-align: middle;\n",
       "    }\n",
       "\n",
       "    .dataframe tbody tr th {\n",
       "        vertical-align: top;\n",
       "    }\n",
       "\n",
       "    .dataframe thead th {\n",
       "        text-align: right;\n",
       "    }\n",
       "</style>\n",
       "<table border=\"1\" class=\"dataframe\">\n",
       "  <thead>\n",
       "    <tr style=\"text-align: right;\">\n",
       "      <th></th>\n",
       "      <th>num_id</th>\n",
       "      <th>id</th>\n",
       "      <th>name</th>\n",
       "      <th>category</th>\n",
       "      <th>orderable</th>\n",
       "      <th>sell_value</th>\n",
       "      <th>sell_currency</th>\n",
       "      <th>buy_value</th>\n",
       "      <th>buy_currency</th>\n",
       "      <th>sources</th>\n",
       "      <th>customizable</th>\n",
       "      <th>recipe</th>\n",
       "      <th>recipe_id</th>\n",
       "      <th>games_id</th>\n",
       "      <th>id_full</th>\n",
       "      <th>image_url</th>\n",
       "    </tr>\n",
       "  </thead>\n",
       "  <tbody>\n",
       "    <tr>\n",
       "      <th>13</th>\n",
       "      <td>31</td>\n",
       "      <td>acoustic-guitar</td>\n",
       "      <td>Acoustic Guitar</td>\n",
       "      <td>Furniture</td>\n",
       "      <td>NaN</td>\n",
       "      <td>3210.0</td>\n",
       "      <td>bells</td>\n",
       "      <td>12840.0</td>\n",
       "      <td>bells</td>\n",
       "      <td>NaN</td>\n",
       "      <td>TRUE</td>\n",
       "      <td>8.0</td>\n",
       "      <td>softwood</td>\n",
       "      <td>nh</td>\n",
       "      <td>item-acoustic-guitar</td>\n",
       "      <td>https://villagerdb.com/images/items/thumb/acou...</td>\n",
       "    </tr>\n",
       "    <tr>\n",
       "      <th>14</th>\n",
       "      <td>31</td>\n",
       "      <td>acoustic-guitar</td>\n",
       "      <td>Acoustic Guitar</td>\n",
       "      <td>Furniture</td>\n",
       "      <td>NaN</td>\n",
       "      <td>3210.0</td>\n",
       "      <td>bells</td>\n",
       "      <td>12840.0</td>\n",
       "      <td>bells</td>\n",
       "      <td>NaN</td>\n",
       "      <td>TRUE</td>\n",
       "      <td>3.0</td>\n",
       "      <td>iron-nugget</td>\n",
       "      <td>nh</td>\n",
       "      <td>item-acoustic-guitar</td>\n",
       "      <td>https://villagerdb.com/images/items/thumb/acou...</td>\n",
       "    </tr>\n",
       "    <tr>\n",
       "      <th>66</th>\n",
       "      <td>114</td>\n",
       "      <td>angled-signpost</td>\n",
       "      <td>Angled Signpost</td>\n",
       "      <td>Furniture</td>\n",
       "      <td>NaN</td>\n",
       "      <td>600.0</td>\n",
       "      <td>bells</td>\n",
       "      <td>2400.0</td>\n",
       "      <td>bells</td>\n",
       "      <td>NaN</td>\n",
       "      <td>TRUE</td>\n",
       "      <td>2.0</td>\n",
       "      <td>hardwood</td>\n",
       "      <td>nh</td>\n",
       "      <td>item-angled-signpost</td>\n",
       "      <td>https://villagerdb.com/images/items/thumb/angl...</td>\n",
       "    </tr>\n",
       "  </tbody>\n",
       "</table>\n",
       "</div>"
      ],
      "text/plain": [
       "    num_id               id             name   category orderable  sell_value  \\\n",
       "13      31  acoustic-guitar  Acoustic Guitar  Furniture       NaN      3210.0   \n",
       "14      31  acoustic-guitar  Acoustic Guitar  Furniture       NaN      3210.0   \n",
       "66     114  angled-signpost  Angled Signpost  Furniture       NaN       600.0   \n",
       "\n",
       "   sell_currency  buy_value buy_currency sources customizable  recipe  \\\n",
       "13         bells    12840.0        bells     NaN         TRUE     8.0   \n",
       "14         bells    12840.0        bells     NaN         TRUE     3.0   \n",
       "66         bells     2400.0        bells     NaN         TRUE     2.0   \n",
       "\n",
       "      recipe_id games_id               id_full  \\\n",
       "13     softwood       nh  item-acoustic-guitar   \n",
       "14  iron-nugget       nh  item-acoustic-guitar   \n",
       "66     hardwood       nh  item-angled-signpost   \n",
       "\n",
       "                                            image_url  \n",
       "13  https://villagerdb.com/images/items/thumb/acou...  \n",
       "14  https://villagerdb.com/images/items/thumb/acou...  \n",
       "66  https://villagerdb.com/images/items/thumb/angl...  "
      ]
     },
     "execution_count": 25,
     "metadata": {},
     "output_type": "execute_result"
    }
   ],
   "source": [
    "items_with_recipe.head(n=3)"
   ]
  },
  {
   "cell_type": "markdown",
   "metadata": {
    "id": "MTOClpnLrlME"
   },
   "source": [
    "Another way to deal with NaNs is to fill in certain values. You could fill in NaN urls with a blank url, for example. You could also imagine filling a column of numeric values with the mean of that column, as calculated by the `DataFrame.mean` method."
   ]
  },
  {
   "cell_type": "code",
   "execution_count": 26,
   "metadata": {
    "colab": {
     "base_uri": "https://localhost:8080/",
     "height": 85
    },
    "id": "lUQnDQJCqkuP",
    "outputId": "188b289f-6e85-42c4-b444-4971d5d6c209"
   },
   "outputs": [
    {
     "data": {
      "text/plain": [
       "0    https://villagerdb.com/images/items/full/3d-gl...\n",
       "1    https://villagerdb.com/images/items/full/a-tee...\n",
       "2                                                     \n",
       "Name: image_url, dtype: object"
      ]
     },
     "execution_count": 26,
     "metadata": {},
     "output_type": "execute_result"
    }
   ],
   "source": [
    "items_filled = items['image_url'].fillna(\"\")\n",
    "items_filled.head(n=3)"
   ]
  },
  {
   "cell_type": "markdown",
   "metadata": {
    "id": "R6pv-yHm8pMg"
   },
   "source": [
    "## Visualizing the data"
   ]
  },
  {
   "cell_type": "markdown",
   "metadata": {
    "id": "Z9-sZsM1bYTr"
   },
   "source": [
    "\n",
    "matplotlib is a library that allows us to create strong visualizations in Python. There are so many options, from interactive to animated and beyond, but today let's keep it simple: we can start with a histogram for villager personality."
   ]
  },
  {
   "cell_type": "code",
   "execution_count": 27,
   "metadata": {
    "id": "V_W12j0obXTI"
   },
   "outputs": [],
   "source": [
    "import matplotlib.pyplot as plt"
   ]
  },
  {
   "cell_type": "code",
   "execution_count": 36,
   "metadata": {
    "colab": {
     "base_uri": "https://localhost:8080/",
     "height": 265
    },
    "id": "q-AOOr1F8w2B",
    "outputId": "839e4eb1-643d-4db5-d390-8799801410c5"
   },
   "outputs": [
    {
     "data": {
      "image/png": "[encoded data removed]",
      "text/plain": [
       "<Figure size 432x288 with 1 Axes>"
      ]
     },
     "metadata": {
      "needs_background": "light"
     },
     "output_type": "display_data"
    }
   ],
   "source": [
    "villagers['personality'].value_counts()\n",
    "names = villagers['personality'].value_counts().keys()\n",
    "vals = villagers['personality'].value_counts().values\n",
    "plt.bar(names, vals, color='pink')\n",
    "plt.title('Villager Personality Distribution')\n",
    "plt.ylabel('Number of Villagers')\n",
    "plt.show()"
   ]
  },
  {
   "cell_type": "markdown",
   "metadata": {
    "id": "kDkLohSFIh52"
   },
   "source": [
    "The \"color\" part of the above code just changes it from its default blue to a much prettier pink. We can also set this bar graph up to change color by value, in more normally distributed datasets(since many of the values here are the same, we're unlikely to get anything interesting with that.)"
   ]
  },
  {
   "cell_type": "markdown",
   "metadata": {
    "id": "N1H8FT00HTpW"
   },
   "source": [
    "We can also create a KDE plot, which is a type of plot that can let you visualize the probability density at different values. You can also contrast it with the histogram above. This plot shows you the distribution. "
   ]
  },
  {
   "cell_type": "code",
   "execution_count": 37,
   "metadata": {
    "colab": {
     "base_uri": "https://localhost:8080/",
     "height": 282
    },
    "id": "4A1zFfmfHETp",
    "outputId": "99d2cdbb-243e-4896-e86e-29c776155e78"
   },
   "outputs": [
    {
     "data": {
      "image/png": "[encoded data removed]",
      "text/plain": [
       "<Figure size 432x288 with 1 Axes>"
      ]
     },
     "metadata": {
      "needs_background": "light"
     },
     "output_type": "display_data"
    }
   ],
   "source": [
    "a = plt.hist(vals,density=True)\n",
    "\n",
    "plt.plot(a[1][1:],a[0])\n",
    "plt.show()"
   ]
  },
  {
   "cell_type": "markdown",
   "metadata": {},
   "source": [
    "More realistically, you can generate density plots from more continuous distributions like item sell value."
   ]
  },
  {
   "cell_type": "code",
   "execution_count": 43,
   "metadata": {},
   "outputs": [
    {
     "data": {
      "image/png": "[encoded data removed]",
      "text/plain": [
       "<Figure size 432x288 with 1 Axes>"
      ]
     },
     "metadata": {
      "needs_background": "light"
     },
     "output_type": "display_data"
    }
   ],
   "source": [
    "import seaborn as sns\n",
    "sns.distplot(items['sell_value'])\n",
    "plt.title('Distribution of item sell value')\n",
    "plt.ylabel('Density')\n",
    "plt.show()"
   ]
  },
  {
   "cell_type": "markdown",
   "metadata": {},
   "source": [
    "We see that all the entries are piled up around 0, except for a few items with very high sell value. If we adjust these values by taking the log, we can better visualize the distribution."
   ]
  },
  {
   "cell_type": "code",
   "execution_count": 45,
   "metadata": {},
   "outputs": [
    {
     "data": {
      "image/png": "[encoded data removed]",
      "text/plain": [
       "<Figure size 432x288 with 1 Axes>"
      ]
     },
     "metadata": {
      "needs_background": "light"
     },
     "output_type": "display_data"
    }
   ],
   "source": [
    "import seaborn as sns\n",
    "import numpy as np\n",
    "sns.distplot(np.log(items['sell_value']))\n",
    "plt.title('Distribution of log-adjusted item sell value')\n",
    "plt.ylabel('Density')\n",
    "plt.ylabel('log sell value')\n",
    "plt.show()"
   ]
  },
  {
   "cell_type": "markdown",
   "metadata": {
    "id": "h2DGErq0Hbnw"
   },
   "source": [
    "With other data, it can be interesting and highly informative to create scatter plots, lines of best fit, and interactive histograms, all possible with matplotlib! If you're interested, check out the [docs](https://matplotlib.org/) and feel free to ask any questions. "
   ]
  }
 ],
 "metadata": {
  "colab": {
   "collapsed_sections": [],
   "name": "data_science_intro.ipynb",
   "provenance": []
  },
  "kernelspec": {
   "display_name": "Python 3",
   "language": "python",
   "name": "python3"
  },
  "language_info": {
   "codemirror_mode": {
    "name": "ipython",
    "version": 3
   },
   "file_extension": ".py",
   "mimetype": "text/x-python",
   "name": "python",
   "nbconvert_exporter": "python",
   "pygments_lexer": "ipython3",
   "version": "3.7.3"
  }
 },
 "nbformat": 4,
 "nbformat_minor": 1
}
