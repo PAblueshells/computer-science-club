{
 "cells": [
  {
   "cell_type": "markdown",
   "metadata": {},
   "source": [
    "Note: code adapted from https://www.dataquest.io/blog/web-scraping-beautifulsoup/\n",
    "\n",
    "First, let's get some standard imports done."
   ]
  },
  {
   "cell_type": "code",
   "execution_count": 1,
   "metadata": {},
   "outputs": [],
   "source": [
    "import requests\n",
    "from bs4 import BeautifulSoup"
   ]
  },
  {
   "cell_type": "markdown",
   "metadata": {},
   "source": [
    "Great, now let's define a couple of variables and see if we can just get the raw HTML for a webpage. We use the `request.get()` function to get the raw HTML of the webpage with the given URL."
   ]
  },
  {
   "cell_type": "code",
   "execution_count": 2,
   "metadata": {},
   "outputs": [
    {
     "name": "stdout",
     "output_type": "stream",
     "text": [
      "\n",
      "\n",
      "\n",
      "<!DOCTYPE html>\n",
      "<html\n",
      "    xmlns:og=\"http://ogp.me/ns#\"\n",
      "    xmlns:fb=\"http://www.facebook.com/2008/fbml\">\n",
      "    <head>\n",
      "         \n",
      "        <meta charset=\"utf-8\">\n",
      "        <meta http-equiv=\"X-UA-Compatible\" content=\"IE=edge\">\n",
      "\n",
      "    <meta name=\"apple-itunes-app\" content=\"app-id=342792525, app-argument=imdb:///?src=mdot\">\n",
      "\n",
      "\n",
      "\n",
      "        <script type=\"text/javascript\">var IMDbTimer={starttime: new Date().getTime(),pt:'java'};</script>\n",
      "\n",
      "<script>\n",
      "    if (typeof uet == 'function') {\n",
      "      uet(\"bb\", \"LoadTitle\"\n"
     ]
    }
   ],
   "source": [
    "release_date = '2017-01-01'\n",
    "sort= 'num_votes'\n",
    "ordering = 'desc'\n",
    "reference = 'adv_next'\n",
    "\n",
    "BASE_URL = 'https://www.imdb.com/search/title/?release_date={},&sort={},{}&start={}&ref_={}'\n",
    "\n",
    "page_url = BASE_URL.format(release_date, sort, ordering, 1, reference)\n",
    "response = requests.get(page_url)\n",
    "'''\n",
    "We use the .text field to access just the content of the response.\n",
    "Additionally, the [:500] just tells Python to print only the first 500 characters, as we\n",
    "don't want a massive printout\n",
    "'''\n",
    "print(response.text[:500])"
   ]
  },
  {
   "cell_type": "markdown",
   "metadata": {},
   "source": [
    "Now that we have the raw HTML, we're going to use `bs4` (beautifulsoup) to extract the specific info we want."
   ]
  },
  {
   "cell_type": "code",
   "execution_count": 3,
   "metadata": {},
   "outputs": [
    {
     "name": "stdout",
     "output_type": "stream",
     "text": [
      "<class 'bs4.element.ResultSet'>\n",
      "50\n"
     ]
    }
   ],
   "source": [
    "html_soup = BeautifulSoup(response.text, 'html.parser')\n",
    "movie_containers = html_soup.find_all('div', class_ = 'lister-item mode-advanced')\n",
    "print(type(movie_containers))\n",
    "print(len(movie_containers))"
   ]
  },
  {
   "cell_type": "markdown",
   "metadata": {},
   "source": [
    "Let's see what each `bs4` result in `movie_containers` is:"
   ]
  },
  {
   "cell_type": "code",
   "execution_count": 9,
   "metadata": {},
   "outputs": [
    {
     "name": "stdout",
     "output_type": "stream",
     "text": [
      "<div class=\"lister-item mode-advanced\">\n",
      "<div class=\"lister-top-right\">\n",
      "<div class=\"ribbonize\" data-caller=\"filmosearch\" data-tconst=\"tt4154756\"></div>\n",
      "</div>\n",
      "<div class=\"lister-item-image float-left\">\n",
      "<a href=\"/title/tt4154756/\"> <img alt=\"Avengers: Infinity War\" class=\"loadlate\" data-tconst=\"tt4154756\" height=\"98\" loadlate=\"https://m.media-amazon.com/images/M/MV5BMjMxNjY2MDU1OV5BMl5BanBnXkFtZTgwNzY1MTUwNTM@._V1_UX67_CR0,0,67,98_AL_.jpg\" src=\"https://m.media-amazon.com/images/G/01/imdb/images/nopicture/large/film-184890147._CB470041630_.png\" width=\"67\"/>\n",
      "</a> </div>\n",
      "<div class=\"lister-item-content\">\n",
      "<h3 class=\"lister-item-header\">\n",
      "<span class=\"lister-item-index unbold text-primary\">1.</span>\n",
      "<a href=\"/title/tt4154756/\">Avengers: Infinity War</a>\n",
      "<span class=\"lister-item-year text-muted unbold\">(2018)</span>\n",
      "</h3>\n",
      "<p class=\"text-muted\">\n",
      "<span class=\"certificate\">PG-13</span>\n",
      "<span class=\"ghost\">|</span>\n",
      "<span class=\"runtime\">149 min</span>\n",
      "<span class=\"ghost\">|</span>\n",
      "<span class=\"genre\">\n",
      "Action, Adventure, Sci-Fi            </span>\n",
      "</p>\n",
      "<div class=\"ratings-bar\">\n",
      "<div class=\"inline-block ratings-imdb-rating\" data-value=\"8.5\" name=\"ir\">\n",
      "<span class=\"global-sprite rating-star imdb-rating\"></span>\n",
      "<strong>8.5</strong>\n",
      "</div>\n",
      "<div class=\"inline-block ratings-user-rating\">\n",
      "<span class=\"userRatingValue\" data-tconst=\"tt4154756\" id=\"urv_tt4154756\">\n",
      "<span class=\"global-sprite rating-star no-rating\"></span>\n",
      "<span class=\"rate\" data-no-rating=\"Rate this\" data-value=\"0\" name=\"ur\">Rate this</span>\n",
      "</span>\n",
      "<div class=\"starBarWidget\" id=\"sb_tt4154756\">\n",
      "<div class=\"rating rating-list\" data-auth=\"\" data-ga-identifier=\"\" data-starbar-class=\"rating-list\" data-user=\"\" id=\"tt4154756|imdb|8.5|8.5|||advsearch|title\" itemprop=\"aggregateRating\" itemscope=\"\" itemtype=\"http://schema.org/AggregateRating\" title=\"Users rated this 8.5/10 (740,565 votes) - click stars to rate\">\n",
      "<meta content=\"8.5\" itemprop=\"ratingValue\"/>\n",
      "<meta content=\"10\" itemprop=\"bestRating\"/>\n",
      "<meta content=\"740565\" itemprop=\"ratingCount\"/>\n",
      "<span class=\"rating-bg\"> </span>\n",
      "<span class=\"rating-imdb\" style=\"width: 119px\"> </span>\n",
      "<span class=\"rating-stars\">\n",
      "<a href=\"/register/login?why=vote\" rel=\"nofollow\" title=\"Register or login to rate this title\"><span>1</span></a>\n",
      "<a href=\"/register/login?why=vote\" rel=\"nofollow\" title=\"Register or login to rate this title\"><span>2</span></a>\n",
      "<a href=\"/register/login?why=vote\" rel=\"nofollow\" title=\"Register or login to rate this title\"><span>3</span></a>\n",
      "<a href=\"/register/login?why=vote\" rel=\"nofollow\" title=\"Register or login to rate this title\"><span>4</span></a>\n",
      "<a href=\"/register/login?why=vote\" rel=\"nofollow\" title=\"Register or login to rate this title\"><span>5</span></a>\n",
      "<a href=\"/register/login?why=vote\" rel=\"nofollow\" title=\"Register or login to rate this title\"><span>6</span></a>\n",
      "<a href=\"/register/login?why=vote\" rel=\"nofollow\" title=\"Register or login to rate this title\"><span>7</span></a>\n",
      "<a href=\"/register/login?why=vote\" rel=\"nofollow\" title=\"Register or login to rate this title\"><span>8</span></a>\n",
      "<a href=\"/register/login?why=vote\" rel=\"nofollow\" title=\"Register or login to rate this title\"><span>9</span></a>\n",
      "<a href=\"/register/login?why=vote\" rel=\"nofollow\" title=\"Register or login to rate this title\"><span>10</span></a>\n",
      "</span>\n",
      "<span class=\"rating-rating\"><span class=\"value\">8.5</span><span class=\"grey\">/</span><span class=\"grey\">10</span></span>\n",
      "<span class=\"rating-cancel\"><a href=\"/title/tt4154756/vote?v=X;k=\" rel=\"nofollow\" title=\"Delete\"><span>X</span></a></span>\n",
      " </div>\n",
      "</div>\n",
      "</div>\n",
      "<div class=\"inline-block ratings-metascore\">\n",
      "<span class=\"metascore favorable\">68        </span>\n",
      "        Metascore\n",
      "            </div>\n",
      "</div>\n",
      "<p class=\"text-muted\">\n",
      "    The Avengers and their allies must be willing to sacrifice all in an attempt to defeat the powerful Thanos before his blitz of devastation and ruin puts an end to the universe.</p>\n",
      "<p class=\"\">\n",
      "    Directors:\n",
      "<a href=\"/name/nm0751577/\">Anthony Russo</a>, \n",
      "<a href=\"/name/nm0751648/\">Joe Russo</a>\n",
      "<span class=\"ghost\">|</span> \n",
      "    Stars:\n",
      "<a href=\"/name/nm0000375/\">Robert Downey Jr.</a>, \n",
      "<a href=\"/name/nm1165110/\">Chris Hemsworth</a>, \n",
      "<a href=\"/name/nm0749263/\">Mark Ruffalo</a>, \n",
      "<a href=\"/name/nm0262635/\">Chris Evans</a>\n",
      "</p>\n",
      "<p class=\"sort-num_votes-visible\">\n",
      "<span class=\"text-muted\">Votes:</span>\n",
      "<span data-value=\"740565\" name=\"nv\">740,565</span>\n",
      "<span class=\"ghost\">|</span> <span class=\"text-muted\">Gross:</span>\n",
      "<span data-value=\"678,815,482\" name=\"nv\">$678.82M</span>\n",
      "</p>\n",
      "</div>\n",
      "</div>\n"
     ]
    }
   ],
   "source": [
    "print(movie_containers[0])"
   ]
  },
  {
   "cell_type": "markdown",
   "metadata": {},
   "source": [
    "Let's use the `h3` tag to get close to the movie name:"
   ]
  },
  {
   "cell_type": "code",
   "execution_count": 12,
   "metadata": {},
   "outputs": [
    {
     "name": "stdout",
     "output_type": "stream",
     "text": [
      "<h3 class=\"lister-item-header\">\n",
      "<span class=\"lister-item-index unbold text-primary\">1.</span>\n",
      "<a href=\"/title/tt4154756/\">Avengers: Infinity War</a>\n",
      "<span class=\"lister-item-year text-muted unbold\">(2018)</span>\n",
      "</h3>\n"
     ]
    }
   ],
   "source": [
    "print(movie_containers[0].h3)"
   ]
  },
  {
   "cell_type": "markdown",
   "metadata": {},
   "source": [
    "Great! We see that the movie title is in an anchor tag, so now we can just use `.h3.a.text` to get the movie title:"
   ]
  },
  {
   "cell_type": "code",
   "execution_count": 14,
   "metadata": {},
   "outputs": [
    {
     "name": "stdout",
     "output_type": "stream",
     "text": [
      "Avengers: Infinity War\n"
     ]
    }
   ],
   "source": [
    "print(movie_containers[0].h3.a.text)"
   ]
  },
  {
   "cell_type": "markdown",
   "metadata": {},
   "source": [
    "We also notice that the IMDb rating is in a strong tag, so we can use `.strong.text` to get the IMDb rating:"
   ]
  },
  {
   "cell_type": "code",
   "execution_count": 16,
   "metadata": {},
   "outputs": [
    {
     "name": "stdout",
     "output_type": "stream",
     "text": [
      "8.5\n"
     ]
    }
   ],
   "source": [
    "print(movie_containers[0].strong.text)"
   ]
  },
  {
   "cell_type": "markdown",
   "metadata": {},
   "source": [
    "## Putting it Together"
   ]
  },
  {
   "cell_type": "markdown",
   "metadata": {},
   "source": [
    "Now, let's put it all together — we'll scrape each webpage, get the name and rating for each movie on each page, and save it in a Python dictionary."
   ]
  },
  {
   "cell_type": "code",
   "execution_count": 19,
   "metadata": {},
   "outputs": [
    {
     "ename": "KeyboardInterrupt",
     "evalue": "",
     "output_type": "error",
     "traceback": [
      "\u001b[0;31m---------------------------------------------------------------------------\u001b[0m",
      "\u001b[0;31mTypeError\u001b[0m                                 Traceback (most recent call last)",
      "\u001b[0;32m~/opt/anaconda3/lib/python3.7/site-packages/urllib3/connectionpool.py\u001b[0m in \u001b[0;36m_make_request\u001b[0;34m(self, conn, method, url, timeout, chunked, **httplib_request_kw)\u001b[0m\n\u001b[1;32m    376\u001b[0m             \u001b[0;32mtry\u001b[0m\u001b[0;34m:\u001b[0m  \u001b[0;31m# Python 2.7, use buffering of HTTP responses\u001b[0m\u001b[0;34m\u001b[0m\u001b[0;34m\u001b[0m\u001b[0m\n\u001b[0;32m--> 377\u001b[0;31m                 \u001b[0mhttplib_response\u001b[0m \u001b[0;34m=\u001b[0m \u001b[0mconn\u001b[0m\u001b[0;34m.\u001b[0m\u001b[0mgetresponse\u001b[0m\u001b[0;34m(\u001b[0m\u001b[0mbuffering\u001b[0m\u001b[0;34m=\u001b[0m\u001b[0;32mTrue\u001b[0m\u001b[0;34m)\u001b[0m\u001b[0;34m\u001b[0m\u001b[0;34m\u001b[0m\u001b[0m\n\u001b[0m\u001b[1;32m    378\u001b[0m             \u001b[0;32mexcept\u001b[0m \u001b[0mTypeError\u001b[0m\u001b[0;34m:\u001b[0m  \u001b[0;31m# Python 3\u001b[0m\u001b[0;34m\u001b[0m\u001b[0;34m\u001b[0m\u001b[0m\n",
      "\u001b[0;31mTypeError\u001b[0m: getresponse() got an unexpected keyword argument 'buffering'",
      "\nDuring handling of the above exception, another exception occurred:\n",
      "\u001b[0;31mKeyboardInterrupt\u001b[0m                         Traceback (most recent call last)",
      "\u001b[0;32m<ipython-input-19-dc40a94b1e74>\u001b[0m in \u001b[0;36m<module>\u001b[0;34m\u001b[0m\n\u001b[1;32m      6\u001b[0m \u001b[0;34m\u001b[0m\u001b[0m\n\u001b[1;32m      7\u001b[0m     \u001b[0;31m#get each webpage (IMDb displays 50 movies by default)\u001b[0m\u001b[0;34m\u001b[0m\u001b[0;34m\u001b[0m\u001b[0;34m\u001b[0m\u001b[0m\n\u001b[0;32m----> 8\u001b[0;31m     \u001b[0mresponse\u001b[0m \u001b[0;34m=\u001b[0m \u001b[0mrequests\u001b[0m\u001b[0;34m.\u001b[0m\u001b[0mget\u001b[0m\u001b[0;34m(\u001b[0m\u001b[0mpage_url\u001b[0m\u001b[0;34m)\u001b[0m\u001b[0;34m\u001b[0m\u001b[0;34m\u001b[0m\u001b[0m\n\u001b[0m\u001b[1;32m      9\u001b[0m \u001b[0;34m\u001b[0m\u001b[0m\n\u001b[1;32m     10\u001b[0m     \u001b[0;31m#parse the raw HTML and find the divs for each movie\u001b[0m\u001b[0;34m\u001b[0m\u001b[0;34m\u001b[0m\u001b[0;34m\u001b[0m\u001b[0m\n",
      "\u001b[0;32m~/opt/anaconda3/lib/python3.7/site-packages/requests/api.py\u001b[0m in \u001b[0;36mget\u001b[0;34m(url, params, **kwargs)\u001b[0m\n\u001b[1;32m     73\u001b[0m \u001b[0;34m\u001b[0m\u001b[0m\n\u001b[1;32m     74\u001b[0m     \u001b[0mkwargs\u001b[0m\u001b[0;34m.\u001b[0m\u001b[0msetdefault\u001b[0m\u001b[0;34m(\u001b[0m\u001b[0;34m'allow_redirects'\u001b[0m\u001b[0;34m,\u001b[0m \u001b[0;32mTrue\u001b[0m\u001b[0;34m)\u001b[0m\u001b[0;34m\u001b[0m\u001b[0;34m\u001b[0m\u001b[0m\n\u001b[0;32m---> 75\u001b[0;31m     \u001b[0;32mreturn\u001b[0m \u001b[0mrequest\u001b[0m\u001b[0;34m(\u001b[0m\u001b[0;34m'get'\u001b[0m\u001b[0;34m,\u001b[0m \u001b[0murl\u001b[0m\u001b[0;34m,\u001b[0m \u001b[0mparams\u001b[0m\u001b[0;34m=\u001b[0m\u001b[0mparams\u001b[0m\u001b[0;34m,\u001b[0m \u001b[0;34m**\u001b[0m\u001b[0mkwargs\u001b[0m\u001b[0;34m)\u001b[0m\u001b[0;34m\u001b[0m\u001b[0;34m\u001b[0m\u001b[0m\n\u001b[0m\u001b[1;32m     76\u001b[0m \u001b[0;34m\u001b[0m\u001b[0m\n\u001b[1;32m     77\u001b[0m \u001b[0;34m\u001b[0m\u001b[0m\n",
      "\u001b[0;32m~/opt/anaconda3/lib/python3.7/site-packages/requests/api.py\u001b[0m in \u001b[0;36mrequest\u001b[0;34m(method, url, **kwargs)\u001b[0m\n\u001b[1;32m     58\u001b[0m     \u001b[0;31m# cases, and look like a memory leak in others.\u001b[0m\u001b[0;34m\u001b[0m\u001b[0;34m\u001b[0m\u001b[0;34m\u001b[0m\u001b[0m\n\u001b[1;32m     59\u001b[0m     \u001b[0;32mwith\u001b[0m \u001b[0msessions\u001b[0m\u001b[0;34m.\u001b[0m\u001b[0mSession\u001b[0m\u001b[0;34m(\u001b[0m\u001b[0;34m)\u001b[0m \u001b[0;32mas\u001b[0m \u001b[0msession\u001b[0m\u001b[0;34m:\u001b[0m\u001b[0;34m\u001b[0m\u001b[0;34m\u001b[0m\u001b[0m\n\u001b[0;32m---> 60\u001b[0;31m         \u001b[0;32mreturn\u001b[0m \u001b[0msession\u001b[0m\u001b[0;34m.\u001b[0m\u001b[0mrequest\u001b[0m\u001b[0;34m(\u001b[0m\u001b[0mmethod\u001b[0m\u001b[0;34m=\u001b[0m\u001b[0mmethod\u001b[0m\u001b[0;34m,\u001b[0m \u001b[0murl\u001b[0m\u001b[0;34m=\u001b[0m\u001b[0murl\u001b[0m\u001b[0;34m,\u001b[0m \u001b[0;34m**\u001b[0m\u001b[0mkwargs\u001b[0m\u001b[0;34m)\u001b[0m\u001b[0;34m\u001b[0m\u001b[0;34m\u001b[0m\u001b[0m\n\u001b[0m\u001b[1;32m     61\u001b[0m \u001b[0;34m\u001b[0m\u001b[0m\n\u001b[1;32m     62\u001b[0m \u001b[0;34m\u001b[0m\u001b[0m\n",
      "\u001b[0;32m~/opt/anaconda3/lib/python3.7/site-packages/requests/sessions.py\u001b[0m in \u001b[0;36mrequest\u001b[0;34m(self, method, url, params, data, headers, cookies, files, auth, timeout, allow_redirects, proxies, hooks, stream, verify, cert, json)\u001b[0m\n\u001b[1;32m    531\u001b[0m         }\n\u001b[1;32m    532\u001b[0m         \u001b[0msend_kwargs\u001b[0m\u001b[0;34m.\u001b[0m\u001b[0mupdate\u001b[0m\u001b[0;34m(\u001b[0m\u001b[0msettings\u001b[0m\u001b[0;34m)\u001b[0m\u001b[0;34m\u001b[0m\u001b[0;34m\u001b[0m\u001b[0m\n\u001b[0;32m--> 533\u001b[0;31m         \u001b[0mresp\u001b[0m \u001b[0;34m=\u001b[0m \u001b[0mself\u001b[0m\u001b[0;34m.\u001b[0m\u001b[0msend\u001b[0m\u001b[0;34m(\u001b[0m\u001b[0mprep\u001b[0m\u001b[0;34m,\u001b[0m \u001b[0;34m**\u001b[0m\u001b[0msend_kwargs\u001b[0m\u001b[0;34m)\u001b[0m\u001b[0;34m\u001b[0m\u001b[0;34m\u001b[0m\u001b[0m\n\u001b[0m\u001b[1;32m    534\u001b[0m \u001b[0;34m\u001b[0m\u001b[0m\n\u001b[1;32m    535\u001b[0m         \u001b[0;32mreturn\u001b[0m \u001b[0mresp\u001b[0m\u001b[0;34m\u001b[0m\u001b[0;34m\u001b[0m\u001b[0m\n",
      "\u001b[0;32m~/opt/anaconda3/lib/python3.7/site-packages/requests/sessions.py\u001b[0m in \u001b[0;36msend\u001b[0;34m(self, request, **kwargs)\u001b[0m\n\u001b[1;32m    644\u001b[0m \u001b[0;34m\u001b[0m\u001b[0m\n\u001b[1;32m    645\u001b[0m         \u001b[0;31m# Send the request\u001b[0m\u001b[0;34m\u001b[0m\u001b[0;34m\u001b[0m\u001b[0;34m\u001b[0m\u001b[0m\n\u001b[0;32m--> 646\u001b[0;31m         \u001b[0mr\u001b[0m \u001b[0;34m=\u001b[0m \u001b[0madapter\u001b[0m\u001b[0;34m.\u001b[0m\u001b[0msend\u001b[0m\u001b[0;34m(\u001b[0m\u001b[0mrequest\u001b[0m\u001b[0;34m,\u001b[0m \u001b[0;34m**\u001b[0m\u001b[0mkwargs\u001b[0m\u001b[0;34m)\u001b[0m\u001b[0;34m\u001b[0m\u001b[0;34m\u001b[0m\u001b[0m\n\u001b[0m\u001b[1;32m    647\u001b[0m \u001b[0;34m\u001b[0m\u001b[0m\n\u001b[1;32m    648\u001b[0m         \u001b[0;31m# Total elapsed time of the request (approximately)\u001b[0m\u001b[0;34m\u001b[0m\u001b[0;34m\u001b[0m\u001b[0;34m\u001b[0m\u001b[0m\n",
      "\u001b[0;32m~/opt/anaconda3/lib/python3.7/site-packages/requests/adapters.py\u001b[0m in \u001b[0;36msend\u001b[0;34m(self, request, stream, timeout, verify, cert, proxies)\u001b[0m\n\u001b[1;32m    447\u001b[0m                     \u001b[0mdecode_content\u001b[0m\u001b[0;34m=\u001b[0m\u001b[0;32mFalse\u001b[0m\u001b[0;34m,\u001b[0m\u001b[0;34m\u001b[0m\u001b[0;34m\u001b[0m\u001b[0m\n\u001b[1;32m    448\u001b[0m                     \u001b[0mretries\u001b[0m\u001b[0;34m=\u001b[0m\u001b[0mself\u001b[0m\u001b[0;34m.\u001b[0m\u001b[0mmax_retries\u001b[0m\u001b[0;34m,\u001b[0m\u001b[0;34m\u001b[0m\u001b[0;34m\u001b[0m\u001b[0m\n\u001b[0;32m--> 449\u001b[0;31m                     \u001b[0mtimeout\u001b[0m\u001b[0;34m=\u001b[0m\u001b[0mtimeout\u001b[0m\u001b[0;34m\u001b[0m\u001b[0;34m\u001b[0m\u001b[0m\n\u001b[0m\u001b[1;32m    450\u001b[0m                 )\n\u001b[1;32m    451\u001b[0m \u001b[0;34m\u001b[0m\u001b[0m\n",
      "\u001b[0;32m~/opt/anaconda3/lib/python3.7/site-packages/urllib3/connectionpool.py\u001b[0m in \u001b[0;36murlopen\u001b[0;34m(self, method, url, body, headers, retries, redirect, assert_same_host, timeout, pool_timeout, release_conn, chunked, body_pos, **response_kw)\u001b[0m\n\u001b[1;32m    598\u001b[0m                                                   \u001b[0mtimeout\u001b[0m\u001b[0;34m=\u001b[0m\u001b[0mtimeout_obj\u001b[0m\u001b[0;34m,\u001b[0m\u001b[0;34m\u001b[0m\u001b[0;34m\u001b[0m\u001b[0m\n\u001b[1;32m    599\u001b[0m                                                   \u001b[0mbody\u001b[0m\u001b[0;34m=\u001b[0m\u001b[0mbody\u001b[0m\u001b[0;34m,\u001b[0m \u001b[0mheaders\u001b[0m\u001b[0;34m=\u001b[0m\u001b[0mheaders\u001b[0m\u001b[0;34m,\u001b[0m\u001b[0;34m\u001b[0m\u001b[0;34m\u001b[0m\u001b[0m\n\u001b[0;32m--> 600\u001b[0;31m                                                   chunked=chunked)\n\u001b[0m\u001b[1;32m    601\u001b[0m \u001b[0;34m\u001b[0m\u001b[0m\n\u001b[1;32m    602\u001b[0m             \u001b[0;31m# If we're going to release the connection in ``finally:``, then\u001b[0m\u001b[0;34m\u001b[0m\u001b[0;34m\u001b[0m\u001b[0;34m\u001b[0m\u001b[0m\n",
      "\u001b[0;32m~/opt/anaconda3/lib/python3.7/site-packages/urllib3/connectionpool.py\u001b[0m in \u001b[0;36m_make_request\u001b[0;34m(self, conn, method, url, timeout, chunked, **httplib_request_kw)\u001b[0m\n\u001b[1;32m    378\u001b[0m             \u001b[0;32mexcept\u001b[0m \u001b[0mTypeError\u001b[0m\u001b[0;34m:\u001b[0m  \u001b[0;31m# Python 3\u001b[0m\u001b[0;34m\u001b[0m\u001b[0;34m\u001b[0m\u001b[0m\n\u001b[1;32m    379\u001b[0m                 \u001b[0;32mtry\u001b[0m\u001b[0;34m:\u001b[0m\u001b[0;34m\u001b[0m\u001b[0;34m\u001b[0m\u001b[0m\n\u001b[0;32m--> 380\u001b[0;31m                     \u001b[0mhttplib_response\u001b[0m \u001b[0;34m=\u001b[0m \u001b[0mconn\u001b[0m\u001b[0;34m.\u001b[0m\u001b[0mgetresponse\u001b[0m\u001b[0;34m(\u001b[0m\u001b[0;34m)\u001b[0m\u001b[0;34m\u001b[0m\u001b[0;34m\u001b[0m\u001b[0m\n\u001b[0m\u001b[1;32m    381\u001b[0m                 \u001b[0;32mexcept\u001b[0m \u001b[0mException\u001b[0m \u001b[0;32mas\u001b[0m \u001b[0me\u001b[0m\u001b[0;34m:\u001b[0m\u001b[0;34m\u001b[0m\u001b[0;34m\u001b[0m\u001b[0m\n\u001b[1;32m    382\u001b[0m                     \u001b[0;31m# Remove the TypeError from the exception chain in Python 3;\u001b[0m\u001b[0;34m\u001b[0m\u001b[0;34m\u001b[0m\u001b[0;34m\u001b[0m\u001b[0m\n",
      "\u001b[0;32m~/opt/anaconda3/lib/python3.7/http/client.py\u001b[0m in \u001b[0;36mgetresponse\u001b[0;34m(self)\u001b[0m\n\u001b[1;32m   1334\u001b[0m         \u001b[0;32mtry\u001b[0m\u001b[0;34m:\u001b[0m\u001b[0;34m\u001b[0m\u001b[0;34m\u001b[0m\u001b[0m\n\u001b[1;32m   1335\u001b[0m             \u001b[0;32mtry\u001b[0m\u001b[0;34m:\u001b[0m\u001b[0;34m\u001b[0m\u001b[0;34m\u001b[0m\u001b[0m\n\u001b[0;32m-> 1336\u001b[0;31m                 \u001b[0mresponse\u001b[0m\u001b[0;34m.\u001b[0m\u001b[0mbegin\u001b[0m\u001b[0;34m(\u001b[0m\u001b[0;34m)\u001b[0m\u001b[0;34m\u001b[0m\u001b[0;34m\u001b[0m\u001b[0m\n\u001b[0m\u001b[1;32m   1337\u001b[0m             \u001b[0;32mexcept\u001b[0m \u001b[0mConnectionError\u001b[0m\u001b[0;34m:\u001b[0m\u001b[0;34m\u001b[0m\u001b[0;34m\u001b[0m\u001b[0m\n\u001b[1;32m   1338\u001b[0m                 \u001b[0mself\u001b[0m\u001b[0;34m.\u001b[0m\u001b[0mclose\u001b[0m\u001b[0;34m(\u001b[0m\u001b[0;34m)\u001b[0m\u001b[0;34m\u001b[0m\u001b[0;34m\u001b[0m\u001b[0m\n",
      "\u001b[0;32m~/opt/anaconda3/lib/python3.7/http/client.py\u001b[0m in \u001b[0;36mbegin\u001b[0;34m(self)\u001b[0m\n\u001b[1;32m    304\u001b[0m         \u001b[0;31m# read until we get a non-100 response\u001b[0m\u001b[0;34m\u001b[0m\u001b[0;34m\u001b[0m\u001b[0;34m\u001b[0m\u001b[0m\n\u001b[1;32m    305\u001b[0m         \u001b[0;32mwhile\u001b[0m \u001b[0;32mTrue\u001b[0m\u001b[0;34m:\u001b[0m\u001b[0;34m\u001b[0m\u001b[0;34m\u001b[0m\u001b[0m\n\u001b[0;32m--> 306\u001b[0;31m             \u001b[0mversion\u001b[0m\u001b[0;34m,\u001b[0m \u001b[0mstatus\u001b[0m\u001b[0;34m,\u001b[0m \u001b[0mreason\u001b[0m \u001b[0;34m=\u001b[0m \u001b[0mself\u001b[0m\u001b[0;34m.\u001b[0m\u001b[0m_read_status\u001b[0m\u001b[0;34m(\u001b[0m\u001b[0;34m)\u001b[0m\u001b[0;34m\u001b[0m\u001b[0;34m\u001b[0m\u001b[0m\n\u001b[0m\u001b[1;32m    307\u001b[0m             \u001b[0;32mif\u001b[0m \u001b[0mstatus\u001b[0m \u001b[0;34m!=\u001b[0m \u001b[0mCONTINUE\u001b[0m\u001b[0;34m:\u001b[0m\u001b[0;34m\u001b[0m\u001b[0;34m\u001b[0m\u001b[0m\n\u001b[1;32m    308\u001b[0m                 \u001b[0;32mbreak\u001b[0m\u001b[0;34m\u001b[0m\u001b[0;34m\u001b[0m\u001b[0m\n",
      "\u001b[0;32m~/opt/anaconda3/lib/python3.7/http/client.py\u001b[0m in \u001b[0;36m_read_status\u001b[0;34m(self)\u001b[0m\n\u001b[1;32m    265\u001b[0m \u001b[0;34m\u001b[0m\u001b[0m\n\u001b[1;32m    266\u001b[0m     \u001b[0;32mdef\u001b[0m \u001b[0m_read_status\u001b[0m\u001b[0;34m(\u001b[0m\u001b[0mself\u001b[0m\u001b[0;34m)\u001b[0m\u001b[0;34m:\u001b[0m\u001b[0;34m\u001b[0m\u001b[0;34m\u001b[0m\u001b[0m\n\u001b[0;32m--> 267\u001b[0;31m         \u001b[0mline\u001b[0m \u001b[0;34m=\u001b[0m \u001b[0mstr\u001b[0m\u001b[0;34m(\u001b[0m\u001b[0mself\u001b[0m\u001b[0;34m.\u001b[0m\u001b[0mfp\u001b[0m\u001b[0;34m.\u001b[0m\u001b[0mreadline\u001b[0m\u001b[0;34m(\u001b[0m\u001b[0m_MAXLINE\u001b[0m \u001b[0;34m+\u001b[0m \u001b[0;36m1\u001b[0m\u001b[0;34m)\u001b[0m\u001b[0;34m,\u001b[0m \u001b[0;34m\"iso-8859-1\"\u001b[0m\u001b[0;34m)\u001b[0m\u001b[0;34m\u001b[0m\u001b[0;34m\u001b[0m\u001b[0m\n\u001b[0m\u001b[1;32m    268\u001b[0m         \u001b[0;32mif\u001b[0m \u001b[0mlen\u001b[0m\u001b[0;34m(\u001b[0m\u001b[0mline\u001b[0m\u001b[0;34m)\u001b[0m \u001b[0;34m>\u001b[0m \u001b[0m_MAXLINE\u001b[0m\u001b[0;34m:\u001b[0m\u001b[0;34m\u001b[0m\u001b[0;34m\u001b[0m\u001b[0m\n\u001b[1;32m    269\u001b[0m             \u001b[0;32mraise\u001b[0m \u001b[0mLineTooLong\u001b[0m\u001b[0;34m(\u001b[0m\u001b[0;34m\"status line\"\u001b[0m\u001b[0;34m)\u001b[0m\u001b[0;34m\u001b[0m\u001b[0;34m\u001b[0m\u001b[0m\n",
      "\u001b[0;32m~/opt/anaconda3/lib/python3.7/socket.py\u001b[0m in \u001b[0;36mreadinto\u001b[0;34m(self, b)\u001b[0m\n\u001b[1;32m    587\u001b[0m         \u001b[0;32mwhile\u001b[0m \u001b[0;32mTrue\u001b[0m\u001b[0;34m:\u001b[0m\u001b[0;34m\u001b[0m\u001b[0;34m\u001b[0m\u001b[0m\n\u001b[1;32m    588\u001b[0m             \u001b[0;32mtry\u001b[0m\u001b[0;34m:\u001b[0m\u001b[0;34m\u001b[0m\u001b[0;34m\u001b[0m\u001b[0m\n\u001b[0;32m--> 589\u001b[0;31m                 \u001b[0;32mreturn\u001b[0m \u001b[0mself\u001b[0m\u001b[0;34m.\u001b[0m\u001b[0m_sock\u001b[0m\u001b[0;34m.\u001b[0m\u001b[0mrecv_into\u001b[0m\u001b[0;34m(\u001b[0m\u001b[0mb\u001b[0m\u001b[0;34m)\u001b[0m\u001b[0;34m\u001b[0m\u001b[0;34m\u001b[0m\u001b[0m\n\u001b[0m\u001b[1;32m    590\u001b[0m             \u001b[0;32mexcept\u001b[0m \u001b[0mtimeout\u001b[0m\u001b[0;34m:\u001b[0m\u001b[0;34m\u001b[0m\u001b[0;34m\u001b[0m\u001b[0m\n\u001b[1;32m    591\u001b[0m                 \u001b[0mself\u001b[0m\u001b[0;34m.\u001b[0m\u001b[0m_timeout_occurred\u001b[0m \u001b[0;34m=\u001b[0m \u001b[0;32mTrue\u001b[0m\u001b[0;34m\u001b[0m\u001b[0;34m\u001b[0m\u001b[0m\n",
      "\u001b[0;32m~/opt/anaconda3/lib/python3.7/site-packages/urllib3/contrib/pyopenssl.py\u001b[0m in \u001b[0;36mrecv_into\u001b[0;34m(self, *args, **kwargs)\u001b[0m\n\u001b[1;32m    295\u001b[0m     \u001b[0;32mdef\u001b[0m \u001b[0mrecv_into\u001b[0m\u001b[0;34m(\u001b[0m\u001b[0mself\u001b[0m\u001b[0;34m,\u001b[0m \u001b[0;34m*\u001b[0m\u001b[0margs\u001b[0m\u001b[0;34m,\u001b[0m \u001b[0;34m**\u001b[0m\u001b[0mkwargs\u001b[0m\u001b[0;34m)\u001b[0m\u001b[0;34m:\u001b[0m\u001b[0;34m\u001b[0m\u001b[0;34m\u001b[0m\u001b[0m\n\u001b[1;32m    296\u001b[0m         \u001b[0;32mtry\u001b[0m\u001b[0;34m:\u001b[0m\u001b[0;34m\u001b[0m\u001b[0;34m\u001b[0m\u001b[0m\n\u001b[0;32m--> 297\u001b[0;31m             \u001b[0;32mreturn\u001b[0m \u001b[0mself\u001b[0m\u001b[0;34m.\u001b[0m\u001b[0mconnection\u001b[0m\u001b[0;34m.\u001b[0m\u001b[0mrecv_into\u001b[0m\u001b[0;34m(\u001b[0m\u001b[0;34m*\u001b[0m\u001b[0margs\u001b[0m\u001b[0;34m,\u001b[0m \u001b[0;34m**\u001b[0m\u001b[0mkwargs\u001b[0m\u001b[0;34m)\u001b[0m\u001b[0;34m\u001b[0m\u001b[0;34m\u001b[0m\u001b[0m\n\u001b[0m\u001b[1;32m    298\u001b[0m         \u001b[0;32mexcept\u001b[0m \u001b[0mOpenSSL\u001b[0m\u001b[0;34m.\u001b[0m\u001b[0mSSL\u001b[0m\u001b[0;34m.\u001b[0m\u001b[0mSysCallError\u001b[0m \u001b[0;32mas\u001b[0m \u001b[0me\u001b[0m\u001b[0;34m:\u001b[0m\u001b[0;34m\u001b[0m\u001b[0;34m\u001b[0m\u001b[0m\n\u001b[1;32m    299\u001b[0m             \u001b[0;32mif\u001b[0m \u001b[0mself\u001b[0m\u001b[0;34m.\u001b[0m\u001b[0msuppress_ragged_eofs\u001b[0m \u001b[0;32mand\u001b[0m \u001b[0me\u001b[0m\u001b[0;34m.\u001b[0m\u001b[0margs\u001b[0m \u001b[0;34m==\u001b[0m \u001b[0;34m(\u001b[0m\u001b[0;34m-\u001b[0m\u001b[0;36m1\u001b[0m\u001b[0;34m,\u001b[0m \u001b[0;34m'Unexpected EOF'\u001b[0m\u001b[0;34m)\u001b[0m\u001b[0;34m:\u001b[0m\u001b[0;34m\u001b[0m\u001b[0;34m\u001b[0m\u001b[0m\n",
      "\u001b[0;32m~/opt/anaconda3/lib/python3.7/site-packages/OpenSSL/SSL.py\u001b[0m in \u001b[0;36mrecv_into\u001b[0;34m(self, buffer, nbytes, flags)\u001b[0m\n\u001b[1;32m   1819\u001b[0m             \u001b[0mresult\u001b[0m \u001b[0;34m=\u001b[0m \u001b[0m_lib\u001b[0m\u001b[0;34m.\u001b[0m\u001b[0mSSL_peek\u001b[0m\u001b[0;34m(\u001b[0m\u001b[0mself\u001b[0m\u001b[0;34m.\u001b[0m\u001b[0m_ssl\u001b[0m\u001b[0;34m,\u001b[0m \u001b[0mbuf\u001b[0m\u001b[0;34m,\u001b[0m \u001b[0mnbytes\u001b[0m\u001b[0;34m)\u001b[0m\u001b[0;34m\u001b[0m\u001b[0;34m\u001b[0m\u001b[0m\n\u001b[1;32m   1820\u001b[0m         \u001b[0;32melse\u001b[0m\u001b[0;34m:\u001b[0m\u001b[0;34m\u001b[0m\u001b[0;34m\u001b[0m\u001b[0m\n\u001b[0;32m-> 1821\u001b[0;31m             \u001b[0mresult\u001b[0m \u001b[0;34m=\u001b[0m \u001b[0m_lib\u001b[0m\u001b[0;34m.\u001b[0m\u001b[0mSSL_read\u001b[0m\u001b[0;34m(\u001b[0m\u001b[0mself\u001b[0m\u001b[0;34m.\u001b[0m\u001b[0m_ssl\u001b[0m\u001b[0;34m,\u001b[0m \u001b[0mbuf\u001b[0m\u001b[0;34m,\u001b[0m \u001b[0mnbytes\u001b[0m\u001b[0;34m)\u001b[0m\u001b[0;34m\u001b[0m\u001b[0;34m\u001b[0m\u001b[0m\n\u001b[0m\u001b[1;32m   1822\u001b[0m         \u001b[0mself\u001b[0m\u001b[0;34m.\u001b[0m\u001b[0m_raise_ssl_error\u001b[0m\u001b[0;34m(\u001b[0m\u001b[0mself\u001b[0m\u001b[0;34m.\u001b[0m\u001b[0m_ssl\u001b[0m\u001b[0;34m,\u001b[0m \u001b[0mresult\u001b[0m\u001b[0;34m)\u001b[0m\u001b[0;34m\u001b[0m\u001b[0;34m\u001b[0m\u001b[0m\n\u001b[1;32m   1823\u001b[0m \u001b[0;34m\u001b[0m\u001b[0m\n",
      "\u001b[0;31mKeyboardInterrupt\u001b[0m: "
     ]
    }
   ],
   "source": [
    "movie_dict = {}\n",
    "\n",
    "for start in range(1, 1000, 50):\n",
    "    #.format() just inserts the above variables into the base_url\n",
    "    page_url = BASE_URL.format(release_date, sort, ordering, start, reference)\n",
    "    \n",
    "    #get each webpage (IMDb displays 50 movies by default)\n",
    "    response = requests.get(page_url)\n",
    "    \n",
    "    #parse the raw HTML and find the divs for each movie\n",
    "    html_soup = BeautifulSoup(response.text, 'html.parser')\n",
    "    movie_containers = html_soup.find_all('div', class_ = 'lister-item mode-advanced')\n",
    "    \n",
    "    #For each movie, get the name and rating from the HTML\n",
    "    for movie in movie_containers:\n",
    "        name = movie.h3.a.text\n",
    "        rating = movie.strong.text\n",
    "        movie_dict[name] = float(rating)\n",
    "    "
   ]
  },
  {
   "cell_type": "code",
   "execution_count": 18,
   "metadata": {},
   "outputs": [
    {
     "name": "stdout",
     "output_type": "stream",
     "text": [
      "{'Avengers: Infinity War': 8.5, 'Avengers: Endgame': 8.5, 'Joker': 8.6, 'Logan': 8.1, 'Black Panther': 7.3, 'Thor: Ragnarok': 7.9, 'Guardians of the Galaxy Vol. 2': 7.6, 'Star Wars: Episode VIII - The Last Jedi': 7.0, 'Wonder Woman': 7.4, 'Dunkirk': 7.9, 'Spider-Man: Homecoming': 7.4, 'Get Out': 7.7, 'Deadpool 2': 7.7, 'It': 7.3, 'Blade Runner 2049': 8.0, 'Chernobyl': 9.5, 'Bohemian Rhapsody': 8.0, 'Baby Driver': 7.6, 'Captain Marvel': 6.9, 'Three Billboards Outside Ebbing, Missouri': 8.2, 'Justice League': 6.4, 'A Quiet Place': 7.5, 'Once Upon a Time... in Hollywood': 7.8, 'The Shape of Water': 7.3, 'John Wick: Chapter 2': 7.5, 'Ready Player One': 7.5, 'Aquaman': 7.0, 'Venom': 6.7, 'Coco': 8.4, 'A Star Is Born': 7.7, 'Spider-Man: Into the Spider-Verse': 8.4, 'Jumanji: Welcome to the Jungle': 6.9, 'Green Book': 8.2, 'Ant-Man and the Wasp': 7.1, 'Mission: Impossible - Fallout': 7.8, 'Solo: A Star Wars Story': 6.9, 'Spider-Man: Far from Home': 7.6, 'Beauty and the Beast': 7.1, 'Kong: Skull Island': 6.6, 'Annihilation': 6.9, 'Kingsman: The Golden Circle': 6.7, 'Bird Box': 6.6, 'Pirates of the Caribbean: Dead Men Tell No Tales': 6.6, 'Jurassic World: Fallen Kingdom': 6.2, 'Alien: Covenant': 6.4, '13 Reasons Why': 7.8, 'Star Wars: The Rise Of Skywalker': 6.9, 'Incredibles 2': 7.7, ' Game of Thrones': 8.8, 'John Wick: Chapter 3 - Parabellum': 7.5, 'The Greatest Showman': 7.6, 'War for the Planet of the Apes': 7.4, 'Shazam!': 7.1, 'The Irishman': 8.0, 'Lady Bird': 7.4, 'Fantastic Beasts: The Crimes of Grindelwald': 6.6, 'Life': 6.6, 'Murder on the Orient Express': 6.5, 'The Fate of the Furious': 6.7, 'Hereditary': 7.3, 'The Witcher': 8.5, 'Ghost in the Shell': 6.3, 'Money Heist': 8.5, 'Alita: Battle Angel': 7.3, 'Wind River': 7.7, 'Game Night': 6.9, 'Glass': 6.7, 'King Arthur: Legend of the Sword': 6.7, 'Us': 6.9, 'Tomb Raider': 6.3, 'BlacKkKlansman': 7.5, 'Call Me by Your Name': 7.9, 'Mindhunter': 8.6, 'Aladdin': 7.0, \"The Hitman's Bodyguard\": 6.9, 'Mother!': 6.6, 'The Mummy': 5.4, 'The Punisher': 8.5, 'Atomic Blonde': 6.7, \"Ocean's 8\": 6.2, 'Dark': 8.7, 'I, Tonya': 7.5, 'Bright': 6.4, 'The Lion King': 7.0, 'Parasite': 8.6, 'Darkest Hour': 7.4, 'Valerian and the City of a Thousand Planets': 6.5, 'Red Sparrow': 6.6, 'It Chapter Two': 6.7, 'Baywatch': 5.5, 'Toy Story 4': 7.9, 'El Camino: A Breaking Bad Movie': 7.4, \"The Handmaid's Tale\": 8.5, 'First Man': 7.3, 'American Made': 7.1, 'The Favourite': 7.6, 'The Haunting of Hill House': 8.7, 'Big Little Lies': 8.5, 'The Meg': 5.7, 'Fast & Furious Presents: Hobbs & Shaw': 6.5, 'Ad Astra': 6.7, 'Rampage': 6.1, 'Transformers: The Last Knight': 5.2, 'Marriage Story': 8.1, 'The Boys': 8.8, 'Upgrade': 7.5, 'The Lego Batman Movie': 7.3, 'Wonder': 8.0, 'The Disaster Artist': 7.4, 'Roma': 7.7, 'Isle of Dogs': 7.9, 'X-Men: Dark Phoenix': 5.8, 'Knives Out': 8.1, 'Ozark': 8.3, 'The Post': 7.2, 'The Mandalorian': 8.8, 'The Dark Tower': 5.6, 'Searching': 7.6, 'The End of the F***ing World': 8.1, 'Crazy Rich Asians': 6.9, 'Bumblebee': 6.8, \"Molly's Game\": 7.4, 'Altered Carbon': 8.1, 'Logan Lucky': 7.0, 'The Equalizer 2': 6.7, 'Pokémon Detective Pikachu': 6.6, 'Ralph Breaks the Internet': 7.1, 'The Big Sick': 7.6, 'Bad Times at the El Royale': 7.1, 'Sicario: Day of the Soldado': 7.1, 'Taboo': 8.5, 'Iron Fist': 6.5, 'The Predator': 5.4, 'A Simple Favor': 6.8, 'Halloween': 6.6, 'Godzilla: King of the Monsters': 6.1, 'The Nun': 5.3, 'T2 Trainspotting': 7.2, 'The Ballad of Buster Scruggs': 7.3, 'Midsommar': 7.2, 'Annabelle: Creation': 6.5, 'Black Mirror: Bandersnatch': 7.2, 'Despicable Me 3': 6.3, 'Happy Death Day': 6.5, 'The Killing of a Sacred Deer': 7.0, 'Riverdale': 7.1, 'The Boss Baby': 6.3, 'Maze Runner: The Death Cure': 6.2, 'Vice': 7.2, 'Power Rangers': 5.9, 'Tag': 6.5, 'Pacific Rim: Uprising': 5.6, 'Phantom Thread': 7.5, 'You': 7.8, 'The Commuter': 6.3, 'What Happened to Monday': 6.9, 'Ford v Ferrari': 8.3, 'Skyscraper': 5.8, 'The Umbrella Academy': 8.0, 'Creed II': 7.2, 'Rocketman': 7.4, 'Mortal Engines': 6.1, 'Triple Frontier': 6.5, 'Gifted': 7.6, 'Love, Simon': 7.6, 'The Cloverfield Paradox': 5.5, 'Downsizing': 5.7, 'Sex Education': 8.3, 'The Foreigner': 7.0, 'The Mule': 7.0, '6 Underground': 6.1, 'You Were Never Really Here': 6.8, 'Fifty Shades Darker': 4.6, 'Geostorm': 5.3, 'How to Train Your Dragon: The Hidden World': 7.5, 'Men in Black: International': 5.6, 'The Defenders': 7.3, 'Okja': 7.3, 'xXx: Return of Xander Cage': 5.2, 'The Florida Project': 7.6, 'Murder Mystery': 6.0, 'Den of Thieves': 7.0, 'Legion': 8.3, 'Bodyguard': 8.2, 'The Circle': 5.3, 'Star Trek: Discovery': 7.4, 'Widows': 6.9, \"Gerald's Game\": 6.6, 'It Comes At Night': 6.2, 'Love, Death & Robots': 8.6, 'Yesterday': 6.9, 'Jack Ryan': 8.1, 'Reis': 1.4, 'The Death of Stalin': 7.2, 'Overlord': 6.6, \"To All the Boys I've Loved Before\": 7.2, 'Death Note': 4.5, 'Going in Style': 6.6, 'Baahubali 2: The Conclusion': 8.2, 'Zombieland: Double Tap': 6.9, 'Mamma Mia! Here We Go Again': 6.7, 'American Gods': 7.9, 'Mary Poppins Returns': 6.8, 'Long Shot': 6.9, 'All the Money in the World': 6.8, 'The Sinner': 8.0, 'Cars 3': 6.7, 'Pet Sematary': 5.8, 'Escape Room': 6.3, 'Instant Family': 7.3, 'Terminator: Dark Fate': 6.4, 'Polar': 6.3, 'Hellboy': 5.2, 'Shot Caller': 7.3, 'The Ritual': 6.3, 'Sacred Games': 8.8, 'Lost in Space': 7.2, 'Jumanji: The Next Level': 7.0, 'Blockers': 6.2, 'Extremely Wicked, Shockingly Evil and Vile': 6.6, 'Good Time': 7.3, 'American Assassin': 6.2, 'Jigsaw': 5.8, 'The Mountain Between Us': 6.4, 'Christopher Robin': 7.3, 'Killing Eve': 8.3, 'Hostiles': 7.2, \"A Dog's Purpose\": 7.2, 'The Marvelous Mrs. Maisel': 8.8, 'When They See Us': 9.0, 'The Highwaymen': 6.9, 'The King': 7.3, 'Booksmart': 7.2, 'The Spy Who Dumped Me': 6.0, 'Brightburn': 6.2, 'Frozen II': 7.2, 'I Am Mother': 6.8, 'Chilling Adventures of Sabrina': 7.7, 'Ready or Not': 6.9, '12 Strong': 6.5, 'Maniac': 7.8, 'Mile 22': 6.1, 'Death Wish': 6.4, \"Daddy's Home 2\": 6.0, 'Robin Hood': 5.3, 'Sharp Objects': 8.2, 'Andhadhun': 8.4, 'Johnny English Strikes Again': 6.2, 'Dumbo': 6.3, \"Isn't It Romantic\": 5.9, 'Watchmen': 8.0, 'Enes Batur Hayal mi Gerçek mi?': 4.2, 'Titans': 7.9, 'The Orville': 8.0, 'The Snowman': 5.1, '1917': 8.6, 'Paddington 2': 7.8, 'The Babysitter': 6.3, 'Russian Doll': 7.9, 'Eighth Grade': 7.4, 'Mandy': 6.6, 'Brawl in Cell Block 99': 7.1, 'Outlaw King': 6.9, 'The Emoji Movie': 3.2, 'A Ghost Story': 6.8, 'Santa Clarita Diet': 7.8, 'The Good Doctor': 8.2, 'Mowgli: Legend of the Jungle': 6.5, 'Rambo: Last Blood': 6.2, 'Only The Brave': 7.7, 'The Kissing Booth': 6.1, 'Sorry to Bother You': 6.9, 'Doctor Sleep': 7.5, 'Pitch Perfect 3': 5.8, 'The Lighthouse': 7.8, 'The Two Popes': 7.6, 'A Series of Unfortunate Events': 7.8, 'Suspiria': 6.8, ' Chernobyl': 9.5, 'Klaus': 8.2, 'Fifty Shades Freed': 4.5, 'Hotel Transylvania 3: Summer Vacation': 6.3, 'Fighting with My Family': 7.1, 'Twin Peaks': 8.5, 'The Square': 7.2, 'Alpha': 6.7, 'Atypical': 8.3, 'Angel Has Fallen': 6.4, 'After Life': 8.4, 'Insidious: The Last Key': 5.7, 'Velvet Buzzsaw': 5.7, 'The First Purge': 5.1, 'The Beguiled': 6.3, 'The House That Jack Built': 6.8, 'Jojo Rabbit': 8.0, 'Tully': 7.0, 'Cold Pursuit': 6.2, 'Battle of the Sexes': 6.7, 'Gemini Man': 5.7, 'Big Mouth': 8.0, 'Hustlers': 6.4, 'Shoplifters': 8.0, 'The Lego Movie 2: The Second Part': 6.6, 'Unbelievable': 8.5, 'Happy Death Day 2U': 6.2, 'Good Omens': 8.1, 'Loving Vincent': 7.8, 'The Space Between Us': 6.4, '47 Meters Down': 5.6, 'Hunter Killer': 6.6, 'Peppermint': 6.5, 'Crawl': 6.2, 'Annabelle Comes Home': 5.9, 'I Feel Pretty': 5.5, 'Ferdinand': 6.7, 'Maleficent: Mistress of Evil': 6.8, 'Sanju': 7.8, 'Detroit': 7.3, '1922': 6.3, 'Free Solo': 8.2, 'The Sisters Brothers': 7.0, ' Black Mirror': 6.0, 'Godless': 8.3, 'Rough Night': 5.2, 'Marighella': 3.0, \"Dr. Seuss' The Grinch\": 6.3, \"I Don't Feel at Home in This World Anymore.\": 6.9, 'Manhunt': 8.1, 'Before I Fall': 6.4, 'The Christmas Chronicles': 7.1, 'Captive State': 6.0, 'Narcos: Mexico': 8.4, 'Papillon': 7.2, 'Extinction': 5.8, 'Cold War': 7.6, 'Leave No Trace': 7.2, 'Scary Stories to Tell in the Dark': 6.2, 'Beautiful Boy': 7.3, 'Jungle': 6.7, 'CHIPS': 6.0, 'First Reformed': 7.1, 'How It Ends': 5.0, 'Adrift': 6.6, 'Hotel Mumbai': 7.6, 'Can You Ever Forgive Me?': 7.1, 'The House with a Clock in Its Walls': 6.0, \"Blumhouse's Truth or Dare\": 5.1, 'Cobra Kai': 8.8, 'Good Boys': 6.7, 'Raees': 6.8, 'Flatliners': 5.2, 'A Wrinkle in Time': 4.2, 'War Machine': 6.0, 'A Bad Moms Christmas': 5.6, 'Anna': 6.6, 'When We First Met': 6.4, 'Cumali Ceber: Allah Seni Alsin': 1.0, 'Always Be My Maybe': 6.8, 'Climax': 7.1, 'Fist Fight': 5.6, 'The House': 5.6, 'Mudbound': 7.4, 'Uri: The Surgical Strike': 8.4, 'Disenchantment': 7.2, 'Stronger': 6.9, 'Hotel Artemis': 6.1, 'The Upside': 6.9, 'Fractured': 6.3, 'The Secret Life of Pets 2': 6.5, 'Set It Up': 6.5, 'Capharnaüm': 8.4, 'GLOW': 8.0, 'Rings': 4.5, 'To the Bone': 6.8, 'Unsane': 6.4, 'Apostle': 6.3, 'Suburbicon': 5.7, 'Mid90s': 7.4, \"The Girl in the Spider's Web\": 6.1, 'Shaft': 6.4, \"The Dead Don't Die\": 5.5, 'O Mecanismo': 8.5, 'Euphoria': 8.4, 'The Meyerowitz Stories': 6.9, \"The Zookeeper's Wife\": 7.0, 'The Old Man & the Gun': 6.7, 'Dolemite Is My Name': 7.3, 'The Guilty': 7.5, 'Arctic': 6.8, 'Barry': 8.3, 'If Beale Street Could Talk': 7.1, 'In the Tall Grass': 5.4, 'Burning': 7.6, 'American Animals': 7.0, 'Crimea': 7.0, 'The Dirt': 7.0, 'Anon': 6.1, 'Carnival Row': 8.0, 'The Terror': 8.0, 'Icarus': 7.9, 'Castle Rock': 7.6, 'Mary Queen of Scots': 6.3, 'Girls Trip': 6.2, \"Child's Play\": 5.8, 'Verónica': 6.2, 'The Hustle': 5.4, 'The Alienist': 7.7, 'Snatched': 4.5, 'Kidnap': 5.9, 'Dead to Me': 8.1, 'Sierra Burgess Is a Loser': 5.9, 'Revenge': 6.3, 'Cargo': 6.3, 'Peter Rabbit': 6.5, 'Fyre': 7.2, 'Race 3': 2.0, 'Ingrid Goes West': 6.6, 'The Laundromat': 6.3, 'The Wife': 7.2, 'Overboard': 6.0, 'The Silence': 5.3, 'Hold the Dark': 5.6, 'Everything, Everything': 6.4, 'Night School': 5.6, 'Ayla: The Daughter of War': 8.5, 'The Peanut Butter Falcon': 7.7, 'The Gifted': 7.4, 'Arif V 216': 7.2, 'Happy!': 8.3, 'Life of the Party': 5.6, 'Thoroughbreds': 6.7, 'Smallfoot': 6.6, 'In the Shadow of the Moon': 6.2, 'Victoria & Abdul': 6.8, 'Uncut Gems': 8.0, 'Serenity': 5.3, 'Five Feet Apart': 7.2, 'K.G.F: Chapter 1': 8.2, 'The Curse of La Llorona': 5.4, 'The Open House': 3.2, 'The Shack': 6.3, 'Mute': 5.4, 'The Perfection': 6.1, 'IO': 4.7, 'Young Sheldon': 7.3, 'Final Space': 8.3, 'Summer of 84': 6.7, 'Sleepless': 5.6, 'Castlevania': 8.1, 'The Protector': 7.0, 'Roman J. Israel, Esq.': 6.4, 'See': 7.6, 'Dragged Across Concrete': 7.0, 'Ghost Stories': 6.4, 'His Dark Materials': 8.0, 'The Guernsey Literary and Potato Peel Pie Society': 7.4, 'Stuber': 6.1, 'Winchester': 5.4, 'The Discovery': 6.3, 'Blue Planet II': 9.4, 'The Glass Castle': 7.1, 'Unlocked': 6.2, 'The Perfect Date': 5.8, 'The Endless': 6.5, 'Elite': 7.6, 'Stan & Ollie': 7.2, 'Pain and Glory': 7.7, 'Little Women': 8.2, 'Loveless': 7.6, 'Ma': 5.6, 'The Titan': 4.8, 'Replicas': 5.5, 'Mirage': 7.4, 'I Kill Giants': 6.2, 'Operation Finale': 6.6, 'Braven': 6.1, 'Under the Silver Lake': 6.5, 'Holmes & Watson': 3.8, 'Padmaavat': 7.0, 'In the Fade': 7.1, 'The Darkest Minds': 5.7, 'Boy Erased': 6.9, 'Home Again': 5.8, 'The 15:17 to Paris': 5.2, 'What the Health': 7.5, 'The Nutcracker and the Four Realms': 5.5, 'Downton Abbey': 7.5, 'Table 19': 5.8, 'American Vandal': 8.2, 'Safe': 7.3, 'The Strangers: Prey at Night': 5.2, 'Escape Plan 2: Hades': 3.8, 'Gully Boy': 8.2, 'The Farewell': 7.7, \"Dumplin'\": 6.6, 'The Rain': 6.3, 'Dracula': 6.9, 'The Hate U Give': 7.4, ' Sherlock': 7.6, 'Everybody Knows': 6.9, ' Attack on Titan': 10.0, 'Borg vs. McEnroe': 7.0, 'Stree': 7.6, 'Gringo': 6.1, 'Game Over, Man!': 5.4, 'Captain Underpants: The First Epic Movie': 6.2, 'The Ottoman Lieutenant': 6.6, 'Leaving Neverland': 7.0, 'Badhaai Ho': 8.0, 'Kaabil': 7.1, 'After': 5.4, 'Mersal': 7.7, 'Slender Man': 3.2, 'Thelma': 7.0, '22 July': 6.7, 'Tau': 5.8, 'Nothing to Lose': 5.5, 'The Wandering Earth': 6.0, 'Cats': 2.8, ' Rick and Morty': 9.3, 'Good Girls': 7.9, 'Doom Patrol': 8.0, 'Goodbye Christopher Robin': 7.1, 'Kabir Singh': 7.1, 'They Shall Not Grow Old': 8.3, 'Wonder Wheel': 6.2, 'Super Troopers 2': 6.1, 'The Morning Show': 8.4, 'Zero': 5.5, \"At Eternity's Gate\": 6.9, 'Book Club': 6.1, 'The Wall': 6.2, 'The Book of Henry': 6.6, 'Batwoman': 3.4, 'The Deuce': 8.1, 'Mirzapur': 8.5, 'Tolkien': 6.8, 'The Professor and the Madman': 7.3, 'White Boy Rick': 6.4, 'Blindspotting': 7.4, 'The Happytime Murders': 5.4, 'A Discovery of Witches': 8.1, 'Our Planet': 9.3, 'Between Two Ferns: The Movie': 6.1, 'Raazi': 7.8, 'Disobedience': 6.6, 'Vikram Vedha': 8.7, 'Eli': 5.8, 'Cam': 5.9, 'Destroyer': 6.2, 'Alias Grace': 7.8, 'On Body and Soul': 7.6, 'Destination Wedding': 6.0, 'Jim & Andy: The Great Beyond': 7.7, 'The Lego Ninjago Movie': 6.0, 'High Life': 5.9, 'Last Flag Flying': 6.9, 'Another Life': 4.9, \"God's Own Country\": 7.7, 'Incident in a Ghostland': 6.4, 'Inhumans': 5.0, 'Anne with an E': 8.6, 'Professor Marston & the Wonder Women': 7.1, 'Dear White People': 6.2, 'Megan Leavey': 7.1, ' Stranger Things': 8.6, 'Tiger Zinda Hai': 6.0, 'Succession': 8.4, 'Patrick Melrose': 8.1, 'Jolly LLB 2': 7.2, 'Last Christmas': 6.5, 'Berlin Syndrome': 6.3, 'The Mist': 5.4, 'A Fantastic Woman': 7.2, 'The Wizard of Lies': 6.8, 'Insatiable': 6.6, 'All Eyez on Me': 5.8, 'Sahsiyet': 9.2, 'Dragon Ball Super: Broly': 7.9, \"Won't You Be My Neighbor?\": 8.4, 'The Bye Bye Man': 4.2, '2.0': 6.3, 'Runaways': 7.1, 'The Spy': 7.9, 'Aftermath': 5.7, 'Greta': 6.0, 'College Romance': 9.2, 'Bao': 7.5, 'Midnight Sun': 6.6, 'Messiah': 7.9, 'Three Identical Strangers': 7.7, 'Wild Wild Country': 8.2, 'Marrowbone': 6.6, 'El bar': 6.3, 'Cult of Chucky': 5.2, 'Hindi Medium': 7.8, 'Parmanu: The Story of Pokhran': 7.7, 'Living with Yourself': 7.3, 'Black Lightning': 6.2, 'Wildlife': 6.9, 'The Kominsky Method': 8.2, 'Second Act': 5.8, 'Justice League Dark': 7.1, 'Dave Chappelle: Sticks & Stones': 8.5, ' The Mandalorian': 9.2, 'Counterpart': 8.1, 'Border': 7.0, 'iBoy': 6.0, 'Midway': 6.9, 'Secret Superstar': 7.9, 'Arjun Reddy': 8.2, 'Conversations with a Killer: The Ted Bundy Tapes': 7.8, 'Fullmetal Alchemist': 5.3, 'Chhapaak': 4.6, 'Close': 5.7, 'Mom and Dad': 5.5, 'The Prodigy': 5.9, 'Bharat': 5.4, 'The Outsider': 6.3, 'Pad Man': 8.0, 'Sonu Ke Titu Ki Sweety': 7.1, \"Don't Worry, He Won't Get Far on Foot\": 6.9, 'Calibre': 6.7, 'Leatherface': 5.0, 'Dogman': 7.2, \"Charlie's Angels\": 4.2, 'Tumbbad': 8.2, 'On the Basis of Sex': 7.0, 'Unfriended: Dark Web': 5.9, '2:22': 5.8, 'Jab Harry Met Sejal': 5.3, 'Operation Brothers': 6.5, 'Traffik': 6.0, \"Evil Genius: The True Story of America's Most Diabolical Bank Heist\": 7.6, 'Early Man': 6.1, 'The Little Hours': 5.8, 'Manifest': 7.2, 'Late Night': 6.5, 'Little Evil': 5.7, 'A Prayer Before Dawn': 6.9, 'The Night Comes for Us': 7.0, 'What We Do in the Shadows': 8.4, 'The Princess Switch': 6.0, 'The Dark Crystal: Age of Resistance': 8.6, 'The Hurricane Heist': 5.1, 'Future Man': 7.8, 'Badla': 7.9, ' The Witcher': 8.7, 'Song to Song': 5.7, 'Smurfs: The Lost Village': 6.0, 'Like Father': 6.1, 'Sand Castle': 6.3, 'The Good Fight': 8.3, 'Rangasthalam 1985': 8.4, 'Beirut': 6.4, 'Tulip Fever': 6.2, 'Breathe': 7.1, 'Yeh Meri Family': 9.3, 'Kota Factory': 9.2, 'Aile Arasinda': 7.8, 'Lucky': 7.3, 'Terminal': 5.3, 'Beyond Skyline': 5.3, 'Wish Upon': 5.0, 'The Report': 7.2, 'The Art of Self-Defense': 6.7, 'Flames': 9.3, 'My Cousin Rachel': 6.0, '9-1-1': 7.7, 'The Breadwinner': 7.7, 'Thugs of Hindostan': 4.0, 'The Boy Who Harnessed the Wind': 7.6, 'Marshall': 7.2, 'Simmba': 6.3, 'Hanna': 7.5, 'Father Figures': 5.5, 'Friends from College': 6.8, 'Toilet: A Love Story': 7.2, 'What Men Want': 5.2, 'Jeepers Creepers III': 4.0, 'Black Summer': 6.3, 'Loving Pablo': 6.3, 'The Week Of': 5.1, 'Colette': 6.7, '6 Days': 6.2, 'Super 30': 8.1, 'Once Upon a Time in Venice': 5.3, 'The Miseducation of Cameron Post': 6.6, 'Wine Country': 5.4, 'The Resident': 7.6, 'Fahrenheit 451': 4.9, 'Super Dark Times': 6.6, 'Article 15': 8.2, 'Red Dead Redemption II': 9.7, 'Koombiyo': 9.6, 'Every Day': 6.4, 'Salvation': 7.1, 'Bareilly Ki Barfi': 7.5, 'Ölümlü Dünya': 7.7, 'Naked': 5.4, 'Batman Ninja': 5.6, 'Abominable': 7.0, 'The Professor': 6.7, 'The Vietnam War': 9.1, 'The Possession of Hannah Grace': 5.2, 'Rim of the World': 5.1, 'Bad Samaritan': 6.4, 'Wheelman': 6.4, 'Unicorn Store': 5.5, 'Escape at Dannemora': 8.0, 'Creep 2': 6.4, 'Cloak & Dagger': 6.8, 'Feud: Bette and Joan': 8.5, 'Crooked House': 6.3, 'Deadwood: The Movie': 7.5, 'The 12th Man': 7.4, 'The Party': 6.6, 'Apollo 11': 8.2, \"Don't F**k with Cats: Hunting an Internet Killer\": 8.2, 'The Keepers': 8.1, 'Juliet, Naked': 6.6, 'The Wild Pear Tree': 8.1, 'Genius': 8.4, 'Chalard games goeng': 7.6, 'Secret Obsession': 4.3, 'Fahrenheit 11/9': 6.9, 'Welcome to Marwen': 6.1, 'Yellowstone': 8.4, 'Goosebumps 2: Haunted Halloween': 5.6, 'Ben Is Back': 6.7, 'Bombshell': 6.8, 'War': 6.6, 'Homecoming': 7.5, 'Dora and the Lost City of Gold': 6.0, 'A Christmas Prince': 5.7, 'Security': 5.7, 'The Great Hack': 7.0, \"Brad's Status\": 6.5, 'Swamp Thing': 7.7, 'Teen Titans GO! to the Movies': 6.8, 'The Family Man': 8.7, 'Bharath Ane Nenu': 7.7, 'Brigsby Bear': 7.3, ' Mr. Robot': 10.0, 'Knightfall': 6.7, 'Chhichhore': 8.1, 'A Beautiful Day in the Neighborhood': 7.6, 'Years and Years': 8.4, 'Newton': 7.7, 'Derry Girls': 8.4, 'Prospect': 6.2, 'Girlboss': 7.0, 'Ibiza': 5.2, 'Judy': 7.0, 'Someone Great': 6.2, 'Rememory': 6.2, 'The Rookie': 8.0, 'The Act': 8.0, 'The Tick': 7.4, 'The Society': 7.0, 'Raid': 7.4, 'Who Is America?': 8.3, 'My Friend Dahmer': 6.2, 'Look Away': 6.2, 'Mr. Mercedes': 7.9, 'The Beach Bum': 5.5, 'Let It Snow': 5.8, 'Saaho': 5.3, 'Mayhem': 6.3, ' Westworld': 8.2, 'Legacies': 7.5, 'Krypton': 7.0, 'Pose': 8.6, 'A Private War': 6.7, 'Raatchasan': 8.7, 'Babylon Berlin': 8.4, 'Skin': 7.3, 'Blade of the Immortal': 6.8, 'Kingdom': 8.2, 'The Clovehitch Killer': 6.5, 'The Art of Racing in the Rain': 7.5, 'Tubelight': 4.0, '96': 8.7, 'A Rainy Day in New York': 6.7, 'Vox Lux': 5.9, 'Student of the Year 2': 2.5, 'Everything Sucks!': 7.5, ' Love, Death & Robots': 7.8, 'Sandy Wexler': 5.1, 'SEAL Team': 7.4, 'God of War': 9.6, 'Life Itself': 6.7, 'Pew News': 9.3, 'Quicksand': 7.6, 'Tall Girl': 5.2, 'Recep Ivedik 5': 3.3, 'Churchill': 6.4, 'New Amsterdam': 8.1, 'How to Be a Latin Lover': 5.9, 'The Addams Family': 5.8, 'The Aeronauts': 6.6, 'Alex Strangelove': 6.3, 'The Tale': 7.3, 'The Mick': 7.8, 'Singularity': 3.9, 'Missing Link': 6.7, 'Gypsy': 6.9, 'Queer Eye': 8.6, 'I Can Only Imagine': 7.3, 'The Angry Birds Movie 2': 6.4, 'Unforgettable': 5.1, 'The Insult': 7.7, 'The Super': 6.0, 'John Wick Chapter 2: Wick-vizzed': 7.8, 'Mulk': 6.7, 'Togo': 8.2, 'Time Trap': 6.5, 'Private Life': 7.2, 'Forever My Girl': 6.7, 'Official Secrets': 7.3, 'OtherLife': 6.3, 'The Order': 6.9, 'The Kid Who Would Be King': 6.0, 'The Aftermath': 6.3, 'Müslüm': 7.9, 'First They Killed My Father': 7.2, 'The American Meme': 7.5, 'The Man with the Iron Heart': 6.4, 'Next Gen': 6.6, 'Columbus': 7.2, 'Occupation': 5.4, 'Assassination Nation': 5.9, 'Gotti': 4.8, \"A Dog's Journey\": 7.4, 'Hangman': 5.2, 'Portrait of a Lady on Fire': 8.3, 'The Dragon Prince': 8.4, '7 Days in Entebbe': 5.8, 'The Man Who Killed Don Quixote': 6.4, 'A Futile and Stupid Gesture': 6.8, 'El Chapo': 7.9, ' The Walking Dead': 6.8, 'The I-Land': 4.4, 'Abducted in Plain Sight': 6.8, 'The Package': 5.5, 'Batman: Gotham by Gaslight': 6.7, 'Sarkar': 6.9, 'The Command': 6.6, 'Amityville: The Awakening': 4.8, 'Midnight, Texas': 7.4, 'Kidding': 8.0, 'Kin': 5.8, 'Breaking In': 5.4, 'BPM (Beats Per Minute)': 7.4, 'Blinded by the Light': 6.9, 'The Layover': 4.7, 'Kesari': 7.4, 'The Rider': 7.4, 'October': 7.5, 'Hell Fest': 5.5, 'Seven Seconds': 7.7, 'Catch-22': 7.8, \"A Dog's Way Home\": 6.7, 'Dynasty': 7.3, 'The Hole in the Ground': 5.7, 'Electric Dreams': 7.3, 'Thunder Road': 7.1, 'Falling Inn Love': 5.6, 'Radius': 6.2, 'Happy End': 6.7, 'Overdrive': 5.4, 'The Vault': 4.8, 'Ricky Gervais: Humanity': 7.9, '12 Feet Deep': 5.6, 'Charmed': 4.4, '24 Hours to Live': 5.7, 'Unplanned': 5.8, 'A Taxi Driver': 7.8, 'Daybreak': 6.8, 'S.W.A.T.': 6.9, 'Black Butterfly': 6.1, 'The Vanishing': 5.8, 'The Man Who Invented Christmas': 7.0, 'Motherless Brooklyn': 7.0, '47 Meters Down: Uncaged': 5.0, 'McMafia': 7.7, 'Peranbu': 9.1, 'How to Sell Drugs Online (Fast)': 7.9, 'Goon: Last of the Enforcers': 5.8, 'The Kindergarten Teacher': 6.7, 'Tanhaji: The Unsung Warrior': 8.6, 'Thank You for Your Service': 6.5, 'Uncle Drew': 5.7, 'Newness': 6.4, 'The Death of Superman': 7.3, 'Veere Di Wedding': 3.2, 'One Day at a Time': 8.2, 'Collateral': 6.8, 'In Darkness': 5.8, 'Troy: Fall of a City': 3.8, 'The Knight Before Christmas': 5.5, 'Dirty John': 7.1, 'Wounds': 4.1, 'Ghoul': 7.1, 'Shaadi Mein Zaroor Aana': 7.6, 'Happy as Lazzaro': 7.6, 'One Cut of the Dead': 7.7, 'Masum': 8.6, 'The Game Changers': 8.0, 'Teen Titans: The Judas Contract': 7.0, 'The Politician': 7.6, 'What/If': 6.3, 'The Ghazi Attack': 7.6, 'Mary Shelley': 6.4, 'Brexit': 7.0, 'Mark Felt: The Man Who Brought Down The White House': 6.4, 'Perfectos desconocidos': 7.0, 'Chappaquiddick': 6.5, 'Beach Rats': 6.4, 'Zashchitniki': 4.0, 'Gaga: Five Foot Two': 7.0, 'Down a Dark Hall': 5.1, 'XX': 4.5, 'Britannia': 6.7, 'Nightflyers': 5.9, 'GOLD': 7.3, 'Siberia': 4.3, 'Enaaya': 8.9, \"Olaf's Frozen Adventure\": 5.4, 'You Get Me': 4.6, 'The Dawn Wall': 8.1, 'Vivegam': 5.7, 'Cold Skin': 6.0, 'The Villainess': 6.7, 'Batman and Harley Quinn': 5.9}\n"
     ]
    }
   ],
   "source": [
    "print(movie_dict)"
   ]
  }
 ],
 "metadata": {
  "kernelspec": {
   "display_name": "Python 3",
   "language": "python",
   "name": "python3"
  },
  "language_info": {
   "codemirror_mode": {
    "name": "ipython",
    "version": 3
   },
   "file_extension": ".py",
   "mimetype": "text/x-python",
   "name": "python",
   "nbconvert_exporter": "python",
   "pygments_lexer": "ipython3",
   "version": "3.7.4"
  }
 },
 "nbformat": 4,
 "nbformat_minor": 2
}
